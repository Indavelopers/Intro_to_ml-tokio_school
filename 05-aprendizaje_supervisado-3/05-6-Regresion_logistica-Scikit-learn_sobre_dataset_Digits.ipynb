{
 "cells": [
  {
   "cell_type": "markdown",
   "metadata": {},
   "source": [
    "# Regresión logística: Scikit-learn sobre dataset Digits por OCR\n",
    "\n",
    "## ¿Qué vamos a hacer?\n",
    "- Descargar el dataset de dígitos escritos a mano para clasificarlo por OCR (\"optical character recognition\").\n",
    "- Preprocesar el dataset usando métodos de Scikit-learn.\n",
    "- Entrenar un modelo de clasificación multiclase por CV con Scikit-learn.\n",
    "\n",
    "OCR es un conjunto de técnicas relacionadas con el machine-learning y el deep-learning o inteligencia artificial que trata de intentar reconocer caracteres escritos a mano de forma visual.\n",
    "\n",
    "Como el conjunto de caracteres es relativamente pequeño (10 clases), es un modelo que en ocasiones podemos resolver por clasificación logística o SVM de una forma sencilla.\n",
    "\n",
    "- Puedes encontrar las características del dataset aquí: [Optical recognition of handwritten digits dataset](https://scikit-learn.org/stable/datasets/index.html#digits-dataset)\n",
    "- Puedes cargarlo con esta función: [sklearn.datasets.load_digits](https://scikit-learn.org/stable/modules/generated/sklearn.datasets.load_digits.html)\n",
    "- Puedes tener como referencia este notebook: [Recognizing hand-written digits](https://scikit-learn.org/stable/auto_examples/classification/plot_digits_classification.html)\n",
    "\n",
    "Repite los pasos del ejercicio anterior para entrenar un modelo de ML de OCR sobre este dataset con el método LogisticRegression de Scikit-learn:"
   ]
  },
  {
   "cell_type": "code",
   "execution_count": null,
   "metadata": {},
   "outputs": [],
   "source": [
    "# TODO: Importa todos los módulos necesarios en esta celda"
   ]
  },
  {
   "cell_type": "markdown",
   "metadata": {},
   "source": [
    "## Cargar el dataset Digits\n",
    "\n",
    "Antes de comenzar a trabajar con él, representa gráficamente algunos de los ejemplos y sus clases o números asociados:"
   ]
  },
  {
   "cell_type": "code",
   "execution_count": null,
   "metadata": {},
   "outputs": [],
   "source": [
    "# TODO: Carga el dataset Digits como arrays X e Y y representa algunos de los ejemplos"
   ]
  },
  {
   "cell_type": "markdown",
   "metadata": {},
   "source": [
    "## Preprocesar los datos\n",
    "\n",
    "Preprocesa los datos con métodos de Scikit-learn, del mismo modo que hiciste en el ejercicio de Scikit-learn de regresión lineal:\n",
    "\n",
    "- Reordénalos aleatoriamente.\n",
    "- Normalízalos si es necesario.\n",
    "- Divídelos en subsets de entrenamiento y test.\n",
    "\n",
    "En esta ocasión, de nuevo, haremos la validación cruzada por K-fold."
   ]
  },
  {
   "cell_type": "code",
   "execution_count": null,
   "metadata": {},
   "outputs": [],
   "source": [
    "# TODO: Reordena los datos aleatoriamente"
   ]
  },
  {
   "cell_type": "code",
   "execution_count": null,
   "metadata": {},
   "outputs": [],
   "source": [
    "# TODO: Normalízalos si es necesario"
   ]
  },
  {
   "cell_type": "code",
   "execution_count": null,
   "metadata": {},
   "outputs": [],
   "source": [
    "# TODO: Divídelos en subsets de entrenamiento y test"
   ]
  },
  {
   "cell_type": "markdown",
   "metadata": {},
   "source": [
    "## Entrenar un modelo inicial\n",
    "- Entrena un modelo inicial sobre el subset de entrenamiento sin regularización.\n",
    "- Comprueba la idoneidad del modelo y reentrénalo si es necesario.\n",
    "\n",
    "Para ello, usa [sklearn.linear_model.LogisticRegression](https://scikit-learn.org/stable/modules/generated/sklearn.linear_model.LogisticRegression.html) con esquema OvR (\"one-vs-rest\", una clase contra el resto).\n",
    "\n",
    "Evalúalo sobre el subset de test con su método *score()*:"
   ]
  },
  {
   "cell_type": "code",
   "execution_count": null,
   "metadata": {},
   "outputs": [],
   "source": [
    "# TODO: Entrena tu modelo sobre el subset de entrenamiento sin regularizar y evalúalo sobre el de test"
   ]
  },
  {
   "cell_type": "markdown",
   "metadata": {},
   "source": [
    "## Hallar la regularización óptima por validación cruzada\n",
    "- Entrena un modelo por cada valor de regularización a considerar.\n",
    "- Entrénalos y evalúalos sobre un fold del subset de entrenamiento usando K-fold.\n",
    "- Escoge el modelo y su regularización óptimas.\n",
    "\n",
    "Recuerda que el método LogisticRegression usa el parámetro de regularización L2 *C*:"
   ]
  },
  {
   "cell_type": "code",
   "execution_count": null,
   "metadata": {},
   "outputs": [],
   "source": [
    "# TODO: Entrena un modelo diferente por cada C sobre un fold de K-fold diferente"
   ]
  },
  {
   "cell_type": "markdown",
   "metadata": {},
   "source": [
    "## Evaluar el modelo finalmente sobre el subset de test\n",
    "\n",
    "- Muestra los coeficientes e intercept del mejor modelo.\n",
    "- Evalúa el mejor modelo sobre el subset de test inicial.\n",
    "- Calcula los aciertos y fallos sobre el subset de test y represéntalos gráficamente.\n",
    "\n",
    "Como este dataset es muy visual, nunca mejor dicho, trata de mostrar visualmente todos los ejemplos en los que el modelo ha fallado, y piensa si tú serías capaz de reconocer dicho número.\n",
    "\n",
    "*En ocasiones, hasta a un humano le costaría descifrar qué número es en función de la letra del que escribe 8-).*"
   ]
  },
  {
   "cell_type": "code",
   "execution_count": null,
   "metadata": {},
   "outputs": [],
   "source": [
    "# TODO: Evalúa el mejor modelo sobre el subset de test inicial y representa sus fallos gráficamente"
   ]
  }
 ],
 "metadata": {
  "environment": {
   "name": "common-cpu.m54",
   "type": "gcloud",
   "uri": "gcr.io/deeplearning-platform-release/base-cpu:m54"
  },
  "kernelspec": {
   "display_name": "Python 3",
   "language": "python",
   "name": "python3"
  },
  "language_info": {
   "codemirror_mode": {
    "name": "ipython",
    "version": 3
   },
   "file_extension": ".py",
   "mimetype": "text/x-python",
   "name": "python",
   "nbconvert_exporter": "python",
   "pygments_lexer": "ipython3",
   "version": "3.7.8"
  }
 },
 "nbformat": 4,
 "nbformat_minor": 4
}
