{
 "cells": [
  {
   "cell_type": "markdown",
   "metadata": {},
   "source": [
    "# Árboles de decisión: Clasificación\n",
    "\n",
    "## ¿Qué vamos a hacer?\n",
    "- Entrenar un árbol de decisión de clasificación.\n",
    "- Representar el árbol de decisión y la superficie de decisión.\n",
    "\n",
    "Vamos a entrenar ahora un modelo de ML de clasificación por árboles de decisión y representarlo de forma gráfica, para comprender mejor el funcionamiento de este tipo de modelos.\n",
    "\n",
    "En las referencias, encontrarás un ejercicio que entrena un árbol de decisión para clasificación y representa el árbol y su superficie de decisión para varios pares de características. Al tener una alta dimensionalidad el dataset y modelo, para representar la superficie en una gráfica 2D necesitamos comparar las características en parejas de 2.\n",
    "\n",
    "Entrena y representa dicho modelo en este ejercicio.\n",
    "\n",
    "Referencias:\n",
    "- [Decision trees: classification](https://scikit-learn.org/stable/modules/tree.html#classification)\n",
    "- [sklearn.tree.DecisionTreeClassifier](https://scikit-learn.org/stable/modules/generated/sklearn.tree.DecisionTreeClassifier.html)\n",
    "- [Plot the decision surface of a decision tree on the iris dataset](https://scikit-learn.org/stable/auto_examples/tree/plot_iris_dtc.html)"
   ]
  },
  {
   "cell_type": "code",
   "execution_count": null,
   "metadata": {},
   "outputs": [],
   "source": [
    "# TODO: Entrena y representa el modelo de árbol de decisión"
   ]
  },
  {
   "cell_type": "markdown",
   "metadata": {},
   "source": [
    "Y ahora, fijándote en el código que has utilizado, *¿te atreves a resolverlo para el dataset de reconocimiento de vinos?*\n",
    "\n",
    "- [Wine recognition dataset](https://scikit-learn.org/stable/datasets/index.html#wine-recognition-dataset)\n",
    "- [sklearn.datasets.load_wine](https://scikit-learn.org/stable/modules/generated/sklearn.datasets.load_wine.html)"
   ]
  },
  {
   "cell_type": "code",
   "execution_count": null,
   "metadata": {},
   "outputs": [],
   "source": [
    "# TODO: Entrena y representa un árbol de decisión para el dataset de reconocimiento de vinos"
   ]
  }
 ],
 "metadata": {
  "environment": {
   "name": "common-cpu.m54",
   "type": "gcloud",
   "uri": "gcr.io/deeplearning-platform-release/base-cpu:m54"
  },
  "kernelspec": {
   "display_name": "Python 3",
   "language": "python",
   "name": "python3"
  },
  "language_info": {
   "codemirror_mode": {
    "name": "ipython",
    "version": 3
   },
   "file_extension": ".py",
   "mimetype": "text/x-python",
   "name": "python",
   "nbconvert_exporter": "python",
   "pygments_lexer": "ipython3",
   "version": "3.7.8"
  }
 },
 "nbformat": 4,
 "nbformat_minor": 4
}
