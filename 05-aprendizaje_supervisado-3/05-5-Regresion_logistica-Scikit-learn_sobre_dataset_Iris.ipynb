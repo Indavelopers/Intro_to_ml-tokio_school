{
 "cells": [
  {
   "cell_type": "markdown",
   "metadata": {},
   "source": [
    "# Regresión logística: Scikit-learn sobre dataset Iris\n",
    "\n",
    "## ¿Qué vamos a hacer?\n",
    "- Descargar el dataset Iris.\n",
    "- Preprocesar el dataset usando métodos de Scikit-learn.\n",
    "- Entrenar un modelo de clasificación multiclase por validación cruzada con Scikit-learn.\n",
    "\n",
    "Ahora vamos a resolver el mismo modelo usando métodos de Scikit-learn.\n",
    "\n",
    "Puedes tener como referencia este ejemplo: [Logistic regression 3-class classifier](https://scikit-learn.org/stable/auto_examples/linear_model/plot_iris_logistic.html):"
   ]
  },
  {
   "cell_type": "code",
   "execution_count": null,
   "metadata": {},
   "outputs": [],
   "source": [
    "# TODO: Importa todos los módulos necesarios en esta celda"
   ]
  },
  {
   "cell_type": "markdown",
   "metadata": {},
   "source": [
    "## Cargar el dataset Iris"
   ]
  },
  {
   "cell_type": "code",
   "execution_count": null,
   "metadata": {},
   "outputs": [],
   "source": [
    "# TODO: Carga el dataset Iris como arrays X e Y"
   ]
  },
  {
   "cell_type": "markdown",
   "metadata": {},
   "source": [
    "## Preprocesar los datos\n",
    "\n",
    "Preprocesa los datos con métodos de Scikit-learn, del mismo modo que hiciste en el ejercicio de Scikit-learn de regresión lineal:\n",
    "\n",
    "- Reordénalos aleatoriamente.\n",
    "- Normalízalos si es necesario.\n",
    "- Divídelos en subsets de entrenamiento y test.\n",
    "\n",
    "En esta ocasión, de nuevo, haremos la validación cruzada por K-fold, ya que el dataset es muy pequeño (150 ejemplos)."
   ]
  },
  {
   "cell_type": "code",
   "execution_count": null,
   "metadata": {},
   "outputs": [],
   "source": [
    "# TODO: Reordena los datos aleatoriamente"
   ]
  },
  {
   "cell_type": "code",
   "execution_count": null,
   "metadata": {},
   "outputs": [],
   "source": [
    "# TODO: Normalízalos si es necesario"
   ]
  },
  {
   "cell_type": "code",
   "execution_count": null,
   "metadata": {},
   "outputs": [],
   "source": [
    "# TODO: Divídelos en subsets de entrenamiento y test"
   ]
  },
  {
   "cell_type": "markdown",
   "metadata": {},
   "source": [
    "## Entrenar un modelo inicial\n",
    "- Entrena un modelo inicial sobre el subset de entrenamiento sin regularización.\n",
    "- Comprueba la idoneidad del modelo y reentrénalo si es necesario.\n",
    "\n",
    "La función de Scikit-learn que puedes utilizar es [sklearn.linear_model.LogisticRegression](https://scikit-learn.org/stable/modules/generated/sklearn.linear_model.LogisticRegression.html) con esquema OvR (\"one-vs-rest\", una clase contra el resto).\n",
    "\n",
    "Evalúalo sobre el subset de test con su método *score()*:"
   ]
  },
  {
   "cell_type": "code",
   "execution_count": null,
   "metadata": {},
   "outputs": [],
   "source": [
    "# TODO: Entrena tu modelo sobre el subset de entrenamiento sin regularizar y evalúalo sobre el de test"
   ]
  },
  {
   "cell_type": "markdown",
   "metadata": {},
   "source": [
    "## Hallar la regularización óptima por validación cruzada\n",
    "- Entrena un modelo por cada valor de regularización a considerar.\n",
    "- Entrénalos y evalúalos sobre un fold del subset de entrenamiento usando K-fold.\n",
    "- Escoge el modelo y su regularización óptimas.\n",
    "\n",
    "El método LogisticRegression aplica por defecto una regularización L2 por defecto, pero podemos darle un valor de *C* determinado. *C* actúa como la inversa del factor de regularización *lambda*, por lo que a valores menores, mayor regularización:"
   ]
  },
  {
   "cell_type": "code",
   "execution_count": null,
   "metadata": {},
   "outputs": [],
   "source": [
    "# TODO: Entrena un modelo diferente por cada C sobre un fold de K-fold diferente\n",
    "\n",
    "# Usa los valores de lambda que considerábamos en ejercicios anteriores\n",
    "lambdas = [0., 1e-1, 1e1, 1e2, 1e3]\n",
    "# Calcula la C correspondiente a cada uno\n",
    "cs = [...]\n",
    "\n",
    "# Crea 5 splits de K-fold\n",
    "kf = [...]\n",
    "\n",
    "# Itera sobre los 5 splits para tus modelos y evalúalos en el subset de CV generado\n",
    "log_models = []\n",
    "best_model = None\n",
    "for train, cv in kf.split(X):\n",
    "    # Entrena un modelo sobre el subset train\n",
    "    # Recuerda establecer el parámetro C correspondiente\n",
    "    # Evalúalo sobre el subset cv usando su método score()\n",
    "    # Guarda el modelo con el mejor score en la variable best_model y muestra el C del mejor modelo\n",
    "    c = [...]\n",
    "    print('Regularización L2 usada:', c)\n",
    "    \n",
    "    log_models[...] = [...]\n",
    "    \n",
    "    # Si el modelo es mejor que el mejor modelo hasta ahora...\n",
    "    best_model = [...]\n",
    "    print('Regularización L2 del mejor modelo hasta ahora:', c)"
   ]
  },
  {
   "cell_type": "markdown",
   "metadata": {},
   "source": [
    "## Evaluar el modelo finalmente sobre el subset de test\n",
    "\n",
    "- Muestra los coeficientes e intercept del mejor modelo.\n",
    "- Evalúa el mejor modelo sobre el subset de test inicial.\n",
    "- Calcula los aciertos y fallos sobre el subset de test y represéntalos gráficamente."
   ]
  },
  {
   "cell_type": "code",
   "execution_count": null,
   "metadata": {},
   "outputs": [],
   "source": [
    "# TODO: Evalúa el mejor modelo sobre el subset de test inicial\n",
    "\n",
    "# Muestra los coeficientes e intercept del mejor modelo entrenado\n",
    "print('Coeficientes de intercept del modelo entrenado')\n",
    "print()    # Muestra el intercept como el primer coeficiente\n",
    "\n",
    "# Realiza las predicciones sobre el subset de test\n",
    "y_test_pred = [...]\n",
    "\n",
    "# Calcula la métricas de evaluación del modelo de precisión (\"accuracy\") media (su método score())\n",
    "mean_accuracy = [...]\n",
    "\n",
    "print('Precisión media: %.2f' % mean_accuracy)\n",
    "\n",
    "# Calcula los aciertos y fallos sobre el subset de test y represéntalos gráficamente\n",
    "results = [...]\n",
    "\n",
    "# Represéntalos gráficamente\n",
    "plt.figure(1)\n",
    "\n",
    "# Completa con tu código\n",
    "\n",
    "plt.show()"
   ]
  }
 ],
 "metadata": {
  "environment": {
   "name": "common-cpu.m54",
   "type": "gcloud",
   "uri": "gcr.io/deeplearning-platform-release/base-cpu:m54"
  },
  "kernelspec": {
   "display_name": "Python 3",
   "language": "python",
   "name": "python3"
  },
  "language_info": {
   "codemirror_mode": {
    "name": "ipython",
    "version": 3
   },
   "file_extension": ".py",
   "mimetype": "text/x-python",
   "name": "python",
   "nbconvert_exporter": "python",
   "pygments_lexer": "ipython3",
   "version": "3.7.8"
  }
 },
 "nbformat": 4,
 "nbformat_minor": 4
}
