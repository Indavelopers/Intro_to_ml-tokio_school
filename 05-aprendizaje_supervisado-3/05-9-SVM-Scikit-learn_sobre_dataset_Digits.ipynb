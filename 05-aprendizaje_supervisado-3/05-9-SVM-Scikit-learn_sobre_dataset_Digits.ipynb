{
 "cells": [
  {
   "cell_type": "markdown",
   "metadata": {},
   "source": [
    "# SVM: Scikit-learn sobre dataset Digits\n",
    "\n",
    "## ¿Qué vamos a hacer?\n",
    "- Descargar el dataset Digits para clasificarlo por OCR.\n",
    "- Preprocesaer el dataset con métodos de Scikit-learn.\n",
    "- Entrenar un modelo de clasificación multiclase con SVM por CV.\n",
    "- Evaluar la precisión del modelo y representarla gráficamente.\n",
    "\n",
    "En un ejercicio anterior, hemos resuelto el problema de la clasificación de dígitos escritos a mano por OCR por regresión logística usando Scikit-learn.\n",
    "\n",
    "Este dataset puede ser complejo, por lo que esperamos que un modelo de clasificación por SVM tenga más precisión sobre el mismo.\n",
    "\n",
    "Repite los pasos para entrenar un modelo SVM sobre dicho dataset, optimizarlo por CV con K-fold y evaluarlo finalmente.\n",
    "\n",
    "Referencias:\n",
    "- Puedes encontrar las características del dataset aquí: [Optical recognition of handwritten digits dataset](https://scikit-learn.org/stable/datasets/index.html#digits-dataset)\n",
    "- Puedes cargarlo con esta función: [sklearn.datasets.load_digits](https://scikit-learn.org/stable/modules/generated/sklearn.datasets.load_digits.html)\n",
    "- Puedes tener como referencia este notebook: [Recognizing hand-written digits](https://scikit-learn.org/stable/auto_examples/classification/plot_digits_classification.html)"
   ]
  },
  {
   "cell_type": "code",
   "execution_count": null,
   "metadata": {},
   "outputs": [],
   "source": [
    "# TODO: Importa todos los módulos necesarios en esta celda"
   ]
  },
  {
   "cell_type": "markdown",
   "metadata": {},
   "source": [
    "## Cargar el dataset Digits\n",
    "\n",
    "Representa gráficamente algunos de los ejemplos y sus clases o números asociados:"
   ]
  },
  {
   "cell_type": "code",
   "execution_count": null,
   "metadata": {},
   "outputs": [],
   "source": [
    "# TODO: Carga el dataset Digits como arrays X e Y y representa algunos de los ejemplos"
   ]
  },
  {
   "cell_type": "markdown",
   "metadata": {},
   "source": [
    "## Preprocesar los datos\n",
    "\n",
    "Preprocesa los datos con métodos de Scikit-learn, del mismo modo que hiciste en el ejercicio de Scikit-learn de regresión lineal:\n",
    "\n",
    "- Reordénalos aleatoriamente.\n",
    "- Normalízalos si es necesario.\n",
    "- Divídelos en subsets de entrenamiento y test.\n",
    "\n",
    "En esta ocasión, de nuevo, haremos la validación cruzada por K-fold."
   ]
  },
  {
   "cell_type": "code",
   "execution_count": null,
   "metadata": {},
   "outputs": [],
   "source": [
    "# TODO: Reordena los datos aleatoriamente"
   ]
  },
  {
   "cell_type": "code",
   "execution_count": null,
   "metadata": {},
   "outputs": [],
   "source": [
    "# TODO: Normalízalos si es necesario"
   ]
  },
  {
   "cell_type": "code",
   "execution_count": null,
   "metadata": {},
   "outputs": [],
   "source": [
    "# TODO: Divídelos en subsets de entrenamiento y test"
   ]
  },
  {
   "cell_type": "markdown",
   "metadata": {},
   "source": [
    "## Entrena un modelo de clasificación por SVM inicial\n",
    "\n",
    "Para comprobar el funcionamiento de nuestro clasificador SVC antes de optimizarlo por validación cruzada, vamos a entrenar un modelo inicial sobre el subset de entrenamiento y validarlo sobre el subset de test.\n",
    "\n",
    "Recuerda usar la función [decision_function_shape](https://scikit-learn.org/stable/modules/svm.html#multi-class-classification) para usar el esquema \"uno contra el resto\" (\"ovr\").\n",
    "\n",
    "Usa los valores por defecto de *C* y *gamma* para no influir sobre su regularización:"
   ]
  },
  {
   "cell_type": "code",
   "execution_count": null,
   "metadata": {},
   "outputs": [],
   "source": [
    "# TODO: Entrena un modelo de SVC sin modificar los parámetros de regularización sobre el subset de entrenamiento"
   ]
  },
  {
   "cell_type": "markdown",
   "metadata": {},
   "source": [
    "Para evaluar el modelo, podemos usar una matriz de confusión. En dicha matriz representamos, para cada una de las clases (10 en este caso), cuántos ejemplos se han predicho correctamente, en cuántos hemos fallado y qué clases habíamos predicho para los mismos.\n",
    "\n",
    "Puedes representar la matriz de confusión usando la función [sklearn.metrics.plot_confusion_matrix](https://scikit-learn.org/stable/modules/generated/sklearn.metrics.plot_confusion_matrix.html) que encontrarás en este ejemplo: [Recognizing hand-written digits](https://scikit-learn.org/stable/auto_examples/classification/plot_digits_classification.html)"
   ]
  },
  {
   "cell_type": "code",
   "execution_count": null,
   "metadata": {},
   "outputs": [],
   "source": [
    "# TODO: Evalúa el modelo con su score() sobre el subset de test"
   ]
  },
  {
   "cell_type": "code",
   "execution_count": null,
   "metadata": {},
   "outputs": [],
   "source": [
    "# TODO: Representa gráficamente la matriz de confusión del modelo"
   ]
  }
 ],
 "metadata": {
  "environment": {
   "name": "common-cpu.m54",
   "type": "gcloud",
   "uri": "gcr.io/deeplearning-platform-release/base-cpu:m54"
  },
  "kernelspec": {
   "display_name": "Python 3",
   "language": "python",
   "name": "python3"
  },
  "language_info": {
   "codemirror_mode": {
    "name": "ipython",
    "version": 3
   },
   "file_extension": ".py",
   "mimetype": "text/x-python",
   "name": "python",
   "nbconvert_exporter": "python",
   "pygments_lexer": "ipython3",
   "version": "3.7.8"
  }
 },
 "nbformat": 4,
 "nbformat_minor": 4
}
