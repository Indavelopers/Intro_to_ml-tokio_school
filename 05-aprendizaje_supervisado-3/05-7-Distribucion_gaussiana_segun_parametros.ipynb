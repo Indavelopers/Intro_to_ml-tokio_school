{
 "cells": [
  {
   "cell_type": "markdown",
   "metadata": {},
   "source": [
    "# Comportamiento de la distribución gaussiana según sus parámetros\n",
    "\n",
    "## ¿Qué vamos a hacer?\n",
    "- Implementar la función de densidad de probabilidad de la distribución gaussiana/normal multivariable.\n",
    "- Representarla gráficamente.\n",
    "- Comprobar cómo varía su comportamiento modificando sus parámetros de media y covarianza.\n",
    "\n",
    "La distribución normal o gaussiana es usada en ML en modelos como los SVM de kernel gaussiano y la detección de anomalías, que veremos en una sesión posterior.\n",
    "\n",
    "La distribución puede ser univariable, lo que en ML representaría una sola característica, o multivariable, la que usaremos en este ejercicio.\n",
    "\n",
    "Esta distribución viene definida por 2 parámetros:\n",
    "- La media *mu* de las variables, un vector de tamaño *n*.\n",
    "- La matriz de covarianza *Sigma*, un vector 2D de tamaño *n x n*."
   ]
  },
  {
   "cell_type": "code",
   "execution_count": null,
   "metadata": {},
   "outputs": [],
   "source": [
    "import numpy as np\n",
    "from scipy.stats import multivariate_normal\n",
    "from matplotlib import pyplot as plt\n",
    "from matplotlib import cm\n",
    "from mpl_toolkits.mplot3d import Axes3D"
   ]
  },
  {
   "cell_type": "markdown",
   "metadata": {},
   "source": [
    "## Implementa la función de densidad de probabilidad de la distribución gaussiana\n",
    "\n",
    "Dicha función o *PDF* puede ser implementada con el método de SciPy [scipy.stats.multivariate_normal](https://docs.scipy.org/doc/scipy/reference/generated/scipy.stats.multivariate_normal.html):"
   ]
  },
  {
   "cell_type": "code",
   "execution_count": null,
   "metadata": {},
   "outputs": [],
   "source": [
    "# TODO: Define unos arrays de mu y sigma para 2 variables, características o dimensiones\n",
    "\n",
    "# Define una media en array 1D de 2 valores cualquiera\n",
    "mu = [...]\n",
    "\n",
    "# Define una Sigma en array 2D de 2x2 valores cualquiera\n",
    "sigma = [...]"
   ]
  },
  {
   "cell_type": "markdown",
   "metadata": {},
   "source": [
    "## Represéntala gráficamente en un rango de posibles valores\n",
    "\n",
    "Para ello, crea un espacio lineal con Numpy de 100 valores en el rango [-5, 5], p. ej.:"
   ]
  },
  {
   "cell_type": "code",
   "execution_count": null,
   "metadata": {},
   "outputs": [],
   "source": [
    "# TODO: Calcula la PDF sobre un espacio lineal 2D\n",
    "\n",
    "# Crea una meshgrid con dicho espacio lineal: 100 valores entre [-5, 5]\n",
    "x1 = np.linspace([...])\n",
    "x2 = np.linspace([...])\n",
    "x1, x2 = np.meshgrid(x1, x2)\n",
    "\n",
    "xy = np.empty(x1.shape + (2,))\n",
    "xy[:,:,0] = x1\n",
    "xy[:,:,1] = x2\n",
    "\n",
    "# Calcula la PDF sobre dicha meshgrid xy, con la mu y sigma asignadas\n",
    "z = multivariate_gaussian([...])"
   ]
  },
  {
   "cell_type": "code",
   "execution_count": null,
   "metadata": {},
   "outputs": [],
   "source": [
    "# TODO: Representa la PDF sobre dicho espacio\n",
    "fig = plt.figure(1)\n",
    "\n",
    "ax = fig.gca(projection='3d')\n",
    "ax.plot_surface(x1, x2, z, rstride=3, cstride=3, linewidth=1, antialiased=True, cmap=cm.viridis)\n",
    "\n",
    "cset = ax.contour(x1, x2, z, zdir='z', offset=-0.5, cmap=cm.viridis)\n",
    "\n",
    "ax.set_zlim(-0.15, 0.2)\n",
    "ax.set_zticks(np.linspace(0, 0.2, 5))\n",
    "ax.view_init(27, -21)\n",
    "\n",
    "plt.show()"
   ]
  },
  {
   "cell_type": "markdown",
   "metadata": {},
   "source": [
    "*Bonus*: *¿Te apetece experimentar?* Puedes modificar los parámetros de la representación anterior para comprobar cómo afecta a la gráfica 3D de Matplotlib."
   ]
  },
  {
   "cell_type": "markdown",
   "metadata": {},
   "source": [
    "## Comprueba cómo varía su comportamiento modificando sus parámetros\n",
    "\n",
    "Hemos representado la PDF de la distribución gaussiana en 3D, usando sus 2 parámetros, *mu* y *Sigma*.\n",
    "\n",
    "*¿Por qué no compruebas qué sucede cuando cambias mu y Sigma?*\n",
    "*¿Cómo varía la gráfica cuando cambias los 2 valores de mu?*\n",
    "*¿Cómo varía cuando cambias los 4 valores de Sigma?*"
   ]
  },
  {
   "cell_type": "markdown",
   "metadata": {},
   "source": [
    "Responde con tus conclusiones a estas preguntas:\n",
    "- Variando *mu*...\n",
    "\n",
    "- Variando *Sigma*..."
   ]
  }
 ],
 "metadata": {
  "environment": {
   "name": "common-cpu.m54",
   "type": "gcloud",
   "uri": "gcr.io/deeplearning-platform-release/base-cpu:m54"
  },
  "kernelspec": {
   "display_name": "Python 3",
   "language": "python",
   "name": "python3"
  },
  "language_info": {
   "codemirror_mode": {
    "name": "ipython",
    "version": 3
   },
   "file_extension": ".py",
   "mimetype": "text/x-python",
   "name": "python",
   "nbconvert_exporter": "python",
   "pygments_lexer": "ipython3",
   "version": "3.7.8"
  }
 },
 "nbformat": 4,
 "nbformat_minor": 4
}
