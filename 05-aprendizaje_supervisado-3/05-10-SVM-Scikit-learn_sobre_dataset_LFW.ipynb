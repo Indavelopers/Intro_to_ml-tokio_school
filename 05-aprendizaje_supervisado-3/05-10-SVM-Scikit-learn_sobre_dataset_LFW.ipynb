{
 "cells": [
  {
   "cell_type": "markdown",
   "metadata": {},
   "source": [
    "# SVM: Scikit-learn sobre dataset Labeled Faces in the Wild\n",
    "\n",
    "## ¿Qué vamos a hacer?\n",
    "- Descargar y analizar el dataset Labeled Faces in the Wild (LFW).\n",
    "- Preprocesar el dataset.\n",
    "- Entrenar un modelo de clasificación multiclase con SVM por validación cruzada.\n",
    "- Evaluar la precisión del modelo y representarla gráficamente.\n",
    "\n",
    "El dataset Labeled Faces in the Wild (LFW) es uno de los datasets más utilizados como ejemplo y para evaluar nuestros modelos y algoritmos. Es un dataset muy curioso: es una colección de fotos de caras de famosos (en formato JPEG) de 13233 ejemplos, 5749 clases (caras de famosos) y 5828 características (píxeles).\n",
    "\n",
    "Toda la información está en su web oficial: http://vis-www.cs.umass.edu/lfw/\n",
    "\n",
    "Habitualmente usamos el dataset en 2 tipos de tareas o modelos diferentes de clasificación:\n",
    "- Verificación de caras: Dada una pareja de 2 fotografías, un modelo de clasificación binaria debe predecir si se trata de la misma persona.\n",
    "- Reconocimiento de caras: Dada una fotografía, el modelo debe clasificarla como perteneciente a uno de los famosos (clases) identificados.\n",
    "\n",
    "Tu tarea será crear un modelo de SVM para resolver la tarea de reconocimiento de caras, optimizar sus hiper-parámetros por validación cruzada y evaluarlo.\n",
    "\n",
    "*¡Vamos a entrenar un modelo de ML que es capaz de reconocer caras de famosos!*\n",
    "\n",
    "Referencias:\n",
    "- [The Labeled Faces in the Wild face recognition dataset](https://scikit-learn.org/stable/datasets/index.html#labeled-faces-in-the-wild-dataset)\n",
    "- [sklearn.datasets.fetch_lfw_people](https://scikit-learn.org/stable/modules/generated/sklearn.datasets.fetch_lfw_people.html)\n",
    "- [sklearn.datasets.fetch_lfw_pairs](https://scikit-learn.org/stable/modules/generated/sklearn.datasets.fetch_lfw_pairs.html)\n",
    "- [Faces recognition example using eigenfaces and SVMs](https://scikit-learn.org/stable/auto_examples/applications/plot_face_recognition.html)"
   ]
  },
  {
   "cell_type": "code",
   "execution_count": null,
   "metadata": {},
   "outputs": [],
   "source": [
    "# TODO: Importa todos los módulos necesarios en esta celda"
   ]
  },
  {
   "cell_type": "markdown",
   "metadata": {},
   "source": [
    "## Cargar el dataset LFW\n",
    "\n",
    "Representa gráficamente algunos de los ejemplos y sus clases o números asociados.\n",
    "\n",
    "*Nota*: ¡Cuidado con su tamaño! Si es un dataset demasiado grande para tu entorno, puedes reducir su tamaño escogiendo un nº de ejemplos más reducido al azar, reordenando antes aleatoriamente los ejemplos para evitar que haya clases/caras con un bajo nº de ejemplos:"
   ]
  },
  {
   "cell_type": "code",
   "execution_count": null,
   "metadata": {},
   "outputs": [],
   "source": [
    "# TODO: Carga el dataset Digits como arrays X e Y y representa algunos de los ejemplos"
   ]
  },
  {
   "cell_type": "markdown",
   "metadata": {},
   "source": [
    "## Preprocesar los datos\n",
    "\n",
    "Preprocesa los datos con métodos de Scikit-learn:\n",
    "\n",
    "- Reordénalos aleatoriamente.\n",
    "- Normalízalos si es necesario.\n",
    "- Divídelos en subsets de entrenamiento y test.\n",
    "\n",
    "En esta ocasión, de nuevo, haremos la validación cruzada por K-fold."
   ]
  },
  {
   "cell_type": "code",
   "execution_count": null,
   "metadata": {},
   "outputs": [],
   "source": [
    "# TODO: Reordena los datos aleatoriamente"
   ]
  },
  {
   "cell_type": "code",
   "execution_count": null,
   "metadata": {},
   "outputs": [],
   "source": [
    "# TODO: Normalízalos si es necesario"
   ]
  },
  {
   "cell_type": "code",
   "execution_count": null,
   "metadata": {},
   "outputs": [],
   "source": [
    "# TODO: Divídelos en subsets de entrenamiento y test"
   ]
  },
  {
   "cell_type": "markdown",
   "metadata": {},
   "source": [
    "## Entrena un modelo de clasificación por SVM inicial\n",
    "\n",
    "Para comprobar el funcionamiento de nuestro clasificador SVC antes de optimizarlo por validación cruzada, vamos a entrenar un modelo inicial sobre el subset de entrenamiento y validarlo sobre el subset de test.\n",
    "\n",
    "Recuerda usar la función [decision_function_shape](https://scikit-learn.org/stable/modules/svm.html#multi-class-classification) para usar el esquema \"uno contra el resto\" (\"ovr\").\n",
    "\n",
    "Usa los valores por defecto de *C* y *gamma* para no influir sobre su regularización:"
   ]
  },
  {
   "cell_type": "code",
   "execution_count": null,
   "metadata": {},
   "outputs": [],
   "source": [
    "# TODO: Entrena un modelo de SVC sin modificar los parámetros de regularización sobre el subset de entrenamiento"
   ]
  },
  {
   "cell_type": "markdown",
   "metadata": {},
   "source": [
    "## Evalua el modelo en el subset de test\n",
    "En este caso, no vamos a representar la matriz de confusión, ya que con 5749 clases sería demasiado grande para apreciarla en una gráfica:"
   ]
  },
  {
   "cell_type": "code",
   "execution_count": null,
   "metadata": {},
   "outputs": [],
   "source": [
    "# TODO: Evalúa el modelo con su score() sobre el subset de test"
   ]
  }
 ],
 "metadata": {
  "environment": {
   "name": "common-cpu.m54",
   "type": "gcloud",
   "uri": "gcr.io/deeplearning-platform-release/base-cpu:m54"
  },
  "kernelspec": {
   "display_name": "Python 3",
   "language": "python",
   "name": "python3"
  },
  "language_info": {
   "codemirror_mode": {
    "name": "ipython",
    "version": 3
   },
   "file_extension": ".py",
   "mimetype": "text/x-python",
   "name": "python",
   "nbconvert_exporter": "python",
   "pygments_lexer": "ipython3",
   "version": "3.7.8"
  }
 },
 "nbformat": 4,
 "nbformat_minor": 4
}
