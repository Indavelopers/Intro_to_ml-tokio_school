{
 "cells": [
  {
   "cell_type": "markdown",
   "metadata": {},
   "source": [
    "# Teorema de Bayes: sensibilidad y especificidad\n",
    "\n",
    "## ¿Qué vamos a hacer?\n",
    "- Implementar el cómputo de probabilidades por el Teorema de Bayes en Python\n",
    "- Repetir varios experimentos para comprobar los efectos de sensibilidad y especificidad\n",
    "\n",
    "Éste va a ser un ejercicio corto y rápido, en el que no vamos a introducir nuevos conceptos.\n",
    "\n",
    "En la sesión del curso, las diapositivas y el manual del alumno hemos resuelto unos pocos ejercicios sobre el Teorema de Bayes para hacernos una idea sobre su comportamiento, y cómo puede diferenciarse de nuestra intuición.\n",
    "\n",
    "Ahora vamos a implementarlo programáticamente para tener la oportunidad de repetir más de estos ejemplos, resolviendo los cálculos con Python, y representar gráficamente los resultados."
   ]
  },
  {
   "cell_type": "markdown",
   "metadata": {},
   "source": [
    "## Implementar el Teorema de Bayes en una función\n",
    "\n",
    "Vamos a comenzar por implementar el Teorema de Bayes en una función de Python.\n",
    "\n",
    "Para ello, completa el código de la siguiente celda:"
   ]
  },
  {
   "cell_type": "code",
   "execution_count": null,
   "metadata": {},
   "outputs": [],
   "source": [
    "# TODO: Implementa una función con el Teorema de Bayes\n",
    "\n",
    "def bayes_theorem(p_a, p_b_dado_a, p_b_dado_no_a):\n",
    "    \"\"\" Devuelve la probabilidad de B dado A según el Teorema de Bayes\n",
    "    \n",
    "    Todas las variables son porcentajes en formato float (i.e., 10% -> 0.1)\n",
    "    \n",
    "    Argumentos posicionales:\n",
    "    p_a -- probabilidad a priori\n",
    "    p_b_dado_a -- probabilidad de que se de el evento B dado el evento A\n",
    "    p_b_dado_no_a -- probabilidad de que se de el evento B no dado el evento A\n",
    "    \n",
    "    Devuelve:\n",
    "    p_a_dado_b -- probabilidad de que se de el evento A dado el evento B\n",
    "    \"\"\"\n",
    "    \n",
    "    return p_a_dado_b"
   ]
  },
  {
   "cell_type": "markdown",
   "metadata": {},
   "source": [
    "## Resolver varios ejemplos y comprobar los resultados\n",
    "\n",
    "Para comprobar tu implementación, compruébala con los ejemplos ya resueltos en las diapositivas:\n",
    "\n",
    "Ejemplo 1:\n",
    "- P(C) = 0.01\n",
    "- P(+|C) = 0.9\n",
    "- P(+|!C) = 0.2\n",
    "- P(C|+) = 0.0435\n",
    "\n",
    "Ejemplo 2:\n",
    "- P(C) = 0.01\n",
    "- P(+|C) = 0.85\n",
    "- P(+|!C) = 0.15\n",
    "- P(C|+) = 0.0541\n",
    "\n",
    "Ejemplo 3:\n",
    "- P(C) = 0.01\n",
    "- P(+|C) = 0.9\n",
    "- P(+|!C) = 0.05\n",
    "- P(C|+) = 0.1538\n",
    "\n",
    "Recuerda que puedes modificar los valores de una celda de código y reejecutarla."
   ]
  },
  {
   "cell_type": "code",
   "execution_count": null,
   "metadata": {},
   "outputs": [],
   "source": [
    "# TODO: Resuelve los ejemplos anteriores\n",
    "\n",
    "p_a = 0.01\n",
    "p_b_dado_a = 0.9\n",
    "p_b_dado_no_a = 0.2\n",
    "\n",
    "p_a_dado_b = [...]\n",
    "\n",
    "print('Probabilidad a priori de cáncer:', p_a)\n",
    "print('Sensibilidad del test:', p_b_dado_a)\n",
    "print('Especificidad del test:', p_b_dado_no_a)\n",
    "print('Probabilidad de cáncer si el test es positivo:', p_a_dado_b)"
   ]
  },
  {
   "cell_type": "markdown",
   "metadata": {},
   "source": [
    "Una vez comprobada tu implementación, *¿por qué no la aprovechas para calcular varios ejemplos más y comprobar su resultado?*."
   ]
  },
  {
   "cell_type": "markdown",
   "metadata": {},
   "source": [
    "## Representar los efectos de la sensibilidad y especificidad gráficamente\n",
    "\n",
    "Como hemos visto, la probabilidad a posteriori variaba mucho en función de la sensibilidad y especificidad escogidas.\n",
    "\n",
    "Para finalizar el ejercicio, representa gráficamente cómo varía la probabilidad a posteriori en función de la sensibilidad en una gráfica, y en otra en función de la especificidad.\n",
    "\n",
    "Para ello, en la primera gráfica establece una especificidad constante, y en la segunda una sensibilidad constante:"
   ]
  },
  {
   "cell_type": "code",
   "execution_count": null,
   "metadata": {},
   "outputs": [],
   "source": [
    "# TODO: Representa gráficamente los efectos de la sensibilidad y especificidad en el Teorema de Bayes\n",
    "\n",
    "p_a = 0.01\n",
    "\n",
    "# Crea un array con un espacio lineal del +/- 25% sobre los valores base de 0.9 y 0.2, respectivamente, con 100 valores\n",
    "sensibilidad = [...]\n",
    "especificidad = [...]\n",
    "\n",
    "# Calcula los resultados de las probabilidades a posteriori\n",
    "# Mantén como constante el valor central de la sensibilidad y la especificidad\n",
    "res1 = [...]\n",
    "res2 = [...]\n",
    "\n",
    "fig, axs = plt.subplot(2)\n",
    "\n",
    "plt.title()\n",
    "\n",
    "axs[0] = plt.plot(res1)\n",
    "axs[1] = plt.plot(res2)\n",
    "\n",
    "plt.show()"
   ]
  }
 ],
 "metadata": {
  "environment": {
   "name": "common-cpu.m54",
   "type": "gcloud",
   "uri": "gcr.io/deeplearning-platform-release/base-cpu:m54"
  },
  "kernelspec": {
   "display_name": "Python 3",
   "language": "python",
   "name": "python3"
  },
  "language_info": {
   "codemirror_mode": {
    "name": "ipython",
    "version": 3
   },
   "file_extension": ".py",
   "mimetype": "text/x-python",
   "name": "python",
   "nbconvert_exporter": "python",
   "pygments_lexer": "ipython3",
   "version": "3.7.8"
  }
 },
 "nbformat": 4,
 "nbformat_minor": 4
}
