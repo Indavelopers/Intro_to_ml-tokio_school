{
 "cells": [
  {
   "cell_type": "markdown",
   "metadata": {},
   "source": [
    "# Regresión lineal: Scikit-learn sobre dataset Diabetes\n",
    "\n",
    "## ¿Qué vamos a hacer?\n",
    "- Analizar el dataset de muestra de diabetes de Scikit-learn\n",
    "- Entrenar un modelo de regresión lineal multivariable sobre el mismo\n",
    "- Descubrir el modelo de regresión lineal de Lasso\n",
    "- Comparar la CV incluida en LassoCV con una CV hecha manualmente\n",
    "\n",
    "Para este ejercicio puedes contar con las siguientes referencias, entre otras:\n",
    "- [Diabetes dataset](https://scikit-learn.org/stable/datasets/index.html#diabetes-dataset)\n",
    "- [sklearn.datasets.load_diabetes](https://scikit-learn.org/stable/modules/generated/sklearn.datasets.load_diabetes.html#sklearn.datasets.load_diabetes)\n",
    "- [Cross-validation on Diabetes dataset exercise](https://scikit-learn.org/stable/auto_examples/exercises/plot_cv_diabetes.html)\n",
    "- [sklearn.model_selection.GridSearchCV](https://scikit-learn.org/stable/modules/generated/sklearn.model_selection.GridSearchCV.html)"
   ]
  },
  {
   "cell_type": "code",
   "execution_count": null,
   "metadata": {},
   "outputs": [],
   "source": [
    "# TODO: Importa todos los módulos necesarios en esta celda"
   ]
  },
  {
   "cell_type": "markdown",
   "metadata": {},
   "source": [
    "## Cargar el dataset de Diabetes\n",
    "\n",
    "Antes de comenzar a trabajar con un dataset nuevo, es interesante revisar sus características y mostrar por pantalla algunos ejemplos para hacernos una idea de qué datos contiene, en qué formato, etc:"
   ]
  },
  {
   "cell_type": "code",
   "execution_count": null,
   "metadata": {},
   "outputs": [],
   "source": [
    "# TODO: Carga el dataset de Diabetes\n",
    "# Primero cárgalo como un objeto tipo Bunch, analiza sus características y muestra algunos ejemplos\n",
    "# Luego modifica tu código y cárgalo como una tupla (X, Y)"
   ]
  },
  {
   "cell_type": "markdown",
   "metadata": {},
   "source": [
    "## Preprocesar los datos\n",
    "- Reordenarlos aleatoriamente\n",
    "- Normalizarlos\n",
    "- Dividirlos en subsets de entrenamiento y test\n",
    "\n",
    "*Nota*: Antes de normalizar los datos de un nuevo dataset, comprueba que sea necesario y si no se han normalizado ya previamente.\n",
    "\n",
    "*Pista*: [Diabetes dataset](https://scikit-learn.org/stable/datasets/index.html#diabetes-dataset)"
   ]
  },
  {
   "cell_type": "code",
   "execution_count": null,
   "metadata": {},
   "outputs": [],
   "source": [
    "# TODO: Reordena los datos aleatoriamente"
   ]
  },
  {
   "cell_type": "code",
   "execution_count": null,
   "metadata": {},
   "outputs": [],
   "source": [
    "# TODO: Normaliza los ejemplos si es necesario"
   ]
  },
  {
   "cell_type": "code",
   "execution_count": null,
   "metadata": {},
   "outputs": [],
   "source": [
    "# TODO: Divide el dataset en un subset de entrenamiento y test"
   ]
  },
  {
   "cell_type": "markdown",
   "metadata": {},
   "source": [
    "## Entrenar un modelo inicial\n",
    "\n",
    "- Entrena un modelo inicial sobre el subset de entrenamiento sin regularización.\n",
    "- Comprueba la idoneidad del modelo.\n",
    "- Comprueba si existe desviación o sobreajuste.\n",
    "\n",
    "Para ello, vuelve a usar un modelo de regresión lineal más simple, como el LinearRegression:"
   ]
  },
  {
   "cell_type": "code",
   "execution_count": null,
   "metadata": {},
   "outputs": [],
   "source": [
    "# TODO: Entrena un modelo de regresión lineal más simple sobre el subset de entrenamiento sin regularización"
   ]
  },
  {
   "cell_type": "code",
   "execution_count": null,
   "metadata": {},
   "outputs": [],
   "source": [
    "# TODO: Comprueba la idoneidad del modelo evaluándolo sobre el set de test con varias métricas"
   ]
  },
  {
   "cell_type": "code",
   "execution_count": 2,
   "metadata": {},
   "outputs": [],
   "source": [
    "# TODO: Comprueba si la evaluación sobre ambos subsets es similar con el mean_squared_error"
   ]
  },
  {
   "cell_type": "markdown",
   "metadata": {},
   "source": [
    "## Entrenar el modelo con CV\n",
    "\n",
    "- Entrena un modelo por cada valor de regularización a considerar.\n",
    "- Entrénalos y evalúalos sobre el subset de entrenamiento por K-fold.\n",
    "- Escoge el modelo y su regularización óptimas.\n",
    "\n",
    "Entrena el modelo por el algoritmo de [Lasso](https://scikit-learn.org/stable/modules/linear_model.html#lasso):"
   ]
  },
  {
   "cell_type": "code",
   "execution_count": null,
   "metadata": {},
   "outputs": [],
   "source": [
    "# TODO: Entrena un modelo diferente por cada alpha sobre un fold de K-fold diferente, evalúalos y escoge\n",
    "# el modelo de mejor precisión usando GridSearchCV"
   ]
  },
  {
   "cell_type": "markdown",
   "metadata": {},
   "source": [
    "Puedes basarte en el notebook del ejercicio referenciado."
   ]
  },
  {
   "cell_type": "markdown",
   "metadata": {},
   "source": [
    "*Bonus opcional*: ¿Te atreves a hacer la misma representación gráfica de la evaluación de cada modelo para múltiples *alpha*s?"
   ]
  },
  {
   "cell_type": "markdown",
   "metadata": {},
   "source": [
    "## Evaluar el modelo finalmente sobre el subset de test\n",
    "\n",
    "- Muestra los coeficientes e intercept del mejor modelo.\n",
    "- Evalúa el mejor modelo sobre el subset de test inicial.\n",
    "- Calcula los resíduos sobre el subset de test y represéntalos."
   ]
  },
  {
   "cell_type": "code",
   "execution_count": null,
   "metadata": {},
   "outputs": [],
   "source": [
    "# TODO: Evalúa el mejor modelo sobre el subset de test inicial y calcula sus resíduos"
   ]
  },
  {
   "cell_type": "markdown",
   "metadata": {},
   "source": [
    "## *Bonus*: Comparar los resultados de nuestra CV con los de LassoCV\n",
    "\n",
    "Varios algoritmos permiten usar una implementación adicional que ya realiza la optimización por CV internamente, como es el caso de [LassoCV](https://scikit-learn.org/stable/modules/generated/sklearn.linear_model.LassoCV.html#sklearn.linear_model.LassoCV).\n",
    "\n",
    "Sin embargo, en muchos casos no podemos confiar del todo en que hayan escogido el mejor *alpha*. Por ello, puede ser interesante comparar los resultados de LassoCV con los de nuestro modelo de Lasso con CV manual.\n",
    "\n",
    "Al igual que se realiza en la última parte del ejercicio, *¿te atreves a implementarlo por ti mismo?*\n",
    "\n",
    "Responde a estas 2 preguntas:\n",
    "- La pregunta incorporada en el notebook referenciado: *¿cuánto puedes confiar en la selección de *alpha* de LassoCV?\n",
    "- ¿Son similares los *alpha*s escogidos por LassoCV y sus precisiones a las de nuestro modelo?"
   ]
  },
  {
   "cell_type": "code",
   "execution_count": 1,
   "metadata": {},
   "outputs": [],
   "source": [
    "# TODO: Compara los resultados de nuestro modelo entrenado por CV manualmente frente a los de LassoCV"
   ]
  }
 ],
 "metadata": {
  "environment": {
   "name": "common-cpu.m54",
   "type": "gcloud",
   "uri": "gcr.io/deeplearning-platform-release/base-cpu:m54"
  },
  "kernelspec": {
   "display_name": "Python 3",
   "language": "python",
   "name": "python3"
  },
  "language_info": {
   "codemirror_mode": {
    "name": "ipython",
    "version": 3
   },
   "file_extension": ".py",
   "mimetype": "text/x-python",
   "name": "python",
   "nbconvert_exporter": "python",
   "pygments_lexer": "ipython3",
   "version": "3.7.8"
  }
 },
 "nbformat": 4,
 "nbformat_minor": 4
}
