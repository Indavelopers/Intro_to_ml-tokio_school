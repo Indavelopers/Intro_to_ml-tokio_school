{
 "cells": [
  {
   "cell_type": "markdown",
   "metadata": {},
   "source": [
    "# Regresión lineal: Comparación de valores de regularización\n",
    "\n",
    "## ¿Qué vamos a hacer?\n",
    "- Crear un dataset sintético para regresión lineal multivariable con término de error aleatorio\n",
    "- Entrenar 3 modelos de regresión lineal diferentes sobre dicho dataset, con diferentes valores de *lambda*\n",
    "- Comparar el efecto del valor de *lambda* sobre el modelo, su precisión y sus resíduos gráficamente"
   ]
  },
  {
   "cell_type": "markdown",
   "metadata": {},
   "source": [
    "## Crear un dataset sintético con error para entrenamiento y test final\n",
    "\n",
    "Vamos a comenzar, como siempre, creando un dataset sintético para regresión lineal, con término de bias y término de error.\n",
    "\n",
    "En esta ocasión vamos a crear 2 datasets, uno para entrenamiento y otro para test final, siguiendo el mismo patrón, aunque con tamaños diferentes. Vamos a entrenar los modelos con el primer dataset y comprobar posteriormente con el segundo cómo se comportarían ante datos que no han \"visto\" previamente en el proceso de entrenamiento, que son completamente nuevos para ellos."
   ]
  },
  {
   "cell_type": "code",
   "execution_count": null,
   "metadata": {},
   "outputs": [],
   "source": [
    "# TODO: Genera un dataset sintéitico manualmente, con término de bias y término de error\n",
    "\n",
    "m = 100\n",
    "n = 3\n",
    "\n",
    "X_train = [...]\n",
    "X_test = [...]    # El tamaño del dataset de test debe ser un 25% del original\n",
    "\n",
    "Theta_verd = [...]\n",
    "\n",
    "error = 0.25\n",
    "\n",
    "Y_train = [...]\n",
    "Y_test = [...]\n",
    "\n",
    "# Comprueba los valores y dimensiones de los vectores\n",
    "print('Theta a estimar y sus dimensiones:')\n",
    "print()\n",
    "print()\n",
    "\n",
    "# Comprueba X_train, X_test, Y_train e Y_test\n",
    "print('Primeras 10 filas y 5 columnas de X e Y:')\n",
    "print()\n",
    "print()\n",
    "print()\n",
    "print()\n",
    "\n",
    "print('Dimensiones de X e Y:')\n",
    "print()\n",
    "print()"
   ]
  },
  {
   "cell_type": "markdown",
   "metadata": {},
   "source": [
    "## Entrenar 3 modelos diferentes con diferentes valores de *lambda*\n",
    "\n",
    "Ahora vamos a entrenar 3 modelos diferentes con diferentes valores de *lambda*.\n",
    "\n",
    "Para ello, comienza por copiar tus celdas con el código que implementa la función de coste y el gradient descent regularizados:"
   ]
  },
  {
   "cell_type": "code",
   "execution_count": null,
   "metadata": {},
   "outputs": [],
   "source": [
    "# TODO: Copia aquí las celdas o el código para implementar 2 funciones con la función de coste y el gradient\n",
    "# descent regularizados"
   ]
  },
  {
   "cell_type": "markdown",
   "metadata": {},
   "source": [
    "Vamos a entrenar los modelos. Para ello, recuerda que con Jupyter puedes simplemente modificar las celdas de código y las variables quedarán en memoria.\n",
    "\n",
    "Por tanto, puedes p. ej. modificar el nombre de las siguientes variables, cambiando \"1\" por \"2\" y \"3\", y simplemente reejecutar la celda para almacenar los resultados de los 3 modelos.\n",
    "\n",
    "Si te encuentras con alguna dificultad, también puedes copiar 2 veces la celda de código y tener 3 celdas para entrenar a 3 modelos con nombres de variables diferentes."
   ]
  },
  {
   "cell_type": "code",
   "execution_count": null,
   "metadata": {},
   "outputs": [],
   "source": [
    "# TODO: Comprueba tu implementación entrenando un modelo sobre el dataset sintético creado previamente\n",
    "\n",
    "# Crea una theta inicial con un valor dado.\n",
    "theta_ini = [...]\n",
    "\n",
    "print('Theta inicial:')\n",
    "print(theta_ini)\n",
    "\n",
    "alpha = 1e-1\n",
    "lambda_ = [0., 1e-2, 1e-1]    # Usaremos 3 valores diferentes\n",
    "e = 1e-3\n",
    "iter_ = 1e3    # Comprueba que tu función puede admitir valores float o modifícalo\n",
    "\n",
    "print('Hiper-arámetros usados:')\n",
    "print('Alpha:', alpha, 'Error máx.:', e, 'Nº iter', iter_)\n",
    "\n",
    "t = time.time()\n",
    "# Usa lambda_[i], con i en el rango [0, 1, 2] para cada modelo\n",
    "j_hist_1, theta_final_1 = gradient_descent([...])\n",
    "\n",
    "print('Tiempo de entrenamiento (s):', time.time() - t)\n",
    "\n",
    "# TODO: completar\n",
    "print('\\nÚltimos 10 valores de la función de coste')\n",
    "print(j_hist_1[...])\n",
    "print('\\Coste final:')\n",
    "print(j_hist_1[...])\n",
    "print('\\nTheta final:')\n",
    "print(theta_final_1)\n",
    "\n",
    "print('Valores verdaderos de Theta y diferencia con valores entrenados:')\n",
    "print(Theta_verd)\n",
    "print(theta_final_1 - Theta_verd)"
   ]
  },
  {
   "cell_type": "markdown",
   "metadata": {},
   "source": [
    "## Comprobar gráficamente el efecto de *lambda* sobre los modelos\n",
    "\n",
    "Ahora vamos a comprobar los 3 modelos entre sí.\n",
    "\n",
    "Vamos a comenzar por comprobar el coste final, una representación de la precisión de los mismos:"
   ]
  },
  {
   "cell_type": "code",
   "execution_count": null,
   "metadata": {},
   "outputs": [],
   "source": [
    "# TODO: Muestra el coste final de los 3 modelos:\n",
    "\n",
    "print('Coste final de los 3 modelos:')\n",
    "print(j_hist_1[...])\n",
    "print(j_hist_2[...])\n",
    "print(j_hist_3[...])"
   ]
  },
  {
   "cell_type": "markdown",
   "metadata": {},
   "source": [
    "*¿Cómo afecta un mayor valor de *lambda* al coste final en este dataset?*\n",
    "\n",
    "Vamos a representar los dataset de entrenamiento y test, para comprobar que siguen un patrón similar:"
   ]
  },
  {
   "cell_type": "code",
   "execution_count": null,
   "metadata": {},
   "outputs": [],
   "source": [
    "# TODO: Representa X_train vs Y_train y X_test vs Y_test gráficamente\n",
    "\n",
    "plt.figure(1)\n",
    "\n",
    "plt.title([...])\n",
    "plt.xlabel([...])\n",
    "plt.ylabel([...])\n",
    "\n",
    "# Recuerda usar colores diferentes\n",
    "plt.scatter([...])\n",
    "plt.scatter([...])\n",
    "\n",
    "# ¿Te atreves? Busca en la documentación cómo crear una leyenda de las diferentes series y sus colores\n",
    "\n",
    "plt.show()"
   ]
  },
  {
   "cell_type": "markdown",
   "metadata": {},
   "source": [
    "Ahora vamos a comprobar las predicciones de cada modelo sobre el dataset de entrenamiento, para comprobar cómo se ajusta la recta a los valores de entrenamiento en cada caso:"
   ]
  },
  {
   "cell_type": "code",
   "execution_count": null,
   "metadata": {},
   "outputs": [],
   "source": [
    "# TODO: Calcula las predicciones para cada modelo sobre X_train\n",
    "\n",
    "Y_train_pred1 = [...]\n",
    "Y_train_pred2 = [...]\n",
    "Y_train_pred3 = [...]"
   ]
  },
  {
   "cell_type": "code",
   "execution_count": null,
   "metadata": {},
   "outputs": [],
   "source": [
    "# TODO: Representa gráficamente para cada modelo sus predicciones sobre X_train\n",
    "\n",
    "# Si te da un error con otras gráficas del notebook, usa la línea inferior o déjala comentada\n",
    "plt.figure(2)\n",
    "\n",
    "fig, (ax1, ax2, ax3) = plt.subplots(3, sharex=True, sharey=True)\n",
    "fig.suptitle([...])\n",
    "\n",
    "ax1.plot()\n",
    "ax1.scatter()\n",
    "\n",
    "ax2.plot()\n",
    "ax2.scatter()\n",
    "\n",
    "ax3.plot()\n",
    "ax3.scatter()"
   ]
  },
  {
   "cell_type": "markdown",
   "metadata": {},
   "source": [
    "Al tener el dataset de entrenamiento un término de error del 25%, puede haber diferencias significativas entre los datos del dataset de entrenamiento y el dataset de test.\n",
    "\n",
    "Vamos a comprobar qué ocurre con las predicciones cuando las representamos sobre el dataset de test, sobre datos que los modelos no han visto anteriormente:"
   ]
  },
  {
   "cell_type": "code",
   "execution_count": null,
   "metadata": {},
   "outputs": [],
   "source": [
    "# TODO: Calcula las predicciones para cada modelo sobre X_test\n",
    "\n",
    "Y_test_pred1 = [...]\n",
    "Y_test_pred2 = [...]\n",
    "Y_test_pred3 = [...]"
   ]
  },
  {
   "cell_type": "code",
   "execution_count": null,
   "metadata": {},
   "outputs": [],
   "source": [
    "# TODO: Representa gráficamente para cada modelo sus predicciones sobre X_test\n",
    "\n",
    "# Si te da un error con otras gráficas del notebook, usa la línea inferior o déjala comentada\n",
    "plt.figure(2)\n",
    "\n",
    "fig, (ax1, ax2, ax3) = plt.subplots(3, sharex=True, sharey=True)\n",
    "fig.suptitle([...])\n",
    "\n",
    "ax1.plot()\n",
    "ax1.scatter()\n",
    "\n",
    "ax2.plot()\n",
    "ax2.scatter()\n",
    "\n",
    "ax3.plot()\n",
    "ax3.scatter()"
   ]
  },
  {
   "cell_type": "markdown",
   "metadata": {},
   "source": [
    "¿Qué sucede? En algunos casos, en función de los parámetros utilizados puede que te sea más o menos fácil apreciarlo.\n",
    "\n",
    "Cuando el modelo tiene un factor de regulación *lambda* bajo o nulo, se ajusta demasiado a los datos con los que se entrena, consiguiendo una curva muy pegada y una precisión máxima... sobre dicho dataset.\n",
    "\n",
    "Sin embargo, en la vida real, posteriormente pueden llegar datos sobre los que no hemos entrenado el modelo que tengan alguna pequeña variación sobre los datos originales.\n",
    "\n",
    "En dicha situación vamos a preferir un valor de *lambda* más alto, que nos permita tener una precisión mayor para los nuevos datos, aunque perdamos algo de precisión para los datos del dataset de entrenamiento.\n",
    "\n",
    "Podemos por tanto pensar en la regularización como un alumno que tiene las preguntas del examen antes de presentarse:\n",
    "- Si luego le caen dichas preguntas, va a tener una nota (o precisión) muy alta, puesto que ya \"ha visto\" las preguntas previamente.\n",
    "- Si luego las preguntas son diferentes, puede tener una nota bastante alta, en función de lo similares que sean.\n",
    "- Sin embargo, si las preguntas son totalmente diferentes, va a tener una nota muy baja, porque no es que hubiera estudiado mucho la asignatura, sino que sus notas eran altas sólo por saber el resultado de antemano."
   ]
  },
  {
   "cell_type": "markdown",
   "metadata": {},
   "source": [
    "## Comprobar los resíduos sobre el subset de test final\n",
    "\n",
    "Para este último punto no te daremos más instrucciones, sino que será un reto para ti, aunque ya lo has resuelto previamente.\n",
    "\n",
    "*¿Te atreves a calcular los residuos para los 3 modelos y representarlos gráficamente?*\n",
    "\n",
    "De esta forma vas a poder comparar tus 3 modelos sobre los 2 datasets.\n",
    "\n",
    "Calcúlalos tanto para el dataset de entrenamiento como para el de testing. Puedes hacerlo con celdas diferentes para poder apreciar sus diferencias a la vez.\n",
    "\n",
    "*Consejos*:\n",
    "- Cuidado con las escalas de los ejes X e Y a la hora de hacer las comparaciones.\n",
    "- Para poder verlos a la vez, puedes crear 3 subgráficas horizontales, en lugar de verticales, con \"plt.subplots(1, 3)\"."
   ]
  },
  {
   "cell_type": "markdown",
   "metadata": {},
   "source": [
    "Si no aprecias claramente dichos efectos sobre tus datasets, puedes probar a modificar los valores iniciales:\n",
    "- Con un nº de ejemplos *m* mayor, para que los modelos puedan ser más precisos.\n",
    "- Con un término de error mayor, para que haya más diferencia o variación entre ejemplos.\n",
    "- Con un tamaño del dataset de test sobre el de entrenamiento menor, para que haya más diferencias entre ambos datasets (al tener más datos, los valores pueden suavizarse más).\n",
    "- Etc."
   ]
  }
 ],
 "metadata": {
  "environment": {
   "name": "common-cpu.m54",
   "type": "gcloud",
   "uri": "gcr.io/deeplearning-platform-release/base-cpu:m54"
  },
  "kernelspec": {
   "display_name": "Python 3",
   "language": "python",
   "name": "python3"
  },
  "language_info": {
   "codemirror_mode": {
    "name": "ipython",
    "version": 3
   },
   "file_extension": ".py",
   "mimetype": "text/x-python",
   "name": "python",
   "nbconvert_exporter": "python",
   "pygments_lexer": "ipython3",
   "version": "3.7.8"
  }
 },
 "nbformat": 4,
 "nbformat_minor": 4
}
