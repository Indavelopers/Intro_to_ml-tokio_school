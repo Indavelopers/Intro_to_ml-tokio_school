{
 "cells": [
  {
   "cell_type": "markdown",
   "metadata": {},
   "source": [
    "# Regresión lineal: Validación cruzada y evaluación final\n",
    "\n",
    "Finalmente, vamos a entrenar un modelo de regresión lineal por completo, aplicando preprocesado de datos, comprobando el modelo por validación cruzada, evaluándolo sobre un subset de testing y, finalmente, realizando predicciones con el mismo.\n",
    "\n",
    "Éste es pues un ejemplo completo de cómo entrenar un modelo de regresión lineal multivariable.\n",
    "\n",
    "## ¿Qué vamos a hacer?\n",
    "- Crear un dataset sintético para regresión lineal multivariable\n",
    "- Preprocesar los datos\n",
    "- Entrenar el modelo sobre el subset de entrenamiento\n",
    "- Hallar el hiper-parámetro *lambda* óptimo sobre el subset de validación cruzada o CV\n",
    "- Evaluar el modelo sobre el subset de test\n",
    "- Realizar prediccioes sobre nuevos ejemplos"
   ]
  },
  {
   "cell_type": "markdown",
   "metadata": {},
   "source": [
    "## Crear un dataset sintético para regresión lineal"
   ]
  },
  {
   "cell_type": "markdown",
   "metadata": {},
   "source": [
    "## Preprocesar los datos\n",
    "\n",
    "- Reordenarlos aleatoriamente\n",
    "- Normalizar\n",
    "- Dividirlos en subsets de entrenamiento, validación cruzada y test"
   ]
  },
  {
   "cell_type": "markdown",
   "metadata": {},
   "source": [
    "## Entrenar el modelo sobre el subset de entrenamiento\n",
    "\n",
    "- Entrenar varios modelos con diferentes valores de lambda\n",
    "- Representar la función de coste\n",
    "- Repetir si es necesario cambiando alpha entre otros"
   ]
  },
  {
   "cell_type": "markdown",
   "metadata": {},
   "source": [
    "## Hallar el hiper-parámetro *lambda* óptimo sobre el subset de validación cruzada\n",
    "\n",
    "- Pintar el coste final para todos los valores de lambda y sus thetas asociadas, en el set de train y de cv\n",
    "- Escoger la theta y lambda con menor coste en el subset de cv"
   ]
  },
  {
   "cell_type": "markdown",
   "metadata": {},
   "source": [
    "## Evaluar el modelo finalmente sobre el subset de test\n",
    "\n",
    "- Calcular el coste total sobre el subset de test\n",
    "- Hacer predicciones sobre el subset de test\n",
    "- Ver residuos sobre el subset de test, gráficamente"
   ]
  },
  {
   "cell_type": "markdown",
   "metadata": {},
   "source": [
    "## Realizar predicciones sobre nuevos ejemplos\n",
    "\n",
    "- Generar nuevos ejemplos\n",
    "- Normalizarlos\n",
    "- Generar una predicción"
   ]
  }
 ],
 "metadata": {
  "environment": {
   "name": "common-cpu.m54",
   "type": "gcloud",
   "uri": "gcr.io/deeplearning-platform-release/base-cpu:m54"
  },
  "kernelspec": {
   "display_name": "Python 3",
   "language": "python",
   "name": "python3"
  },
  "language_info": {
   "codemirror_mode": {
    "name": "ipython",
    "version": 3
   },
   "file_extension": ".py",
   "mimetype": "text/x-python",
   "name": "python",
   "nbconvert_exporter": "python",
   "pygments_lexer": "ipython3",
   "version": "3.7.8"
  }
 },
 "nbformat": 4,
 "nbformat_minor": 4
}
