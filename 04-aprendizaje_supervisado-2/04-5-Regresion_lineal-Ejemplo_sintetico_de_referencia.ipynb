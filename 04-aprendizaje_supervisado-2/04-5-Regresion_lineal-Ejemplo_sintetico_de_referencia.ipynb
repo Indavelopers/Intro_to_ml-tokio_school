{
 "cells": [
  {
   "cell_type": "markdown",
   "metadata": {},
   "source": [
    "# Regresión lineal: Ejemplo sintético de referencia\n",
    "\n",
    "## ¿Qué vamos a hacer?\n",
    "- Crear un notebook de referencia, con todos los pasos para entrenar un modelo de regresión lineal multivariable\n",
    "- Limpiar el código de todo comentario o explicación sobrante\n",
    "- Modificar el dataset original para comprobar cómo afecta al modelo entrenado"
   ]
  },
  {
   "cell_type": "markdown",
   "metadata": {},
   "source": [
    "Éste ejercicio va a ser diferente. El último notebook era bastante largo, y contenía mucha información y explicaciones adicionales.\n",
    "\n",
    "Queremos que tengas un notebook de referencia donde puedas ver claramente qué pasos hay que seguir para entrenar un modelo de regresión lineal multivariable.\n",
    "Usaremos este notebook también como referencia para entrenar otro tipo de modelos, no de regresión lineal, y optimizarlos por validación cruzada.\n",
    "\n",
    "También queremos que aproveches la oportunidad para limpiar tus celdas de código, quitando cualquier comentario de instrucciones, consejos, etc., para poder usar estas celdas o notebook en el futuro directamente.\n",
    "\n",
    "Por tanto, tu tarea en este ejercicio será rápida y sencilla: copia las celdas de código del ejercicio anterior, límpialas y déjalas listas como referencia para entrenar modelos de regresión lineal:\n",
    "\n",
    "*Nota*: Puedes modificar y añadir cualquier celda de markdown para añadir alguna explicación o resumen que te ayude a comprender los pasos a seguir."
   ]
  },
  {
   "cell_type": "markdown",
   "metadata": {},
   "source": [
    "## Crear un dataset sintético para regresión lineal\n",
    "\n",
    "- Añádele un término de bias y de error modificable."
   ]
  },
  {
   "cell_type": "markdown",
   "metadata": {},
   "source": [
    "## Preprocesar los datos\n",
    "\n",
    "- Reordenarlos aleatoriamente.\n",
    "- Normalizarlos.\n",
    "- Dividirlos en subsets de entrenamiento, CV y test."
   ]
  },
  {
   "cell_type": "markdown",
   "metadata": {},
   "source": [
    "## Entrenar un modelo inicial\n",
    "\n",
    "- Entrenar un modelo inicial sobre el subset de entrenamiento sin regularización.\n",
    "- Representar el histórico de su coste para comprobar su evolución.\n",
    "- Comprueba la idoneidad del modelo.\n",
    "- Reentrenar el modelo variando los hiper-parámetros si es necesario.\n",
    "- Comprueba si existe desviación o sobreajuste."
   ]
  },
  {
   "cell_type": "markdown",
   "metadata": {},
   "source": [
    "## Hallar la *lambda* óptima sobre el subset de CV\n",
    "\n",
    "- Entrena un modelo por cada valor de *lambda* a considerar\n",
    "- Representa gráficamente el error final sobre el subset de entrenamiento y CV de cada *lambda*\n",
    "- Escoge el modelo y valor de *lambda* óptimos"
   ]
  },
  {
   "cell_type": "markdown",
   "metadata": {},
   "source": [
    "## Evaluar el modelo finalmente sobre el subset de test\n",
    "\n",
    "- Calcula el error del modelo sobre el subset de test con las correspondientes *theta* y *lambda*.\n",
    "- Calcula los resíduos sobre el subset de test y represéntalos."
   ]
  },
  {
   "cell_type": "markdown",
   "metadata": {},
   "source": [
    "## Realizar predicciones sobre nuevos ejemplos\n",
    "\n",
    "- Genera un nuevo ejemplo siguiendo el mismo patrón del dataset original.\n",
    "- Normaliza sus características.\n",
    "- Genera una predicción para dicho ejemplo."
   ]
  },
  {
   "cell_type": "markdown",
   "metadata": {},
   "source": [
    "## Reto adicional\n",
    "\n",
    "Imagínate que en un suceso real que queremos modelar, no hemos recogido todas las características que realmente afectan al mismo. P. ej. que le afectaran 25 características y nosotros sólo hubierámos estimado o podido recoger 12 de ellas.\n",
    "\n",
    "¿Cómo podría afectarle al modelo?\n",
    "\n",
    "*¿Puedes crear un dataset sintético con un nº mayor de características que determinen *Y* mayor que el nº de características usadas para entrenar el modelo, y así comprobarlo?*"
   ]
  }
 ],
 "metadata": {
  "environment": {
   "name": "common-cpu.m54",
   "type": "gcloud",
   "uri": "gcr.io/deeplearning-platform-release/base-cpu:m54"
  },
  "kernelspec": {
   "display_name": "Python 3",
   "language": "python",
   "name": "python3"
  },
  "language_info": {
   "codemirror_mode": {
    "name": "ipython",
    "version": 3
   },
   "file_extension": ".py",
   "mimetype": "text/x-python",
   "name": "python",
   "nbconvert_exporter": "python",
   "pygments_lexer": "ipython3",
   "version": "3.7.8"
  }
 },
 "nbformat": 4,
 "nbformat_minor": 4
}
