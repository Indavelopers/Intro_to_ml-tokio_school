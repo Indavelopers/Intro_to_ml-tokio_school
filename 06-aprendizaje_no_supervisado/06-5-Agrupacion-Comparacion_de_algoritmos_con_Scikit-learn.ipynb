{
 "cells": [
  {
   "cell_type": "markdown",
   "metadata": {},
   "source": [
    "# Agrupación: Comparación de algoritmos con Scikit-learn\n",
    "\n",
    "## ¿Qué vamos a hacer?\n",
    "- Comparar los diferentes algoritmos de agrupación disponibles en Scikit-learn.\n",
    "- Comprobar las asumpciones del algoritmo de K-means.\n",
    "\n",
    "En este ejercicio no vas a desarrollar código nuevo, sino simplemente descargar y ejecutar 2 notebooks de la documentación de Scikit-learn:\n",
    "- [Comparing different clustering algorithms on toy datasets](https://scikit-learn.org/stable/auto_examples/cluster/plot_cluster_comparison.html)\n",
    "- [Demonstration of k-means assumptions](https://scikit-learn.org/stable/auto_examples/cluster/plot_kmeans_assumptions.html)\n",
    "\n",
    "Como conclusiones podríamos añadir muchas, como p. ej.:\n",
    "- Ningún algoritmo de agrupación trabaja bien en todos los casos, con todos los datasets.\n",
    "- El análisis de datos previo es más necesario si cabe a la hora de entrenar estos algoritmos.\n",
    "- La visualización previa nos ayudará mucho, aunque es bastante difícil de hacer sin reducción de dimensionalidad.\n",
    "- El problema de la agrupación es inherentemente difícil de resolver.\n",
    "\n",
    "\n",
    "Copia las celdas de código, analiza los resultados, modifica algunos parámetros para comprobar tus intuiciones y responde a las preguntas al final del ejercicio:"
   ]
  },
  {
   "cell_type": "markdown",
   "metadata": {},
   "source": [
    "## Comparando diferentes algoritmos de agrupación en datasets de muestra\n",
    "\n",
    "El problema de la agrupación es un problema inherentemente difícil de resolver con precisión, puesto que no hay unos resultados previamente conocidos que podamos usar para supervisar nuestro aprendizaje, y la elección de clústeres correctos puede ser bastante difícil, además de subjetiva.\n",
    "\n",
    "Hay muchos algoritmos de agrupación diferentes que podemos utilizar, además de K-means y sus variantes, y cada uno de ellos funcionará mejor o peor, en función de la distribución de datos del dataset.\n",
    "\n",
    "Copia el código del ejercicio **Comparing different clustering algorithms on toy datasets** y compruébalo por ti mismo:"
   ]
  },
  {
   "cell_type": "code",
   "execution_count": null,
   "metadata": {},
   "outputs": [],
   "source": [
    "# TODO: Ejecuta el código del ejercicio correspondiente"
   ]
  },
  {
   "cell_type": "markdown",
   "metadata": {},
   "source": [
    "## Demostración de las asumpciones del algoritmo de K-means\n",
    "\n",
    "En concreto, para el algoritmo de K-means y en general para sus variaciones, funcionará mal sobre datasets con las siguientes distribuciones de ejemplos:\n",
    "- Un nº incorrecto de blobs o clústeres utilizado para entrenar el modelo.\n",
    "- Datasets con formas no-esféricas muy juntos entre sí.\n",
    "- Varianza entre clústeres cercanos muy diferente entre sí.\n",
    "\n",
    "Por contra, funciona bastante bien en clústeres separados con una varianza similar, aunque el nº de ejemplos sea muy diferente.\n",
    "\n",
    "Copia el código del ejercicio **Demonstration of k-means assumptions** y compruébalo por ti mismo:"
   ]
  },
  {
   "cell_type": "code",
   "execution_count": null,
   "metadata": {},
   "outputs": [],
   "source": [
    "# TODO: Ejecuta el código del ejercicio correspondiente"
   ]
  },
  {
   "cell_type": "markdown",
   "metadata": {},
   "source": [
    "Modifica los parámetros del dataset utilizado para ver si las asumpciones se continúan cumpliendo."
   ]
  },
  {
   "cell_type": "markdown",
   "metadata": {},
   "source": [
    "## Preguntas a responder\n",
    "\n",
    "Por favor, responde las siguientes preguntas editando esta celda de Markdown con tus respuestas a continuación de cada pregunta.\n",
    "Hemos dividido las preguntas en 2 bloques, cada uno relativa a uno de los notebooks de la documentación de Scikit-learn, por lo que cuando hablemos de datasets y algoritmos nos referiremos sólo a los que aparezcan en dicho notebook.\n",
    "\n",
    "### Comparando diferentes algoritmos de agrupación en datasets de muestra\n",
    "1. Pregunta: ¿Puedes describir con tus propias palabras los 6 datasets diferentes utilizados?\n",
    "    1.  Nota: Parece una pregunta tonta, pero aunque las diferencias son evidentes, tener que pararte a describir las diferencias te ayuda a fijarte realmente bien y al escribirlo te puede servir para luego ver si encaja con alguna/s característica/s de otro dataset en la vida real.\n",
    "    1. Dataset 1:\n",
    "    1. Dataset 2:\n",
    "    1. Dataset 3:\n",
    "    1. Dataset 4:\n",
    "    1. Dataset 5:\n",
    "    1. Dataset 6:\n",
    "1. Pregunta: Compara los diferentes algoritmos en los diferentes datasets. \"Dale una nota\" entre 1 y 5 a cada uno de ellos para compararlos:\n",
    "    1. Ejemplo: MiniBatchKMeans: [1, 2, 2, 1, 5, 3]\n",
    "    1. Mini-batch KMeans: []\n",
    "    1. Affinity propagation: []\n",
    "    1. Mean shift: []\n",
    "    1. Spectral clustering: []\n",
    "    1. Ward: []\n",
    "    1. Agglomerative clustering: []\n",
    "    1. DB Scan: []\n",
    "    1. Optics: []\n",
    "    1. Birch: []\n",
    "    1. Gaussian mixture: []\n",
    "1. Pregunta: Elige un algoritmo para resolver cada dataset o situación, y justifica tu respuesta:\n",
    "    1. Dataset 1:\n",
    "    1. Dataset 2:\n",
    "    1. Dataset 3:\n",
    "    1. Dataset 4:\n",
    "    1. Dataset 5:\n",
    "    1. Dataset 6:\n",
    "    \n",
    "### Demostración de las asumpciones del algoritmo de K-means\n",
    "1. Pregunta: Ya has descrito la mayoría de datasets en una pregunta anterior. Así mismo, describe el último dataset (\"Unevenly sized blobs\"):\n",
    "    1. Respuesta:\n",
    "1. Pregunta: Para cada dataset o caso, describe la asumpción de KMeans para su correcta aplicación que crees que cumple o inclumple.\n",
    "    1. Dataset 1:\n",
    "    1. Dataset 2:\n",
    "    1. Dataset 3:\n",
    "    1. Dataset 4:\n",
    "1. Pregunta: Para cada dataset o caso, ¿se te ocurre alguna posible transformación de los datos a otro espacio de variables (espacio lineal, vectorial, etc.), o una transformación de otro tipo, que nos ayudara a resolver dicho problema con KMeans?\n",
    "    1. Nota: Es una pregunta compleja, no te preocupes si no tienes una respuesta para cada caso, o no se te ocurre nada, aunque te animamos a intentarlo :).\n",
    "    1. Dataset 1:\n",
    "    1. Dataset 2:\n",
    "    1. Dataset 3:\n",
    "    1. Dataset 4:"
   ]
  }
 ],
 "metadata": {
  "environment": {
   "name": "common-cpu.m54",
   "type": "gcloud",
   "uri": "gcr.io/deeplearning-platform-release/base-cpu:m54"
  },
  "kernelspec": {
   "display_name": "Python 3",
   "language": "python",
   "name": "python3"
  },
  "language_info": {
   "codemirror_mode": {
    "name": "ipython",
    "version": 3
   },
   "file_extension": ".py",
   "mimetype": "text/x-python",
   "name": "python",
   "nbconvert_exporter": "python",
   "pygments_lexer": "ipython3",
   "version": "3.7.8"
  }
 },
 "nbformat": 4,
 "nbformat_minor": 4
}
