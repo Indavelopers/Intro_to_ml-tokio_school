{
 "cells": [
  {
   "cell_type": "markdown",
   "metadata": {},
   "source": [
    "# Redes neuronales: Clasificación\n",
    "\n",
    "## ¿Qué vamos a hacer?\n",
    "- Usar el dataset de Labeled Faces in the Wild\n",
    "- Entrenar una red neuronal multicapa de clasificación\n",
    "- Optimizar su regularización por validación cruzada\n",
    "- Evaluar la red neuronal sobre el subset de test\n",
    "\n",
    "Vamos a entrenar otra red neuronal (RNN), en este caso de clasificación. Para ello entrenaremos una RNN profunda o multicapa para clasificación multiclase, con la función de activación sigmoide.\n",
    "\n",
    "El dataset de regresión sobre el que entrenaremos el modelo será un dataset real: el dataset de caras de famosos Labeled Faces in the Wild, incluido en Scikit-learn, en su versión para el problema de reconocer caras.\n",
    "\n",
    "Referencias:\n",
    "- [The Labeled Faces in the Wild face recognition dataset](https://scikit-learn.org/stable/datasets/index.html#labeled-faces-in-the-wild-dataset)\n",
    "- [sklearn.datasets.fetch_lfw_people](https://scikit-learn.org/stable/modules/generated/sklearn.datasets.fetch_lfw_people.html)\n",
    "- [Neuronal network models: Classification](https://scikit-learn.org/stable/modules/neural_networks_supervised.html#classification)\n",
    "- [sklearn.neural_network.MLPClassifier](https://scikit-learn.org/stable/modules/generated/sklearn.neural_network.MLPClassifier.html)"
   ]
  },
  {
   "cell_type": "code",
   "execution_count": null,
   "metadata": {},
   "outputs": [],
   "source": [
    "# TODO: Importa todos los módulos necesarios en esta celda"
   ]
  },
  {
   "cell_type": "markdown",
   "metadata": {},
   "source": [
    "## Descargar el dataset y analizarlo\n",
    "\n",
    "Descarga el dataset de California Housing en formato *(dataset.data, dataset.target)* y analízalo para hacerte una idea de sus características, dimensionalidad, etc..\n",
    "\n",
    "P. ej., *¿necesita ser normalizado? ¿Están ordenados aleatoriamente los ejemplos?*"
   ]
  },
  {
   "cell_type": "code",
   "execution_count": null,
   "metadata": {},
   "outputs": [],
   "source": [
    "# TODO: Descarga el dataset y analiza algunos de sus ejemplos"
   ]
  },
  {
   "cell_type": "markdown",
   "metadata": {},
   "source": [
    "## Preprocesar los datos\n",
    "\n",
    "De nuevo, vamos a preprocesar los datos siguiendo nuestros pasos habituales, siempre que sea necesario:\n",
    "- Reordena los datos aleatoriamente.\n",
    "- Normalízalos.\n",
    "- Divídelos en subset de entrenamiento y test (usaremos validación cruzada por K-fold)."
   ]
  },
  {
   "cell_type": "code",
   "execution_count": null,
   "metadata": {},
   "outputs": [],
   "source": [
    "# TODO: Reordena los datos aleatoriamente"
   ]
  },
  {
   "cell_type": "code",
   "execution_count": null,
   "metadata": {},
   "outputs": [],
   "source": [
    "# TODO: Normaliza los datos"
   ]
  },
  {
   "cell_type": "code",
   "execution_count": null,
   "metadata": {},
   "outputs": [],
   "source": [
    "# TODO: Divídelos en subset de entrenamiento y test"
   ]
  },
  {
   "cell_type": "markdown",
   "metadata": {},
   "source": [
    "## Entrena una RNN multicapa inicial\n",
    "\n",
    "De nuevo, para comprobar nuestra implementación y que un modelo de regresión lineal por RNN multicapa podría resolver este dataset, vamos a entrenar una RNN inicial, sin regularización.\n",
    "\n",
    "Entrénalo sobre el subset de entrenamiento y evalúalo con su método *score()* sobre el subset de test:"
   ]
  },
  {
   "cell_type": "code",
   "execution_count": null,
   "metadata": {},
   "outputs": [],
   "source": [
    "# TODO: Entrena una RNN multicapa sin regularización\n",
    "# Como topología, usa 2 capas intermedias de 25 nodos cada una\n",
    "hidden_layer_sizes = (25, 25)\n",
    "\n",
    "# Usa la función de activación logística sigmoide para entrenar la RNN\n",
    "activation = 'logistic'"
   ]
  },
  {
   "cell_type": "markdown",
   "metadata": {},
   "source": [
    "## Optimiza la RNN por validación cruzada\n",
    "\n",
    "Vamos a optimizar los diferentes hiper-parámetros de la RNN para nuestro modelo por CV, usando K-fold.\n",
    "\n",
    "Vamos a usar [sklearn.model_selection.GridSearchCV](https://scikit-learn.org/stable/modules/generated/sklearn.model_selection.GridSearchCV.html) puesto que tenemos que optimizar 2 valores a la vez:\n",
    "- *hidden_layer_sizes*: el nº de capas ocultas y nº de neuronas por capa, en el rango [1, 4] capas ocultas y [10, 50] neuronas por capa.\n",
    "- *alpha*: parámetro de regularización L2, en el rango [10^0, 10^7].\n",
    "\n",
    "Según los recursos de tu entorno de trabajo y el tiempo que le lleve entrenar los modelos, puedes evaluar cuantos valores consideres convenientes en dichos rangos:"
   ]
  },
  {
   "cell_type": "code",
   "execution_count": null,
   "metadata": {},
   "outputs": [],
   "source": [
    "# TODO: Entrena una RNN multicapa optimizando sus hiper-parámetros hidden_layer_sizes y alpha por CV"
   ]
  },
  {
   "cell_type": "code",
   "execution_count": null,
   "metadata": {},
   "outputs": [],
   "source": [
    "# TODO: Escoge el modelo más óptimo entre los entrenados"
   ]
  },
  {
   "cell_type": "markdown",
   "metadata": {},
   "source": [
    "## Evalúa la RNN sobre el subset de test\n",
    "\n",
    "Finalmente, evalúa la RNN sobre el subset de test usando su método *score()*, la precisión media de las clasificaciones:"
   ]
  },
  {
   "cell_type": "code",
   "execution_count": null,
   "metadata": {},
   "outputs": [],
   "source": [
    "# TODO: Evalúa la RNN sobre el subset de test"
   ]
  },
  {
   "cell_type": "markdown",
   "metadata": {},
   "source": [
    "Representa algunas de las caras predichas.\n",
    "\n",
    "Para ello, puedes seguir este ejemplo: [Faces recognition example using eigenfaces and SVMs](https://scikit-learn.org/stable/auto_examples/applications/plot_face_recognition.html) (no te preocupes por las *eigenfaces* ni los *eigenvalues*, no hemos explicado aún este concepto en el curso)."
   ]
  },
  {
   "cell_type": "markdown",
   "metadata": {},
   "source": [
    "*Bonus*: Compara la precisión de tu RNN con la del modelo de SVM de clasificación que usaste sobre este mismo dataset, *¿qué modelo ha conseguido mayor precisión final?*"
   ]
  }
 ],
 "metadata": {
  "environment": {
   "name": "common-cpu.m54",
   "type": "gcloud",
   "uri": "gcr.io/deeplearning-platform-release/base-cpu:m54"
  },
  "kernelspec": {
   "display_name": "Python 3",
   "language": "python",
   "name": "python3"
  },
  "language_info": {
   "codemirror_mode": {
    "name": "ipython",
    "version": 3
   },
   "file_extension": ".py",
   "mimetype": "text/x-python",
   "name": "python",
   "nbconvert_exporter": "python",
   "pygments_lexer": "ipython3",
   "version": "3.7.8"
  }
 },
 "nbformat": 4,
 "nbformat_minor": 4
}
