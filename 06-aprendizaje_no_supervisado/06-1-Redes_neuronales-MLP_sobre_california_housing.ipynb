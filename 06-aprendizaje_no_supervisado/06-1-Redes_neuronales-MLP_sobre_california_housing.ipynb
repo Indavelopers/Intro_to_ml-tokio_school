{
 "cells": [
  {
   "cell_type": "markdown",
   "metadata": {},
   "source": [
    "# Redes neuronales: Regresión lineal\n",
    "\n",
    "## ¿Qué vamos a hacer?\n",
    "- Usar el dataset de California Housing\n",
    "- Entrenar una red neuronal multicapa\n",
    "- Optimizar su regularización por validación cruzada\n",
    "- Evaluar la red neuronal sobre el subset de test\n",
    "\n",
    "Vamos a entrenar nuestra primera red neuronal (RNN). En este caso entrenaremos una RNN profunda o multicapa para regresión, con la función de activación RELU (\"REctified Linear Unit function\").\n",
    "\n",
    "El dataset de regresión sobre el que entrenaremos el modelo será un dataset real: el dataset de predicción de precios inmobiliarios de California Housing, incluido en Scikit-learn.\n",
    "\n",
    "Referencias:\n",
    "- [California Housing dataset](https://scikit-learn.org/stable/datasets/index.html#california-housing-dataset)\n",
    "- [sklearn.datasets.fetch_california_housing](https://scikit-learn.org/stable/modules/generated/sklearn.datasets.fetch_california_housing.html)\n",
    "- [Neuronal network models: Regression](https://scikit-learn.org/stable/modules/neural_networks_supervised.html#regression)\n",
    "- [sklearn.neural_network.MLPRegressor](https://scikit-learn.org/stable/modules/generated/sklearn.neural_network.MLPRegressor.html)"
   ]
  },
  {
   "cell_type": "code",
   "execution_count": null,
   "metadata": {},
   "outputs": [],
   "source": [
    "# TODO: Importa todos los módulos necesarios en esta celda"
   ]
  },
  {
   "cell_type": "markdown",
   "metadata": {},
   "source": [
    "## Descargar el dataset y analizarlo\n",
    "\n",
    "Descarga el dataset de California Housing en formato *(data.data, data.target)* y analízalo para hacerte una idea de sus características, dimensionalidad, etc..\n",
    "\n",
    "P. ej., *¿necesita ser normalizado? ¿Están ordenados aleatoriamente los ejemplos?*"
   ]
  },
  {
   "cell_type": "code",
   "execution_count": null,
   "metadata": {},
   "outputs": [],
   "source": [
    "# TODO: Descarga el dataset y analiza algunos de sus ejemplos"
   ]
  },
  {
   "cell_type": "markdown",
   "metadata": {},
   "source": [
    "## Preprocesar los datos\n",
    "\n",
    "De nuevo, vamos a preprocesar los datos siguiendo nuestros pasos habituales, siempre que sea necesario:\n",
    "- Reordena los datos aleatoriamente.\n",
    "- Normalízalos.\n",
    "- Divídelos en subset de entrenamiento y test (usaremos validación cruzada por K-fold)."
   ]
  },
  {
   "cell_type": "code",
   "execution_count": null,
   "metadata": {},
   "outputs": [],
   "source": [
    "# TODO: Reordena los datos aleatoriamente"
   ]
  },
  {
   "cell_type": "code",
   "execution_count": null,
   "metadata": {},
   "outputs": [],
   "source": [
    "# TODO: Normaliza los datos"
   ]
  },
  {
   "cell_type": "code",
   "execution_count": null,
   "metadata": {},
   "outputs": [],
   "source": [
    "# TODO: Divídelos en subset de entrenamiento y test"
   ]
  },
  {
   "cell_type": "markdown",
   "metadata": {},
   "source": [
    "## Entrena una RNN multicapa inicial\n",
    "\n",
    "De nuevo, para comprobar nuestra implementación y que un modelo de regresión lineal por RNN multicapa podría resolver este dataset, vamos a entrenar una RNN inicial, sin regularización.\n",
    "\n",
    "Entrénalo sobre el subset de entrenamiento y evalúalo con su método *score()* sobre el subset de test:"
   ]
  },
  {
   "cell_type": "code",
   "execution_count": null,
   "metadata": {},
   "outputs": [],
   "source": [
    "# TODO: Entrena una RNN multicapa sin regularización\n",
    "# Como topología, usa 2 capas intermedias de 25 nodos cada una\n",
    "hidden_layer_sizes = (25, 25)"
   ]
  },
  {
   "cell_type": "markdown",
   "metadata": {},
   "source": [
    "## Optimiza la RNN por validación cruzada\n",
    "\n",
    "Vamos a optimizar los diferentes hiper-parámetros de la RNN para nuestro modelo por CV, usando K-fold.\n",
    "\n",
    "Vamos a usar [sklearn.model_selection.GridSearchCV](https://scikit-learn.org/stable/modules/generated/sklearn.model_selection.GridSearchCV.html) puesto que tenemos que optimizar 2 valores a la vez:\n",
    "- *hidden_layer_sizes*: el nº de capas ocultas y nº de neuronas por capa, en el rango [1, 4] capas ocultas y [10, 50] neuronas por capa.\n",
    "- *alpha*: parámetro de regularización L2, en el rango [10^0, 10^7].\n",
    "\n",
    "Según los recursos de tu entorno de trabajo y el tiempo que le lleve entrenar los modelos, puedes evaluar cuantos valores consideres convenientes en dichos rangos:"
   ]
  },
  {
   "cell_type": "code",
   "execution_count": null,
   "metadata": {},
   "outputs": [],
   "source": [
    "# TODO: Entrena una RNN multicapa optimizando sus hiper-parámetros hidden_layer_sizes y alpha por CV"
   ]
  },
  {
   "cell_type": "code",
   "execution_count": null,
   "metadata": {},
   "outputs": [],
   "source": [
    "# TODO: Escoge el modelo más óptimo entre los entrenados"
   ]
  },
  {
   "cell_type": "markdown",
   "metadata": {},
   "source": [
    "## Evalúa la RNN sobre el subset de test\n",
    "\n",
    "Finalmente, evalúa la RNN sobre el subset de test usando su método *score()*, el coeficiente de determinación R^2:"
   ]
  },
  {
   "cell_type": "code",
   "execution_count": null,
   "metadata": {},
   "outputs": [],
   "source": [
    "# TODO: Evalúa la RNN sobre el subset de test"
   ]
  }
 ],
 "metadata": {
  "environment": {
   "name": "common-cpu.m54",
   "type": "gcloud",
   "uri": "gcr.io/deeplearning-platform-release/base-cpu:m54"
  },
  "kernelspec": {
   "display_name": "Python 3",
   "language": "python",
   "name": "python3"
  },
  "language_info": {
   "codemirror_mode": {
    "name": "ipython",
    "version": 3
   },
   "file_extension": ".py",
   "mimetype": "text/x-python",
   "name": "python",
   "nbconvert_exporter": "python",
   "pygments_lexer": "ipython3",
   "version": "3.7.8"
  }
 },
 "nbformat": 4,
 "nbformat_minor": 4
}
