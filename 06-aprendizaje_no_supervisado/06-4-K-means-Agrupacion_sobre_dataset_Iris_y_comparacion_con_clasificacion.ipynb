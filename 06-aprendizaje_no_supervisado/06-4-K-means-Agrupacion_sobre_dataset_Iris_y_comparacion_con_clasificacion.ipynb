{
 "cells": [
  {
   "cell_type": "markdown",
   "metadata": {},
   "source": [
    "# K-means: Agrupación sobre dataset Iris y comparación con clasificación\n",
    "\n",
    "## ¿Qué vamos a hacer?\n",
    "- Descargar el dataset Iris.\n",
    "- Entrenar un modelo de agrupación por K-means usando Scikit-learn.\n",
    "- Evaluar los resultados del modelo gráficamente.\n",
    "- Entrenar un modelo de clasificación por SVM sobre el mismo dataset.\n",
    "- Evaluar los resultados de la clasificación.\n",
    "- Comparar ambos modelos y sus resultados.\n",
    "\n",
    "En este ejercicio, vamos a aplicar ambos algoritmos en el dataset de Iris, que habíamos utilizado previamente en clasificación. De esta forma vamos a poder comparar ambos tipos de aprendizaje, el aprendizaje supervisado de la clasificación y el aprendizaje no supervisado de la agrupación.\n",
    "\n",
    "Habitualmente podemos confundir ambos tipos de modelos, o pensar que podemos utilizarlos para casos de uso similares. Sin embargo, siempre debemos recordar la diferencia fundamental entre ellos: que la clasificación es un aprendizaje supervisado y la agrupación no supervisado."
   ]
  },
  {
   "cell_type": "code",
   "execution_count": null,
   "metadata": {},
   "outputs": [],
   "source": [
    "# TODO: Importa todos los módulos necesarios en esta celda"
   ]
  },
  {
   "cell_type": "markdown",
   "metadata": {},
   "source": [
    "## Descargar el dataset Iris\n",
    "\n",
    "Descarga el dataset Iris en formato *X* e *Y* para utilizarlo en este ejercicio.\n",
    "\n",
    "Puedes usar la función: [sklearn.datasets.load_iris](https://scikit-learn.org/stable/modules/generated/sklearn.datasets.load_iris.html)."
   ]
  },
  {
   "cell_type": "code",
   "execution_count": null,
   "metadata": {},
   "outputs": [],
   "source": [
    "# TODO: Descarga el dataset Iris"
   ]
  },
  {
   "cell_type": "markdown",
   "metadata": {},
   "source": [
    "*¿Te atreves a representar en 3D sus primeras 3 características? Longitud de los sépalos, anchura de los sépalos y longitud de los pétalos*.\n",
    "\n",
    "*¿Aprecias una clara diferenciación entre clases? ¿Aprecias varios clústeres de datos?*\n",
    "\n",
    "Puedes usar como referencia estos ejercicios:\n",
    "- [The Iris Dataset](https://scikit-learn.org/stable/modules/generated/sklearn.datasets.load_iris.html)\n",
    "- [3D scatterplot](https://matplotlib.org/3.1.1/gallery/mplot3d/scatter3d.html)\n",
    "- [K-means Clustering](https://scikit-learn.org/stable/auto_examples/cluster/plot_cluster_iris.html)"
   ]
  },
  {
   "cell_type": "code",
   "execution_count": null,
   "metadata": {},
   "outputs": [],
   "source": [
    "# TODO: Representa en 3D 3 características del dataset 4-dimensional"
   ]
  },
  {
   "cell_type": "markdown",
   "metadata": {},
   "source": [
    "Para analizar mejor el dataset, intenta representar otra elección de 3 características diferentes, incluyendo también la anchura del pétalo.\n",
    "\n",
    "Entre dichas combinaciones de características, representadas en diferentes gráficas, *¿puedes encontrar una diferencia entre clases más clara? ¿Varios clústeres de datos agrupados?*\n",
    "\n",
    "Ante tales datos, que se pueden apreciar difíciles para nuestros 2 tipos de modelos, vamos a entrenarlos para comprobar sus resultados."
   ]
  },
  {
   "cell_type": "markdown",
   "metadata": {},
   "source": [
    "## Preprocesar los datos\n",
    "\n",
    "Vamos a preprocesar los datos de la forma habitual:\n",
    "- Reordena aleatoriamente los ejemplos.\n",
    "- Normalízalos.\n",
    "- Divídelos en subsets de entrenamiento y test.\n",
    "\n",
    "Usaremos exclusivamente el subset de entrenamiento para entrenar nuestros modelos y el de test para evaluarlos, también para el K-means. De esta forma nos aseguraremos de que ambos tipos de modelos se han entrenado y evaluado en igualdad de condiciones."
   ]
  },
  {
   "cell_type": "markdown",
   "metadata": {},
   "source": [
    "## Entrenar un modelo de agrupación por K-means usando Scikit-learn\n",
    "\n",
    "Vamos a entrenar un modelo de K-means usando el método de Scikit-learn [sklearn.cluster.KMeans](https://scikit-learn.org/stable/modules/generated/sklearn.cluster.KMeans.html).\n",
    "\n",
    "Dicho método acepta un nº de clústeres *n_clusters* y realiza varias inicializaciones con diferentes centroides originales, por lo que no tendremos que realizar validación cruzada en el mismo.\n",
    "\n",
    "Entrena un modelo de K-means para 3 clústeres sobre el subset de entrenamiento:"
   ]
  },
  {
   "cell_type": "code",
   "execution_count": null,
   "metadata": {},
   "outputs": [],
   "source": [
    "# TODO: Entrena un modelo de K-means con Scikit-learn para 3 clústeres"
   ]
  },
  {
   "cell_type": "markdown",
   "metadata": {},
   "source": [
    "## Evaluar sus resultados gráficamente"
   ]
  },
  {
   "cell_type": "markdown",
   "metadata": {},
   "source": [
    "En esta ocasión, para evaluar el modelo de K-means vamos a usar el subset de test final, ya que disponemos del mismo.\n",
    "\n",
    "Evalúa dicho modelo con su método *score()* y con el coeficiente de silueta:"
   ]
  },
  {
   "cell_type": "code",
   "execution_count": null,
   "metadata": {},
   "outputs": [],
   "source": [
    "# TODO: Evalúa dicho modelo sin usar Y o el subset de test"
   ]
  },
  {
   "cell_type": "markdown",
   "metadata": {},
   "source": [
    "Representa gráficamente sus resultados:"
   ]
  },
  {
   "cell_type": "code",
   "execution_count": null,
   "metadata": {},
   "outputs": [],
   "source": [
    "# TODO: Representa gráficamente los centroides y los ejemplos asignados de cada clúster"
   ]
  },
  {
   "cell_type": "markdown",
   "metadata": {},
   "source": [
    "## Entrenar un modelo de clasificación por SVM sobre el dataset Iris\n",
    "\n",
    "Ahora entrena un modelo de clasificación por SVM usando [sklearn.svm.SVC](https://scikit-learn.org/stable/modules/generated/sklearn.svm.SVC.html) sobre el dataset Iris.\n",
    "\n",
    "Evalúa varios valores del hiper-parámetro *C* y los kernels disponibles con [sklearn.model_selection.GridSearchCV](https://scikit-learn.org/stable/modules/generated/sklearn.model_selection.GridSearchCV.html).\n",
    "\n",
    "*Nota*: Para el hiper-parámetro *gamma*, puedes usar directamente el valor por defecto de SVC.\n",
    "\n",
    "Puedes usar como referencia este ejercicio: [Plot differente SVM classifiers in the Iris Dataset](https://scikit-learn.org/stable/auto_examples/svm/plot_iris_svc.html)."
   ]
  },
  {
   "cell_type": "code",
   "execution_count": null,
   "metadata": {},
   "outputs": [],
   "source": [
    "# TODO: Entrena un modelo de SVC optimizando sus hiper-parámetros y kernel usado por CV con K-fold"
   ]
  },
  {
   "cell_type": "markdown",
   "metadata": {},
   "source": [
    "## Evaluar sus resultados gráficamente\n",
    "\n",
    "Al igual que hicimos en los ejercicios de la sesión anterior, evalúa el modelo finalmente sobre el subset de test y representa sus predicciones gráficamente:"
   ]
  },
  {
   "cell_type": "code",
   "execution_count": null,
   "metadata": {},
   "outputs": [],
   "source": [
    "# TODO: Evalúa el mejor modelo sobre el subset de test"
   ]
  },
  {
   "cell_type": "code",
   "execution_count": null,
   "metadata": {},
   "outputs": [],
   "source": [
    "# TODO: Representa sus predicciones gráficamente"
   ]
  },
  {
   "cell_type": "markdown",
   "metadata": {},
   "source": [
    "## Comparar ambos modelos y sus resultados\n",
    "\n",
    "Aunque ambas tareas, la agrupación y la clasificación son inherentemente diferentes, podemos comparar dichos resultados para destacar sus diferencias.\n",
    "\n",
    "Para ello, puedes comparar la asignación de ejemplos a cada clúster en agrupación y a cada clase en clasificación.\n",
    "\n",
    "*Nota*: Ten en cuenta la dificultad inherente de los ejemplos y características de este dataset Iris.\n",
    "\n",
    "- *¿Hay una gran diferencia en nº de ejemplos que estarían asignados a un clúster en agrupación y a una clase diferente en clasificación?*\n",
    "- *¿Qué modelo acierta más? ¿Es capaz una agrupación de tener un resultado similar a un modelo de clasificación, cuando podemos evaluar la clase real*\n",
    "- *¿Cómo es la división del espacio n-dimensional en ambos casos? ¿El espacio asignado a las clases y el asignado a los clústeres es similar en las representaciones gráficas?*"
   ]
  }
 ],
 "metadata": {
  "environment": {
   "name": "common-cpu.m54",
   "type": "gcloud",
   "uri": "gcr.io/deeplearning-platform-release/base-cpu:m54"
  },
  "kernelspec": {
   "display_name": "Python 3",
   "language": "python",
   "name": "python3"
  },
  "language_info": {
   "codemirror_mode": {
    "name": "ipython",
    "version": 3
   },
   "file_extension": ".py",
   "mimetype": "text/x-python",
   "name": "python",
   "nbconvert_exporter": "python",
   "pygments_lexer": "ipython3",
   "version": "3.7.8"
  }
 },
 "nbformat": 4,
 "nbformat_minor": 4
}
