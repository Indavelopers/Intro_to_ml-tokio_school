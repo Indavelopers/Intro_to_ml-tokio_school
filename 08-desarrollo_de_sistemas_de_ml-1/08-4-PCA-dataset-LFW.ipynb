{
 "cells": [
  {
   "cell_type": "markdown",
   "metadata": {},
   "source": [
    "# PCA: Dataset LFW\n",
    "\n",
    "## ¿Qué vamos a hacer?\n",
    "- Reducir la dimensionalidad de un dataset de alta dimensionalidad como el LFW\n",
    "- Escoger un el subconjunto mínimo de vectores\n",
    "- Representar los vectores principales"
   ]
  }
 ],
 "metadata": {
  "environment": {
   "name": "common-cpu.m54",
   "type": "gcloud",
   "uri": "gcr.io/deeplearning-platform-release/base-cpu:m54"
  },
  "kernelspec": {
   "display_name": "Python 3",
   "language": "python",
   "name": "python3"
  },
  "language_info": {
   "codemirror_mode": {
    "name": "ipython",
    "version": 3
   },
   "file_extension": ".py",
   "mimetype": "text/x-python",
   "name": "python",
   "nbconvert_exporter": "python",
   "pygments_lexer": "ipython3",
   "version": "3.7.8"
  }
 },
 "nbformat": 4,
 "nbformat_minor": 4
}
