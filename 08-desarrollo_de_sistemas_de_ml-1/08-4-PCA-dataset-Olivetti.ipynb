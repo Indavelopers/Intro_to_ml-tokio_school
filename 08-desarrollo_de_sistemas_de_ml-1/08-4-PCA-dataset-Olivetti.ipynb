{
 "cells": [
  {
   "cell_type": "markdown",
   "metadata": {},
   "source": [
    "# PCA: Dataset caras de Olivetti\n",
    "\n",
    "## ¿Qué vamos a hacer?\n",
    "- Reducir la dimensionalidad de un dataset de alta dimensionalidad como el LFW\n",
    "- Escoger un el subconjunto mínimo de vectores\n",
    "- Representar los vectores principales\n",
    "\n",
    "En el ejercicio anterior vimos cómo implementar PCA con Scikit-learn para reducir la dimensionalidad, particularmente de cara a la representación de los datos.\n",
    "\n",
    "En este ejercicio nos vamos a centrar en encontrar el número mínimo de componentes principales al que podemos reducir la dimensionalidad del dataset perdiendo el mínimo de información o varianza posible.\n",
    "\n",
    "Para ello, vamos a utilizar el dataset de\n",
    "\n",
    "*NOTA*: Para este ejercicio te puedes basar las siguientes páginas de la documentación de Scikit-learn:\n",
    "- []().\n",
    "- [Faces dataset decompositions](https://scikit-learn.org/stable/auto_examples/decomposition/plot_faces_decomposition.html)."
   ]
  },
  {
   "cell_type": "code",
   "execution_count": null,
   "metadata": {},
   "outputs": [],
   "source": [
    "# TODO: Importa todas las librerías necesarias aquí\n",
    "\n",
    "import matplotlib.pyplot as plt\n",
    "import numpy as np\n",
    "\n",
    "from sklearn import datasets\n",
    "from sklearn.decomposition import PCA\n",
    "\n",
    "rng = np.random.RandomState(42)\n",
    "\n",
    "fignum = 1"
   ]
  }
 ],
 "metadata": {
  "environment": {
   "name": "common-cpu.m54",
   "type": "gcloud",
   "uri": "gcr.io/deeplearning-platform-release/base-cpu:m54"
  },
  "kernelspec": {
   "display_name": "Python 3",
   "language": "python",
   "name": "python3"
  },
  "language_info": {
   "codemirror_mode": {
    "name": "ipython",
    "version": 3
   },
   "file_extension": ".py",
   "mimetype": "text/x-python",
   "name": "python",
   "nbconvert_exporter": "python",
   "pygments_lexer": "ipython3",
   "version": "3.7.8"
  }
 },
 "nbformat": 4,
 "nbformat_minor": 4
}
