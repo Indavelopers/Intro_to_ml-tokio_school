{
 "cells": [
  {
   "cell_type": "markdown",
   "metadata": {},
   "source": [
    "# PCA: Dataset Iris\n",
    "\n",
    "## ¿Qué vamos a hacer?\n",
    "- Reducir la dimensionalidad de un dataset por PCA.\n",
    "- Implementar PCA con Scikit-learn.\n",
    "- Representar gráficamente las nuevas dimensiones."
   ]
  },
  {
   "cell_type": "code",
   "execution_count": null,
   "metadata": {},
   "outputs": [],
   "source": [
    "# TODO: Importa todas las librerías necesarias aquí\n",
    "\n",
    "import numpy as np\n",
    "import matpltolib as plt\n",
    "\n",
    "from sklearn import datasets\n",
    "from sklearn.decomposition import PCA\n",
    "from mpl_toolkits.mplot3d import Axes3D\n",
    "\n",
    "fignum = 1"
   ]
  },
  {
   "cell_type": "markdown",
   "metadata": {},
   "source": [
    "## El dataset Iris\n",
    "\n",
    "Aunque ya hemos trabajado previamente con el dataset Iris, vamos a recordar sus características principales:\n",
    "- Dataset con la información de plantas de iris para clasificación.\n",
    "- 3 clases: Iris Setosa, Iris Versicolor o Iris Virgínica.\n",
    "- Una clase es linealmente separable del resto, las otras 2 no son linealmente seperables.\n",
    "- 4 dimensiones: longitud y anchura de los sépalos y de los pétalos en cm.\n",
    "- 150 ejemplos, 50 de cada clase.\n",
    "\n",
    "A priori no es un dataset de alta dimensionalidad que necesite de reducción por PCA, pero al tener pocas dimensiones nos permite visualizarlas de forma más sencilla.\n",
    "\n",
    "Para este ejercicio, puedes fijarte en los siguientes ejemplos de la documentación de Scikit-learn:\n",
    "- [The Iris Dataset](https://scikit-learn.org/stable/auto_examples/datasets/plot_iris_dataset.html).\n",
    "- [PCA example with Iris Data-set](https://scikit-learn.org/stable/auto_examples/decomposition/plot_pca_iris.html).\n",
    "- [Comparison of LDA and PCA 2D projection of Iris dataset](https://scikit-learn.org/stable/auto_examples/decomposition/plot_pca_vs_lda.html).\n",
    "- [K-means Clustering](https://scikit-learn.org/stable/auto_examples/cluster/plot_cluster_iris.html).\n",
    "\n",
    "Sigue las instrucciones para completar la siguiente celda de código, donde descargaremos y visualizaremos el dataset:\n",
    "\n",
    "PD: Para todas las gráficas utiliza un gráfico de puntos e incluye título, etiquetas de cada dimensión, una rejilla y la leyenda con las 3 clases."
   ]
  },
  {
   "cell_type": "code",
   "execution_count": null,
   "metadata": {},
   "outputs": [],
   "source": [
    "# TODO: Descarga el dataset de Iris y represéntalo gráficamente\n",
    "\n",
    "# Descarga el dataset de Iris\n",
    "X, y = [...]\n",
    "\n",
    "# Crea una gráfica con 4 subgráficas 3D y representa las 3 clases con etiquetas y colores diferentes\n",
    "# Las 4 subgráficas mostrarán la combinación de las 4 características:\n",
    "# - longitud de los sépalos, anchura de los sépalos, longitud de los pétalos\n",
    "# - longitud de los sépalos, anchura de los sépalos, anchura de los pétalos\n",
    "# - longitud de los pétalos, anchura de los pétalos, longitud de los sépalos\n",
    "# - longitud de los pétalos, anchura de los pétalos, anchura de los sépalos\n",
    "fig = plt.figure(fignum, figsize=(4, 3))\n",
    "ax = Axes3D([...])\n",
    "\n",
    "[...]\n",
    "\n",
    "fig.show()\n",
    "\n",
    "fignum += 1"
   ]
  },
  {
   "cell_type": "markdown",
   "metadata": {},
   "source": [
    "Observa con detenimiento las gráficas.\n",
    "\n",
    "*¿Eres capaz de separar linealmente con un plano las 3 clases? ¿Qué clases están más cerca o lejos del resto?*"
   ]
  },
  {
   "cell_type": "markdown",
   "metadata": {},
   "source": [
    "## Reducción de dimensionalidad\n",
    "\n",
    "Al tener un dataset de 4 dimensiones, es difícil representarlo en una gráfica. Para ello, podemos representarlo en 4 gráficas diferentes, como hemos hecho, o representar la 4ª dimensión en la misma gráfica con formas, tamaños o colores diferentes.\n",
    "\n",
    "Vamos a transformar el espacio dimensional del dataset por PCA a unas dimensiones diferentes. En este caso lo haremos para intentar mejorar la clasificación de las clases de forma visual.\n",
    "\n",
    "Para ello, vamos a reducir la dimensionalidad del dataset a sus 3 primeros componentes principales, o las 3 primeras dimensiones tras transformar por PCA.\n",
    "\n",
    "Sigue las instrucciones para completar la siguiente celda de código:"
   ]
  },
  {
   "cell_type": "code",
   "execution_count": null,
   "metadata": {},
   "outputs": [],
   "source": [
    "# TODO: Reduce la dimensionalidad del dataset a los 3 primeros componentes principales\n",
    "\n",
    "# Reduce la dimensionalidad de X a sus 3 primeros componentes principales\n",
    "pca_3 = PCA([...])\n",
    "\n",
    "X_pca_3 = pca_3.fit_transform([...])\n",
    "\n",
    "# Representa gráficamente sus 3 primeros componentes principales, utilizando colores diferentes para cada clase\n",
    "plt.figure(fignum, figsize=(8, 6))\n",
    "\n",
    "ax = Axes3D([...])\n",
    "\n",
    "[...]\n",
    "\n",
    "plt.show()\n",
    "\n",
    "fignum += 1"
   ]
  },
  {
   "cell_type": "markdown",
   "metadata": {},
   "source": [
    "Analiza los resultados de la reducción de dimensionalidad:\n",
    "\n",
    "*¿Es ahora más fácil diferenciar las 3 clases?*\n",
    "\n",
    "Recuerda que las 3 dimensiones tras la reducción no se corresponden con ninguna dimensión inicial, las longitudes y anchura de los pétalos y sépalos."
   ]
  },
  {
   "cell_type": "markdown",
   "metadata": {},
   "source": [
    "### Reducción de dimensionalidad a 2 componentes principales\n",
    "\n",
    "Para representar el dataset en 2 dimensiones, redúcelo ahora a sus 2 primeros componentes principales y representa el resultado en una gráfica 2D.\n",
    "\n",
    "Sigue las instrucciones para completar la siguiente celda de código:"
   ]
  },
  {
   "cell_type": "code",
   "execution_count": null,
   "metadata": {},
   "outputs": [],
   "source": [
    "# TODO: Reduce la dimensionalidad del dataset a los 2 primeros componentes principales\n",
    "\n",
    "# Reduce la dimensionalidad de X a sus 2 primeros componentes principales\n",
    "pca_2 = PCA([...])\n",
    "\n",
    "X_pca_2 = pca_3.fit_transform([...])\n",
    "\n",
    "# Representa gráficamente sus 2 primeros componentes principales, utilizando colores diferentes para cada clase\n",
    "plt.figure(fignum, figsize=(8, 6))\n",
    "\n",
    "[...]\n",
    "\n",
    "plt.show()\n",
    "\n",
    "fignum += 1"
   ]
  },
  {
   "cell_type": "markdown",
   "metadata": {},
   "source": [
    "Por último, vuelve a analizar los resultados de la última gráfica:\n",
    "\n",
    "*¿Es ahora más o menos sencillo diferenciar las 3 clases que en la gráfica anterior?*\n",
    "\n",
    "*¿Y en comparación con las gráficas originales, es más sencillo hacerlo tras la transformación por PCA?*"
   ]
  }
 ],
 "metadata": {
  "environment": {
   "name": "common-cpu.m54",
   "type": "gcloud",
   "uri": "gcr.io/deeplearning-platform-release/base-cpu:m54"
  },
  "kernelspec": {
   "display_name": "Python 3",
   "language": "python",
   "name": "python3"
  },
  "language_info": {
   "codemirror_mode": {
    "name": "ipython",
    "version": 3
   },
   "file_extension": ".py",
   "mimetype": "text/x-python",
   "name": "python",
   "nbconvert_exporter": "python",
   "pygments_lexer": "ipython3",
   "version": "3.7.8"
  }
 },
 "nbformat": 4,
 "nbformat_minor": 4
}
