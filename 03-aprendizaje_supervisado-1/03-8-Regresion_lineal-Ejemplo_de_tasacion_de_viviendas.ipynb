{
 "cells": [
  {
   "cell_type": "markdown",
   "metadata": {},
   "source": [
    "# Regresión lineal: Ejemplo de tasación de viviendas\n",
    "\n",
    "## ¿Qué vamos a hacer?\n",
    "\n",
    "- Entrenar un modelo de regresión lineal multivariableç\n",
    "- Crear un dataset sintético siguiendo una estructura de dataset real"
   ]
  },
  {
   "cell_type": "code",
   "execution_count": null,
   "metadata": {},
   "outputs": [],
   "source": [
    "import time\n",
    "import numpy as np\n",
    "from matplotlib import pyplot as plt"
   ]
  },
  {
   "cell_type": "markdown",
   "metadata": {},
   "source": [
    "## Set de datos de tasación de viviendas sintético\n",
    "\n",
    "En esta ocasión vamos a explorar cómo crear un dataset sintético, pero que siga la estructura que queramos, para simular un dataset real.\n",
    "\n",
    "En este caso, vamos a usar como ejemplo un dataset inmobiliario con el objetivo de entrenar un tadador de viviendas.\n",
    "\n",
    "Vamos a crear un dataset con las siguientes características:\n",
    "\n",
    "Variable objetivo o dependiente:\n",
    "- Precio de venta (int)\n",
    "\n",
    "Características, variables explicatorias o independientes:\n",
    "- Superficie útil (int)\n",
    "- Localización (int, representando la barriada)\n",
    "- Tipo de vivienda (int, representando piso, chalet, adosado, ático, etc.)\n",
    "- Nº de habitaciones (int)\n",
    "- Nº de cuartos de baño (int)\n",
    "- Garaje (int, 0/1 representando si tiene o no)\n",
    "- Superficie zonas comunes (int)\n",
    "- Año de construcción (int)\n",
    "\n",
    "Nuestro modelo intentará aproximar una función lineal multivariable que nos permita interpretar el mercado inmobiliario y hacer predicciones sobre el precio de venta de nuevas viviendas, según la función lineal:\n",
    "\n",
    "$Y = h_\\Theta(x) = X \\times \\Theta^T$\n",
    "Donde $h_\\Theta(x)$ es la hipótesis lineal."
   ]
  },
  {
   "cell_type": "markdown",
   "metadata": {},
   "source": [
    "### Creación del dataset sintético\n",
    "\n",
    "Primero crearemos un ejemplo de una vivienda con datos conocidos, con los valores de sus características y el precio de venta:"
   ]
  },
  {
   "cell_type": "code",
   "execution_count": 2,
   "metadata": {},
   "outputs": [
    {
     "name": "stdout",
     "output_type": "stream",
     "text": [
      "Precio de venta de la vivienda: 80000\n",
      "Superficie útil: 100\n",
      "Localización: 4\n",
      "Tipo de vivienda: 2\n",
      "Nº de habitaciones: 2\n",
      "Nº de cuartos de baño: 1\n",
      "Garaje (sí/no): 0\n",
      "Superficie de zonas comunes: 30\n",
      "Antigüedad: 10\n"
     ]
    }
   ],
   "source": [
    "x_ej1 = np.asarray([100, 4, 2, 2, 1, 0, 30, 10])\n",
    "y_ej1 = np.asarray([80000])\n",
    "\n",
    "print('Precio de venta de la vivienda:', y_ej1[0])\n",
    "print('Superficie útil:', x_ej1[0])\n",
    "print('Localización:', x_ej1[1])\n",
    "print('Tipo de vivienda:', x_ej1[2])\n",
    "print('Nº de habitaciones:', x_ej1[3])\n",
    "print('Nº de cuartos de baño:', x_ej1[4])\n",
    "print('Garaje (sí/no):', x_ej1[5])\n",
    "print('Superficie de zonas comunes:', x_ej1[6])\n",
    "print('Antigüedad:', x_ej1[7])"
   ]
  },
  {
   "cell_type": "markdown",
   "metadata": {},
   "source": [
    "De esta forma podemos crear nuevos ejemplos con los valores que queramos a nuestro antojo.\n",
    "\n",
    "Modifica los valores de la vivienda anterior para generar otras viviendas de forma manual.\n",
    "\n",
    "Del mismo modo que hemos creado un ejemplo de vivienda manualmente, vamos a crear múltiples ejemplos aleatorios de forma automática:\n",
    "\n",
    "*Nota*: Por simpleza a la hora de generar nºs aleatorios con código, vamos a usar float en lugar de int en los mismos rangos lógicos para las características de las viviendas."
   ]
  },
  {
   "cell_type": "code",
   "execution_count": 3,
   "metadata": {},
   "outputs": [
    {
     "name": "stdout",
     "output_type": "stream",
     "text": [
      "Primeros 10 ejemplos de X:\n",
      "[[0.33759646 0.78969891 0.7077481  0.32937846 0.12134862 0.65533155\n",
      "  0.96344417 0.23700643]\n",
      " [0.94538212 0.78778337 0.80566105 0.73008576 0.02968144 0.94496374\n",
      "  0.58407126 0.68518059]\n",
      " [0.93026981 0.94801561 0.41640023 0.55986705 0.37498518 0.56069238\n",
      "  0.2828406  0.5758477 ]\n",
      " [0.0307842  0.37774301 0.77710625 0.6004817  0.09420071 0.80201773\n",
      "  0.72367694 0.29869648]\n",
      " [0.60151482 0.6922722  0.2594954  0.40233762 0.25981029 0.34919006\n",
      "  0.61784715 0.64339425]\n",
      " [0.38624024 0.25227244 0.18330256 0.39100025 0.07261394 0.16105353\n",
      "  0.00516023 0.92804527]\n",
      " [0.38031596 0.71493995 0.64868213 0.14327091 0.37964881 0.52863471\n",
      "  0.46307986 0.78253071]\n",
      " [0.77324409 0.41801161 0.60916098 0.64218204 0.45757632 0.54631182\n",
      "  0.35641451 0.63319152]\n",
      " [0.08201625 0.57495455 0.21201583 0.43125818 0.11623726 0.8830547\n",
      "  0.76791651 0.43967748]\n",
      " [0.92152835 0.90744928 0.44397652 0.63847918 0.13779147 0.6444124\n",
      "  0.20477958 0.85357933]]\n",
      "Tamaño de la matriz de ejemplos x características:\n",
      "(100, 8)\n"
     ]
    }
   ],
   "source": [
    "m = 100           # nº de ejemplos de viviendas\n",
    "n = len(x_ej1)    # nº de características de cada vivienda\n",
    "\n",
    "X = np.random.rand(m, n)\n",
    "\n",
    "print('Primeros 10 ejemplos de X:')\n",
    "print(X[:10,:])\n",
    "print('Tamaño de la matriz de ejemplos:')\n",
    "print(X.shape)"
   ]
  },
  {
   "cell_type": "markdown",
   "metadata": {},
   "source": [
    "**¿Cómo podemos crear el vector *Y* de precios de venta de nuestro dataset sintético, de forma que sigua la relación lineal que queremos aproximar?**\n",
    "\n",
    "Para ello, debemos partir de una *Theta_verd*, como en ejercicios pasados.\n",
    "\n",
    "A veces, el problema es obtener una *Y* en el rango que quisiéramos modificando cada valor de *Theta_verd*, lo que puede ser bastante tedioso.\n",
    "\n",
    "En otros casos, una alternativa sería crear *X* e *Y* manualmente, y luego calcular la *Theta_verd* correspondinete a dichas matrices.\n",
    "\n",
    "En este caso, crearemos *Theta_verd* a mano para poder interpretar sus valores:"
   ]
  },
  {
   "cell_type": "code",
   "execution_count": null,
   "metadata": {},
   "outputs": [],
   "source": [
    "x = X[0,:]\n",
    "\n",
    "print('Ej. de vivienda con características aleatorias:')\n",
    "print(x)\n",
    "\n",
    "Theta_verd = np.asarray([1000.,-500,10000,5000,2500,6000,50,-1500])\n",
    "\n",
    "print('\\nEj. de pesos de características creados manualmente:')\n",
    "print(Theta_verd)\n",
    "\n",
    "print('\\nEl precio de venta de dicha vivienda viene dado por sus características:')\n",
    "print('Por cada m2 de superficie útil:', Theta_verd[0])\n",
    "print('Por cada km de distancia al centro:', Theta_verd[1])\n",
    "print('Según el tipo de vivienda:', Theta_verd[2])\n",
    "print('Según el nº de habitaciones:', Theta_verd[3])\n",
    "print('Según el nº de cuartos de baño:', Theta_verd[4])\n",
    "print('Según si tiene garaje:', Theta_verd[5])\n",
    "print('Por cada m2 de superficie de zonas comunes:', Theta_verd[6])\n",
    "print('Por cada año de antigüedad:', Theta_verd[7])"
   ]
  },
  {
   "cell_type": "markdown",
   "metadata": {},
   "source": [
    "Cada uno de estos pesos multiplicará su característica correspondiente, sumando o restando al precio total de la vivienda.\n",
    "\n",
    "Sin embargo, a nuestro set de datos sintético e ideal le falta un término muy importante, el _bias_ o _intercept_:\n",
    "El _bias_ es el término _b_ de cualquier recta $y = m * x \\times b$, y el que respresenta la suma de todas las constantes que afectan a nuestro modelo o el precio base, antes de verse modificado por el resto de características.\n",
    "\n",
    "Este _bias_ es muy importante porque un modelo no sólo debe poder aproximar pesos o coeficientes que multipliquen a las características dadas, sino también a valores constantes que no dependan de las características concretas de cada ejemplo.\n",
    "\n",
    "O lo que es lo mismo: _precio = coeficientes * características + bias_.\n",
    "\n",
    "P. ej., en el caso de viviendas, sería el precio de partida de todas las viviendas, si lo hubiera, independientemente de sus características, las cuales suman o restan a partir del mismo. En el caso de un estudio sin habitaciones independientes, WC compartido, sin garaje, etc., etc., donde todas sus características fueran 0, nos permitiría determinar su precio de venta, que no sería de 0 € seguramente.\n",
    "\n",
    "Añadimos a *theta_verd* un _bias_ o precio de partida de:"
   ]
  },
  {
   "cell_type": "code",
   "execution_count": null,
   "metadata": {},
   "outputs": [],
   "source": [
    "# ¡Cuidado! Cada vez que ejecutamos esta celda estamos añadiendo una columna\n",
    "# de 1s a Theta_verd y X, por lo que sólo debemos ejecutarla una vez\n",
    "\n",
    "Theta_verd = np.insert(Theta_verd, 0, 25000)    # 25000 € de precio de partida = theta[0]\n",
    "X = np.insert(X, 0, np.ones(m), axis=1)\n",
    "\n",
    "print('Theta verdadero y 10 primeros ejemplos (filas) de X:')\n",
    "print(Theta_verd)\n",
    "print(X[:10,:])\n",
    "print('Tamaños de X y Tetha verdadero:')\n",
    "print(X.shape)\n",
    "print(Theta_verd.shape)"
   ]
  },
  {
   "cell_type": "markdown",
   "metadata": {},
   "source": [
    "Contando con dicho *Theta_verd*, podemos establecer el vector *Y* de precios de venta de nuestros ejemplos:"
   ]
  },
  {
   "cell_type": "code",
   "execution_count": null,
   "metadata": {},
   "outputs": [],
   "source": [
    "# TODO: Modifica el siguiente código para añadir un término de error aleatorio a Y\n",
    "\n",
    "error = 0.1\n",
    "\n",
    "Y = np.matmul(X, Theta_verd)\n",
    "\n",
    "print('Precios de venta:')\n",
    "print(Y)\n",
    "print(Y.shape)"
   ]
  },
  {
   "cell_type": "markdown",
   "metadata": {},
   "source": [
    "*Nota*: Al no haber usado valores int finalmente, los precios de venta son también valores float."
   ]
  },
  {
   "cell_type": "markdown",
   "metadata": {},
   "source": [
    "## Entrenamiento del modelo\n",
    "\n",
    "Una vez listo nuestro dataset de datos de entrenamiento, vamos a entrenar el modelo de regresión lineal.\n",
    "\n",
    "Para ello, copia las celdas correspondientes de los últimos ejercicios para entrenar el modelo con estos datos y evalúa su comportamiento:"
   ]
  },
  {
   "cell_type": "code",
   "execution_count": 1,
   "metadata": {},
   "outputs": [],
   "source": [
    "# TODO: Copia las celdas correspondientes para entrenar un modelo por regresión lineal y evaluar su entrenamiento"
   ]
  },
  {
   "cell_type": "markdown",
   "metadata": {},
   "source": [
    "## Predicciones \n",
    "\n",
    "Por tanto, si creamos un nuevo ejemplo de vivienda manualmente con características aleatorias, podemos hacer una predicción sobre su precio de venta:"
   ]
  },
  {
   "cell_type": "code",
   "execution_count": null,
   "metadata": {},
   "outputs": [],
   "source": [
    "# TODO: Crea una nueva vivienda con características aleatorias y calcula su Y predicha\n",
    "# Recuerda añadirle a X un término de bias\n",
    "x_pred = [...]\n",
    "\n",
    "y_pred = np.matmul(x_pred, theta)\n",
    "\n",
    "print('Ej. de vivienda aleatorio:')\n",
    "print(x_pred)\n",
    "\n",
    "print('Precio predicho para dicha vivienda:')\n",
    "print(y_pred)"
   ]
  },
  {
   "cell_type": "markdown",
   "metadata": {},
   "source": [
    "¿Y nuestro dataset sintético original? ¿Qué precio de venta tendría? ¿Y qué resíduos tendría nuestro modelo sobre ellos?"
   ]
  },
  {
   "cell_type": "code",
   "execution_count": null,
   "metadata": {},
   "outputs": [],
   "source": [
    "# TODO: Calcula y representa gráficamente los resíduos del modelo\n",
    "\n",
    "Y_pred = [...]\n",
    "\n",
    "residuos = [...]\n",
    "\n",
    "plt.figure()\n",
    "\n",
    "# Dale un título a la gráfica y etiquetas a sus ejes\n",
    "\n",
    "plt.show()"
   ]
  }
 ],
 "metadata": {
  "environment": {
   "name": "common-cpu.m54",
   "type": "gcloud",
   "uri": "gcr.io/deeplearning-platform-release/base-cpu:m54"
  },
  "kernelspec": {
   "display_name": "Python 3",
   "language": "python",
   "name": "python3"
  },
  "language_info": {
   "codemirror_mode": {
    "name": "ipython",
    "version": 3
   },
   "file_extension": ".py",
   "mimetype": "text/x-python",
   "name": "python",
   "nbconvert_exporter": "python",
   "pygments_lexer": "ipython3",
   "version": "3.7.8"
  }
 },
 "nbformat": 4,
 "nbformat_minor": 4
}
