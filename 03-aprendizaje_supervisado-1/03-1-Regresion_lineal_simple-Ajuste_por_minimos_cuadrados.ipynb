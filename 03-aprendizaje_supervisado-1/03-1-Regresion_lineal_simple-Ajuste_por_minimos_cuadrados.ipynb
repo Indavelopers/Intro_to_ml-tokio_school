{
 "cells": [
  {
   "cell_type": "markdown",
   "metadata": {},
   "source": [
    "# Regresión lineal simple: Ajuste por mínimos cuadrados"
   ]
  },
  {
   "cell_type": "markdown",
   "metadata": {},
   "source": [
    "## ¿Qué vamos a hacer?\n",
    "- Importar datasets en el entorno de trabajo\n",
    "- Ajustar una regresión lineal simple por mínimos cuadrados de forma manual\n",
    "- Resolver dicha regresión usando funciones matemáticas de Numpy\n",
    "- Visualizar la regresión con Matplotlib"
   ]
  },
  {
   "cell_type": "markdown",
   "metadata": {},
   "source": [
    "## Tarea 1: Importar datasets"
   ]
  },
  {
   "cell_type": "markdown",
   "metadata": {},
   "source": [
    "Para este ejercicio debemos importar los siguientes datasets al entorno local, que usamos en un ejercicio anterior y estarán disponibles en dicha unidad:\n",
    "- modulo1-unidad1-ejercicio1-dataset-tarea2.csv\n",
    "- modulo1-unidad1-ejercicio1-dataset-tarea3.csv\n",
    "\n",
    "En función de tu entorno de trabajo, tendrás que seguir pasos diferentes para importarlos. Puedes importarlos tanto en Google Colab como en tu VM, usando la interfaz de JupyterLab o usando las funcionalidades de tu VM.\n",
    "Como los entornos son tan diferentes, no incluimos instrucciones paso a paso para ello, pero no debes tener dificultad ninguna para hacerlo :).\n",
    "\n",
    "Tómate este tiempo para familiarizarte con tu entorno de trabajo y descubrir las opciones para importar datasets locales.\n",
    "\n",
    "**Nota:** Asegúrate de que los importas o que los mueves posteriormente al directorio de soluciones, en la carpeta para esta unidad/sesión."
   ]
  },
  {
   "cell_type": "markdown",
   "metadata": {},
   "source": [
    "## Tarea 2: Ajustar la regresión lineal simple por mínimos cuadrados"
   ]
  },
  {
   "cell_type": "markdown",
   "metadata": {},
   "source": [
    "Para esta tarea, vamos a ajustar la regresión paso a paso, calculando cada valor con Numpy para familiarizarnos con sus funciones.\n",
    "\n",
    "**Nota:** Vamos a utilizar únicamente la función de suma de Numpy. En la siguiente tarea usaremos las funciones para calcular directamente la media de un array, desviaciones típicas o covarianza."
   ]
  },
  {
   "cell_type": "code",
   "execution_count": null,
   "metadata": {},
   "outputs": [],
   "source": [
    "import numpy as np"
   ]
  },
  {
   "cell_type": "markdown",
   "metadata": {},
   "source": [
    "### Importar el dataset en Numpy"
   ]
  },
  {
   "cell_type": "markdown",
   "metadata": {},
   "source": [
    "Ejecuta la siguiente celda para importar el dataset com un array de Numpy, asegurándote de que el nombre del dataset es correcto y que el archivo se encuentra en el mismo directorio que el notebook."
   ]
  },
  {
   "cell_type": "code",
   "execution_count": null,
   "metadata": {},
   "outputs": [],
   "source": [
    "import csv\n",
    "\n",
    "with open('modulo1-unidad1-ejercicio1-dataset-tarea2.csv') as csvfile:\n",
    "    #dataset1 = np.asarray(list(csv.reader(csvfile))[1:])\n",
    "    read_csv = list(csv.reader(csvfile))\n",
    "    \n",
    "# Eliminar cabecera\n",
    "read_csv = read_csv[1:]\n",
    "\n",
    "# Cambiar caracter decimal de comas a puntos\n",
    "for line in read_csv:\n",
    "    for i in [0, 1]:\n",
    "        line[i] = line[i].replace(',', '.')\n",
    "    \n",
    "    \n",
    "# Cargar como array de Numpy\n",
    "dataset1 = np.asarray(read_csv).astype(np.float)\n",
    "\n",
    "print(dataset1)"
   ]
  },
  {
   "cell_type": "markdown",
   "metadata": {},
   "source": [
    "Ya disponemos de los datos en un array 2D de Numpy.\n",
    "\n",
    "Ahora, completa el código de las siguientes celdas para ajustar la regresión lineal:"
   ]
  },
  {
   "cell_type": "code",
   "execution_count": null,
   "metadata": {},
   "outputs": [],
   "source": [
    "## TODO: Crea 2 arrays 1D a partir del dataset importado que correspondan a las columnas X e Y del CSV\n",
    "\n",
    "X = [...]\n",
    "Y = [...]"
   ]
  },
  {
   "cell_type": "code",
   "execution_count": null,
   "metadata": {},
   "outputs": [],
   "source": [
    "## TODO: Antes de entrenar el modelo, representa los datos en una gráfica de puntos de Matplotlib\n",
    "\n",
    "import matplotlib.pyplot as plt\n",
    "\n",
    "# Puedes usar la función scatter()\n",
    "\n",
    "plt.show()"
   ]
  },
  {
   "cell_type": "markdown",
   "metadata": {},
   "source": [
    "Recuerda las ecuaciones de la regresión lineal:\n",
    "$Y = m \\times X + b$\n",
    "\n",
    "$m=\\frac{\\sum xy-\\frac{(\\sum x)(\\sum y)}{n}}{\\sum x^2-\\frac{(\\sum x)^2}{n}}$\n",
    "\n",
    "$b=\\overline{y}-m\\times\\overline{x}$"
   ]
  },
  {
   "cell_type": "code",
   "execution_count": null,
   "metadata": {},
   "outputs": [],
   "source": [
    "## TODO: Calcula m usando la función np.sum(ndarray) o ndarray.sum(), donde ndarray es el array a sumar\n",
    "n = [...]\n",
    "XY = [...]    # Recuerda, es una multiplicación de vectores elemento-a-elemento. Usa la función np.multiply()\n",
    "X2 = [...]\n",
    "\n",
    "m = [...]"
   ]
  },
  {
   "cell_type": "code",
   "execution_count": null,
   "metadata": {},
   "outputs": [],
   "source": [
    "## TODO: Calcula b\n",
    "\n",
    "# TODO: Sustituye \"sum_y\" y \"sum_x\" por el código o variables correspondientes\n",
    "y_avg = sum_y / n\n",
    "x_avg = sum_x / n\n",
    "\n",
    "b = [...]"
   ]
  },
  {
   "cell_type": "markdown",
   "metadata": {},
   "source": [
    "Evalúa el modelo calculando su R2.\n",
    "\n",
    "Recuerda las ecuaciones para calcular el coeficiente de correlación:\n",
    "\n",
    "$R^2 = \\frac{\\sigma_{xy}}{\\sigma_x \\cdot \\sigma_y}$\n",
    "\n",
    "$\\sigma_{xy} = \\frac{\\overline{x \\cdot y}}{n}$\n",
    "\n",
    "$\\sigma_x = \\sqrt{\\frac{\\sum x^2}{n} - \\bar{x}^2}$"
   ]
  },
  {
   "cell_type": "code",
   "execution_count": null,
   "metadata": {},
   "outputs": [],
   "source": [
    "## TODO: Calcula r2\n",
    "\n",
    "x_std = [...]\n",
    "y_std = [...]\n",
    "cov_xy = [...]\n",
    "\n",
    "r2 = [...]"
   ]
  },
  {
   "cell_type": "markdown",
   "metadata": {},
   "source": [
    "Calcula las predicciones de Y como *y_pred* para los valores de X originales, con los coeficientes del modelo ajustado:\n",
    "\n",
    "$y\\_pred = m \\times X + b$"
   ]
  },
  {
   "cell_type": "code",
   "execution_count": null,
   "metadata": {},
   "outputs": [],
   "source": [
    "## TODO: Calcula y_pred\n",
    "y_pred = [...]"
   ]
  },
  {
   "cell_type": "code",
   "execution_count": null,
   "metadata": {},
   "outputs": [],
   "source": [
    "# TODO: Representa con Matplotlib una gráfica con 2 series en colores diferentes: Y vs X, y_pred vs X\n",
    "\n",
    "[...]"
   ]
  },
  {
   "cell_type": "markdown",
   "metadata": {},
   "source": [
    "## Tarea 3: Ajustar la regresión lineal usando las funciones matemáticas de Numpy"
   ]
  },
  {
   "cell_type": "markdown",
   "metadata": {},
   "source": [
    "Ahora, repite los pasos anteriores para ajustar la regresión lineal aprovechando todas las capacidades de Numpy: sus funciones para calcular las suma, media, desviación típica y covarianza de arrays."
   ]
  },
  {
   "cell_type": "code",
   "execution_count": null,
   "metadata": {},
   "outputs": [],
   "source": [
    "## TODO: Resuelve la regresión lineal con las funciones avanzadas de Numpy\n",
    "## Usa nuevos nombres de variables como np_x_avg, np_x_std, np_r2, etc.\n",
    "\n",
    "np_m = [...]\n",
    "np_b = [...]\n",
    "np_r2 = [...]"
   ]
  },
  {
   "cell_type": "markdown",
   "metadata": {},
   "source": [
    "## Tarea 4: Calcula los residuos y realiza predicciones"
   ]
  },
  {
   "cell_type": "markdown",
   "metadata": {},
   "source": [
    "Calcula los residuos de tu modelo:\n",
    "\n",
    "$residuos = Y - Y\\_pred$"
   ]
  },
  {
   "cell_type": "code",
   "execution_count": null,
   "metadata": {},
   "outputs": [],
   "source": [
    "## TODO: Calcula los residuos y represéntalos con Matplotlib en una gráfica de puntos vs X\n",
    "\n",
    "res = [...]\n",
    "\n",
    "# Gráfica de Matplotlib"
   ]
  },
  {
   "cell_type": "markdown",
   "metadata": {},
   "source": [
    "Realiza predicciones para 2 (o más) valores nuevos de X, 1 valor para interpolación y 1 valor para extrapolación."
   ]
  },
  {
   "cell_type": "code",
   "execution_count": null,
   "metadata": {},
   "outputs": [],
   "source": [
    "# TODO: Realiza predicciones con el modelo ajustado\n",
    "\n",
    "x_interpol = [...]\n",
    "y_interpol = [...]\n",
    "\n",
    "x_extrapol = [...]\n",
    "y_extrapol = [...]"
   ]
  },
  {
   "cell_type": "markdown",
   "metadata": {},
   "source": [
    "## Tarea 5: Resolución con Scikit-learn\n",
    "\n",
    "*¿Te atreves a resolver una regresión lineal simple usando Scikit-learn? ¿Y a evalularla y realizar predicciones?*\n",
    "\n",
    "Revisa el código de este notebook y adáptalo para usar nuestros datos: https://scikit-learn.org/stable/auto_examples/linear_model/plot_ols.html"
   ]
  },
  {
   "cell_type": "code",
   "execution_count": null,
   "metadata": {},
   "outputs": [],
   "source": [
    "# TODO: Resuelve la regresión lineal simple usando Scikit-learn a partir de dicho ejemplo"
   ]
  }
 ],
 "metadata": {
  "environment": {
   "name": "common-cpu.m54",
   "type": "gcloud",
   "uri": "gcr.io/deeplearning-platform-release/base-cpu:m54"
  },
  "kernelspec": {
   "display_name": "Python 3",
   "language": "python",
   "name": "python3"
  },
  "language_info": {
   "codemirror_mode": {
    "name": "ipython",
    "version": 3
   },
   "file_extension": ".py",
   "mimetype": "text/x-python",
   "name": "python",
   "nbconvert_exporter": "python",
   "pygments_lexer": "ipython3",
   "version": "3.7.8"
  }
 },
 "nbformat": 4,
 "nbformat_minor": 4
}
