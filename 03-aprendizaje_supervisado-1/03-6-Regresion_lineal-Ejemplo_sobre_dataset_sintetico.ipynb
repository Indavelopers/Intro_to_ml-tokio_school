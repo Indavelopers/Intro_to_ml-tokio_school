{
 "cells": [
  {
   "cell_type": "markdown",
   "metadata": {},
   "source": [
    "# Regresión lineal: Ejemplo sobre dataset sintético\n",
    "\n",
    "## ¿Qué vamos a hacer?\n",
    "\n",
    "- Usar un dataset sintético generado automáticamente para comprobar nuestra implementación\n",
    "- Entrenar un modelo de ML de regresión lineal multivariable\n",
    "- Comprobar la evolución del entrenamiento del modelo\n",
    "- Evaluar el modelo de una forma simple\n",
    "- Hacer predicciones sobre nuevos ejemplos futuros"
   ]
  },
  {
   "cell_type": "code",
   "execution_count": null,
   "metadata": {},
   "outputs": [],
   "source": [
    "import time\n",
    "import numpy as np\n",
    "from matplotlib import pyplot as plt"
   ]
  },
  {
   "cell_type": "markdown",
   "metadata": {},
   "source": [
    "## Creación del dataset sintético\n",
    "\n",
    "Vamos a crear un dataset sintético para comprobar nuestra implementación.\n",
    "\n",
    "Según los métodos que hemos usado en ejercicios previos, crea un dataset sintético usando el método de Numpy.\n",
    "\n",
    "Incluye un término de error controlable en dicho dataset, pero inícialo a 0, puesto que para hacer la primera implementación de este modelo de ML de regresión lineal multivariable queremos que no haya ningún error en los datos que pueda esconder un error en nuestro modelo.\n",
    "\n",
    "Posteriormente introduciremos un término de error con un valor distinto a cero, para comprobar que nuestra implementación también puede entrenar el modelo en estas circunstancias, más reales.\n",
    "\n",
    "### El término de bias o intercept\n",
    "\n",
    "En esta ocasión, vamos a generar el dataset sintético con una pequeña modificación: vamos a añadir una primera columna de 1s a X, o un 1 como primer valor de las características de cada ejemplo.\n",
    "\n",
    "Además, puesto que añadimos una característica más a la matriz X, añadimos una característica o valor más al vector Theta.\n",
    "\n",
    "¿Por qué añadimos esta columna, este nuevo término o característica?\n",
    "\n",
    "Porque es la forma más sencilla de implementar la ecuación lineal en una sóla operación de álgebra lineal.\n",
    "\n",
    "De esta forma, convertimos pues $Y = m \\times X + b$ en $Y = X \\times \\Theta$, ahorrándonos una operación de suma e implementando la ecuación en una única operación de multiplicación matricial.\n",
    "\n",
    "El término *b*, por tanto, se incorpora como el primer término del vector Theta, que al multiplicar a la primera columna de X, siéndo ésta de valor 1 para todas las filas, nos permite añadir dicho término *b* a cada ejemplo."
   ]
  },
  {
   "cell_type": "code",
   "execution_count": null,
   "metadata": {},
   "outputs": [],
   "source": [
    "# TODO: Genera un dataset sintético, con término de error incialmente a 0, de la forma que escojas\n",
    "\n",
    "m = 100\n",
    "n = 3\n",
    "\n",
    "# Crea una matriz de nºs aleatorios en el intervalo [-1, 1)\n",
    "X = [...]\n",
    "# Inserta un vector de 1s como primera columna de X\n",
    "# Consejos: np.insert(), np.ones(), index 0, axis 1...\n",
    "X = [...]\n",
    "\n",
    "# Genera un vector de nºs aleatorios en el intervalo [0, 1) de tamaño n + 1 (al añadir el término bias)\n",
    "Theta_verd = [...]\n",
    "\n",
    "# Genera el vector Y con un término de error aleatorio en %, inicializado a 0\n",
    "error = 0.\n",
    "\n",
    "Y = np.matmul(X, Theta_verd)\n",
    "Y = Y + [...]\n",
    "\n",
    "# Comprueba los valores y dimensiones de los vectores\n",
    "print('Theta a estimar y sus dimensiones:')\n",
    "print()\n",
    "print()\n",
    "\n",
    "print('Primeras 10 filas y 5 columnas de X e Y:')\n",
    "print()\n",
    "print()\n",
    "\n",
    "print('Dimensiones de X e Y:')\n",
    "print()"
   ]
  },
  {
   "cell_type": "markdown",
   "metadata": {},
   "source": [
    "Fíjate en la operación de multiplicación matricial implementada: $Y = X \\times \\Theta$\n",
    "\n",
    "Comprueba las dimensiones de cada vector: X, Y, Theta.\n",
    "¿Crees que es una operación posible en cuanto a las reglas del álgebra lineal?\n",
    "\n",
    "Y, sin embargo, ¿ha sido posible hacerlo en Numpy?\n",
    "Si tienes dudas, puedes consultar la documentación de Numpy relativa a la función np.matmul.\n",
    "\n",
    "Comprueba el resultado, tal vez reduciendo el nº de ejemplos y características original, y asegúrate de que es un resultado correcto."
   ]
  },
  {
   "cell_type": "markdown",
   "metadata": {},
   "source": [
    "## Entrenamiento del modelo"
   ]
  },
  {
   "cell_type": "markdown",
   "metadata": {},
   "source": [
    "Copia del ejercicio anterior tu implementación de la función de coste y su optimización por gradient descent:"
   ]
  },
  {
   "cell_type": "code",
   "execution_count": null,
   "metadata": {},
   "outputs": [],
   "source": [
    "# TODO: Copia el código de tus funciones de coste y descenso de gradiente\n",
    "\n",
    "def cost_function(x, y, theta):\n",
    "    \"\"\" Computa la función de coste para el dataset y coeficientes considerados.\n",
    "    \n",
    "    Argumentos posicionales:\n",
    "    x -- array 2D de Numpy con los valores de las variables independientes de los ejemplos, de tamaño m x n\n",
    "    y -- array 1D de Numpy con la variable dependiente/objetivo, de tamaño m x 1\n",
    "    theta -- array 1D de Numpy con los pesos de los coeficientes del modelo, de tamaño 1 x n (vector fila)\n",
    "    \n",
    "    Devuelve:\n",
    "    j -- float con el coste para dicho array theta\n",
    "    \"\"\"\n",
    "    pass\n",
    "\n",
    "def gradient_descent(x, y, theta, alpha, e, iter_):\n",
    "    \"\"\" Entrena el modelo optimizando su función de coste por gradient descent\n",
    "    \n",
    "    Argumentos posicionales:\n",
    "    x -- array 2D de Numpy con los valores de las variables independientes de los ejemplos, de tamaño m x n\n",
    "    y -- array 1D de Numpy con la variable dependiente/objetivo, de tamaño m x 1\n",
    "    theta -- array 1D de Numpy con los pesos de los coeficientes del modelo, de tamaño 1 x n (vector fila)\n",
    "    alpha -- float, ratio de entrenamiento\n",
    "    \n",
    "    Argumentos nombrados (keyword):\n",
    "    e -- float, diferencia mínima entre iteraciones para declarar que el entrenamiento ha convergido finalmente\n",
    "    iter_ -- int/float, nº de iteraciones\n",
    "    \n",
    "    Devuelve:\n",
    "    j_hist -- list/array con la evolución de la función de coste durante el entrenamiento\n",
    "    theta -- array de Numpy con el valor de theta en la última iteración\n",
    "    \"\"\"\n",
    "    pass"
   ]
  },
  {
   "cell_type": "markdown",
   "metadata": {},
   "source": [
    "Vamos a utilizar dichas funciones para entrenar nuestro modelo de ML.\n",
    "\n",
    "Recordamos los pasos que vamos a seguir:\n",
    "- Iniciar theta con valores aleatorios\n",
    "- Optimizar theta reduciendo el coste asociado a cada iteración de sus valores\n",
    "- Cuando hayamos encontrado el valor mínimo de la función de coste, tomar su theta asociada como los coeficientes de nuestro modelo\n",
    "\n",
    "Por tanto, completa el código de la siguiente celda:"
   ]
  },
  {
   "cell_type": "code",
   "execution_count": null,
   "metadata": {},
   "outputs": [],
   "source": [
    "# TODO: Entrena tu modelo de ML optimizando sus coeficientes Theta por gradient descent\n",
    "\n",
    "# Inicializa theta con n + 1 valores aleatorios\n",
    "theta_ini = [...]\n",
    "\n",
    "print('Theta inicial:')\n",
    "print(theta_ini)\n",
    "\n",
    "alpha = 1e-1\n",
    "e = 1e-4\n",
    "iter_ = 1e5\n",
    "\n",
    "print('Hiper-parámetros a utilizar:')\n",
    "\n",
    "t = time.time()\n",
    "j_hist, theta = gradient_descent([...])\n",
    "\n",
    "print('Tiempo de entrenamiento (s):', time.time() - t)\n",
    "\n",
    "# TODO: completar\n",
    "print('\\nÚltimos 10 valores de la función de coste')\n",
    "print(j_hist[...])\n",
    "print('\\Coste final:')\n",
    "print(j_hist[...])\n",
    "print('\\nTheta final:')\n",
    "print(theta)\n",
    "\n",
    "print('Valores verdaderos de Theta y diferencia con valores entrenados:')\n",
    "print(Theta_verd)\n",
    "print(theta - Theta_verd)"
   ]
  },
  {
   "cell_type": "markdown",
   "metadata": {},
   "source": [
    "Comprueba que no se ha modificado la Theta inicial. Tu implementación debe copiar un nuevo objeto de Python en cada iteración y no modificarla durante el entrenamiento."
   ]
  },
  {
   "cell_type": "code",
   "execution_count": null,
   "metadata": {},
   "outputs": [],
   "source": [
    "# TODO: Comprueba que no se ha modificado la Theta inicial\n",
    "\n",
    "print('Theta inicial y theta final:')\n",
    "print(theta_ini)\n",
    "print(theta)"
   ]
  },
  {
   "cell_type": "markdown",
   "metadata": {},
   "source": [
    "### Comprobar el entrenamiento del modelo\n",
    "\n",
    "Para comprobar el entrenamiento del modelo, vamos a representar gráficamente la evolución de la función de coste, para comprobar que no ha habido ningún gran salto y que haya avanzado constantemente hacia un valor mínimo:"
   ]
  },
  {
   "cell_type": "code",
   "execution_count": null,
   "metadata": {},
   "outputs": [],
   "source": [
    "# TODO: Representa la evolución de la función de coste vs el nº de iteraciones\n",
    "\n",
    "plt.figure(1)\n",
    "\n",
    "plt.title('Función de coste')\n",
    "plt.xlabel('Iteraciones')\n",
    "plt.ylabel('Coste')\n",
    "\n",
    "plt.plot([...])    # Completa la función\n",
    "\n",
    "plt.show()"
   ]
  },
  {
   "cell_type": "markdown",
   "metadata": {},
   "source": [
    "## Realizar predicciones\n",
    "\n",
    "Vamos a utilizar la theta, el resultado de nuestro proceso de entrenamiento del modelo, para realizar predicciones sobre nuevos ejemplos que llegaran en el futuro.\n",
    "\n",
    "Generaremos un nuevo conjunto de datos X siguiendo los mismos pasos que hemos seguido anteriormente. Por tanto, si X tiene el mismo nº de características y sus valores están en el mismo rango de la X generada previamente, se comportarán igual que los datos usados para entrenar el modelo."
   ]
  },
  {
   "cell_type": "code",
   "execution_count": null,
   "metadata": {},
   "outputs": [],
   "source": [
    "# TODO: Realiza predicciones usando la theta calculada\n",
    "\n",
    "# Genera una nueva matriz X con nuevos ejemplos. Usa el mismo nº de características y el mismo rango de valores\n",
    "# aleatorios, pero un nº de ejemplos menor (p. ej., 25% del original)\n",
    "# Recuerda añadir el término bias, o una primera columna de 1s a la matriz\n",
    "\n",
    "X_pred = [...]\n",
    "\n",
    "# Calcula las predicciones para dichos nuevos datos\n",
    "y_pred = [...]    # Pista: matmul\n",
    "\n",
    "print('Predicciones:')\n",
    "print(y_pred)    # Puedes imprimir todo el vector o sólo los primeros valores"
   ]
  },
  {
   "cell_type": "markdown",
   "metadata": {},
   "source": [
    "## Evaluación del modelo\n",
    "\n",
    "Para evaluar el modelo tenemos varias opciones. En este punto, vamos a hacer una evaluación más simple, rápida e informal del mismo. En siguientes módulos del curso veremos cómo evaluar nuestros modelos de una forma más formal y precisa.\n",
    "\n",
    "Vamos a hacer una evaluación gráfica, para comprobar simplemente que nuestra implementación funciona como esperamos:"
   ]
  },
  {
   "cell_type": "code",
   "execution_count": null,
   "metadata": {},
   "outputs": [],
   "source": [
    "# TODO: Representa gráficamente los valores de la Y inicial vs X, y la Y predicha para los mismos vs X\n",
    "\n",
    "# Realiza predicciones para cada valor de la X original con la theta entrenada por el modelo\n",
    "Y_pred = [...]\n",
    "\n",
    "plt.figure(2)\n",
    "\n",
    "plt.title('Dataset original y predicciones')\n",
    "plt.xlabel('X')\n",
    "plt.ylabel('Y')\n",
    "\n",
    "# Usa una gráfica de puntos con colores diferentes para la Y inicial y la Y predicha\n",
    "plt.scatter([...])\n",
    "plt.scatter([...])\n",
    "\n",
    "plt.show()"
   ]
  },
  {
   "cell_type": "markdown",
   "metadata": {},
   "source": [
    "Representa también la diferencia en valor absoluto entre la Y original y la Y predicha.\n",
    "\n",
    "Llamaremos a esta diferencia los **resíduos** de nuestro modelo:"
   ]
  },
  {
   "cell_type": "code",
   "execution_count": null,
   "metadata": {},
   "outputs": [],
   "source": [
    "# TODO: Calcula y representa gráficamente los resíduos de tu modelo sobre el dataset de entrenamiento\n",
    "\n",
    "residuos = [...]\n",
    "\n",
    "plt.figure(3)\n",
    "\n",
    "plt.title('Dataset original y predicciones')\n",
    "plt.xlabel('X')\n",
    "plt.ylabel('Resíduos')\n",
    "\n",
    "plt.plot(residuos)\n",
    "\n",
    "plt.show()"
   ]
  },
  {
   "cell_type": "markdown",
   "metadata": {},
   "source": [
    "Si nuestra implementación es correcta, nuestro modelo debe haber podido entrenarse correctamente y tener unos resíduos prácticamente nulos, una diferencia prácticamente nula entre los resultados originales (Y) y los resultados que calcularía nuestro modelo.\n",
    "\n",
    "Sin embargo, como recordamos, en el primer punto hemos creado un dataset con el término de error a 0. Por tanto, cada valor de Y no tiene ninguna diferencia o variación aleatoria sobre su valor real.\n",
    "\n",
    "En la vida real, sea porque no hemos tenido en cuenta todas las características que afectarían a nuestra variable objetivo, sea porque los datos contienen algún pequeño error, o sea porque, por lo general, los datos no siguen un comportamiento completamente preciso, siempre tendremos algún término de error, más o menos aleatorio.\n",
    "\n",
    "Por tanto, *¿y si vuelves a la primera celda y modificas tu término de error, y ejecutas de nuevo las siguientes para entrenar y evaluar un nuevo modelo de regresión lineal sobre datos más parecidos a la realidad?*\n",
    "\n",
    "Comprueba de dicha forma la robustez de tu implementación."
   ]
  }
 ],
 "metadata": {
  "environment": {
   "name": "common-cpu.m54",
   "type": "gcloud",
   "uri": "gcr.io/deeplearning-platform-release/base-cpu:m54"
  },
  "kernelspec": {
   "display_name": "Python 3",
   "language": "python",
   "name": "python3"
  },
  "language_info": {
   "codemirror_mode": {
    "name": "ipython",
    "version": 3
   },
   "file_extension": ".py",
   "mimetype": "text/x-python",
   "name": "python",
   "nbconvert_exporter": "python",
   "pygments_lexer": "ipython3",
   "version": "3.7.8"
  }
 },
 "nbformat": 4,
 "nbformat_minor": 4
}
