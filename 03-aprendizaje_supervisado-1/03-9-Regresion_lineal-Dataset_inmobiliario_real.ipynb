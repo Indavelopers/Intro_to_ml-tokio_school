{
 "cells": [
  {
   "cell_type": "markdown",
   "metadata": {},
   "source": [
    "# Regresión lineal: Dataset inmobiliario real\n",
    "\n",
    "## ¿Qué vamos a hacer?\n",
    "- Entrenar un modelo de ML de regresión lineal multivariable sobre un dataset inmobiliario real"
   ]
  },
  {
   "cell_type": "markdown",
   "metadata": {},
   "source": [
    "## Dataset de precios inmobiliarios de Boston\n",
    "\n",
    "Este dataset es un dataset pequeño, de sólo 506 ejemplos y 13 características, pero es un dataset real que podemos utilizar para comprobar nuestra implementación de entrenamiento de modelos y comenzar a resolver ejercicios con datos reales.\n",
    "\n",
    "Puedes encontrar el dataset y ejemplos de cómo descargarlo aquí: https://scikit-learn.org/stable/modules/generated/sklearn.datasets.load_boston.html#sklearn.datasets.load_boston\n",
    "\n",
    "Comprueba el dataset. Tal vez tengas que hacer alguna pequeña modificación sobre los datos o tu implementación para resolverlo según el método que hemos venido utilizando."
   ]
  },
  {
   "cell_type": "markdown",
   "metadata": {},
   "source": [
    "## Entrenar el modelo, comprobar su proceso de entrenamiento y evaluar su resultado final\n",
    "\n",
    "Para este ejercicio no vas a tener instrucciones concretas, una guía o una plantilla de celdas de código, sino que queremos darte la libertad y la posibildad de enfrentarte a tu primer problema real, desde 0.\n",
    "\n",
    "Los objetivos de este ejercicio son, de nuevo:\n",
    "1. Descargarte el dataset para entrenar el modelo\n",
    "1. Entrenar un modelo de regresión lineal multivariable sobre dicho dataset, que tratará de predecir las valoraciones inmobiliarias en Boston\n",
    "1. Comprobar el proceso de entrenamiento del modelo\n",
    "1. Evaluar el modelo a través de comprobar su peso final y la gráfica de sus resíduos\n",
    "\n",
    "Para ello, fíjate en los pasos que has seguido en ejercicios anteriores y copia aquí las celdas y código que necesites para poder resolverlo.\n",
    "\n",
    "¡Ánimo!"
   ]
  }
 ],
 "metadata": {
  "environment": {
   "name": "common-cpu.m54",
   "type": "gcloud",
   "uri": "gcr.io/deeplearning-platform-release/base-cpu:m54"
  },
  "kernelspec": {
   "display_name": "Python 3",
   "language": "python",
   "name": "python3"
  },
  "language_info": {
   "codemirror_mode": {
    "name": "ipython",
    "version": 3
   },
   "file_extension": ".py",
   "mimetype": "text/x-python",
   "name": "python",
   "nbconvert_exporter": "python",
   "pygments_lexer": "ipython3",
   "version": "3.7.8"
  }
 },
 "nbformat": 4,
 "nbformat_minor": 4
}
