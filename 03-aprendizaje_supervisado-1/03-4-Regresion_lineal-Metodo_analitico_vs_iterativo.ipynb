{
 "cells": [
  {
   "cell_type": "markdown",
   "metadata": {},
   "source": [
    "# Método analítico vs imperativo"
   ]
  },
  {
   "cell_type": "markdown",
   "metadata": {},
   "source": [
    "¿Qué vamos a hacer?\n",
    "\n",
    "- Resolver la regresión lineal por el método analítico"
   ]
  },
  {
   "cell_type": "code",
   "execution_count": null,
   "metadata": {},
   "outputs": [],
   "source": [
    "import numpy as np"
   ]
  },
  {
   "cell_type": "markdown",
   "metadata": {},
   "source": [
    "## Resolver el modelo por el método analítico\n",
    "\n",
    "En esta ocasión, vamos a resolver o entrenar el modelo usando la ecuación normal.\n",
    "\n",
    "La ecuación normal tiene la siguiente forma:\n",
    "\n",
    "$\\Theta = (X^T \\times X)^{-1} \\times X^T \\times Y$"
   ]
  },
  {
   "cell_type": "markdown",
   "metadata": {},
   "source": [
    "### Tarea 1: Genera un dataset sintético sin término de error"
   ]
  },
  {
   "cell_type": "code",
   "execution_count": null,
   "metadata": {},
   "outputs": [],
   "source": [
    "# TODO: Genera un dataset sintético, sin término de error, de la forma que escojas\n",
    "\n",
    "m = 0\n",
    "n = 0\n",
    "\n",
    "X = [...]\n",
    "\n",
    "Theta_verd = [...]\n",
    "\n",
    "Y = [...]\n",
    "\n",
    "# Comprueba los valores y dimensiones (forma o \"shape\") de los vectores\n",
    "print('Theta a estimar:')\n",
    "print()\n",
    "\n",
    "print('Primeras 10 filas y 5 columnas de X e Y:')\n",
    "print()\n",
    "print()\n",
    "\n",
    "print('Dimensiones de X e Y:')\n",
    "print('shape', 'shape')"
   ]
  },
  {
   "cell_type": "markdown",
   "metadata": {},
   "source": [
    "### Tarea 2: Implementa la ecuación normal\n",
    "\n",
    "Implementa la siguiente función para resolver el modelo de regresión lineal, optimizando sus coeficientes Theta, completando la siguiente celda:"
   ]
  },
  {
   "cell_type": "code",
   "execution_count": null,
   "metadata": {},
   "outputs": [],
   "source": [
    "# TODO: Implementa la función que resuelve la ecuación normal\n",
    "\n",
    "def normal_equation(x, y):\n",
    "    \"\"\" Calcula la theta óptima usando la ecuación normal para regresión lineal multivariable\n",
    "    \n",
    "    Argumentos posicionales:\n",
    "    x -- array 2D de Numpy con los valores de las variables independientes de los ejemplos, de tamaño m x n\n",
    "    y -- array 1D de Numpy con la variable dependiente/objetivo, de tamaño m x 1\n",
    "    \n",
    "    Devuelve:\n",
    "    theta -- array 1D de Numpy con los pesos de los coeficientes del modelo, de tamaño 1 x n (vector fila)\n",
    "    \"\"\"\n",
    "    \n",
    "    theta = [...]\n",
    "    \n",
    "    return theta"
   ]
  },
  {
   "cell_type": "markdown",
   "metadata": {},
   "source": [
    "## Tarea 3: Comprueba la implementación\n",
    "\n",
    "Usa el dataset sintético que has creado anteriormente para comprobar que tu implementación devuelve el mismo valor de Theta original.\n",
    "\n",
    "Intenta comprobarlo varias veces, modificando el nº de ejemplos y el nº de características.\n",
    "\n",
    "También añádele de nuevo un término de error a la Y. En este caso, puede que la Theta inicial y la final no concuerden del todo, ya que hemos introducido error o \"ruido\" en el dataset de entrenamiento.\n",
    "\n",
    "En algunas ocasiones, la ecuación normal no es invertible, por lo que puedes encontrarte con dicho error. En este caso, no te preocupes, es una limitación del método analítico y no de tu implementación en concreto, si funciona en el resto de casos."
   ]
  }
 ],
 "metadata": {
  "environment": {
   "name": "common-cpu.m54",
   "type": "gcloud",
   "uri": "gcr.io/deeplearning-platform-release/base-cpu:m54"
  },
  "kernelspec": {
   "display_name": "Python 3",
   "language": "python",
   "name": "python3"
  },
  "language_info": {
   "codemirror_mode": {
    "name": "ipython",
    "version": 3
   },
   "file_extension": ".py",
   "mimetype": "text/x-python",
   "name": "python",
   "nbconvert_exporter": "python",
   "pygments_lexer": "ipython3",
   "version": "3.7.8"
  }
 },
 "nbformat": 4,
 "nbformat_minor": 4
}
