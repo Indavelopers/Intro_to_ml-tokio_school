{
 "cells": [
  {
   "cell_type": "markdown",
   "metadata": {},
   "source": [
    "# Regresión lineal: Predicciones"
   ]
  },
  {
   "cell_type": "markdown",
   "metadata": {},
   "source": [
    "¿Qué vamos a hacer?\n",
    "\n",
    "- Realizar predicciones con un modelo"
   ]
  },
  {
   "cell_type": "markdown",
   "metadata": {},
   "source": [
    "## Tarea 1: Crear un dataset sintético\n",
    "\n",
    "Genera un dataset sintético para esta tarea. En este caso, no usaremos el dataset para calcular una Theta, los coeficientes del modelo, sino que vamos a usar la Theta para realizar predicciones sobre nuevos ejemplos."
   ]
  },
  {
   "cell_type": "code",
   "execution_count": null,
   "metadata": {},
   "outputs": [],
   "source": [
    "# TODO: Genera un dataset sintético, sin término de error, de la forma que escojas\n",
    "\n",
    "m = 0\n",
    "n = 0\n",
    "\n",
    "X = [...]\n",
    "\n",
    "Theta = [...]\n",
    "\n",
    "Y = [...]\n",
    "\n",
    "# Comprueba los valores y dimensiones (forma o \"shape\") de los vectores\n",
    "print('Theta a estimar:')\n",
    "print()\n",
    "\n",
    "print('Primeras 10 filas y 5 columnas de X e Y:')\n",
    "print()\n",
    "print()\n",
    "\n",
    "print('Dimensiones de X e Y:')\n",
    "print('shape', 'shape')"
   ]
  },
  {
   "cell_type": "markdown",
   "metadata": {},
   "source": [
    "## Tarea 2: Realiza predicciones con el modelo\n",
    "\n",
    "El modelo se compone únicamente de los coeficientes Theta, no necesitamos X o Y para definir el modelo.\n",
    "\n",
    "Una vez obtenida la Theta óptima, entrenando el modelo o generando el dataset directamente como en esta ocasión, usaremos la ecuación de la regresión lineal para realizar predicciones:\n",
    "\n",
    "$Y_{pred} = X \\times \\Theta^{-1}$"
   ]
  },
  {
   "cell_type": "code",
   "execution_count": null,
   "metadata": {},
   "outputs": [],
   "source": [
    "# TODO: Realiza predicciones usando los coeficientes Theta\n",
    "\n",
    "def predict(x, theta):\n",
    "    \"\"\" Realiza predicciones para nuevos ejemplos\n",
    "\n",
    "    Argumentos posicionales:\n",
    "    x -- array 2D de Numpy con los valores de las variables independientes de los ejemplos, de tamaño m x n\n",
    "    theta -- array 1D de Numpy con los pesos de los coeficientes del modelo, de tamaño 1 x n (vector fila)\n",
    "    \n",
    "    Devuelve:\n",
    "    y_pred -- array 1D de Numpy con la variable dependiente/objetivo, de tamaño m x 1\n",
    "    \"\"\"\n",
    "    y_pred = [...]\n",
    "    \n",
    "    return y_pred"
   ]
  },
  {
   "cell_type": "markdown",
   "metadata": {},
   "source": [
    "Para realizar predicciones, comprueba que obtienes un valor muy similar a la Y original:"
   ]
  },
  {
   "cell_type": "code",
   "execution_count": null,
   "metadata": {},
   "outputs": [],
   "source": [
    "# TODO: Comprueba la diferencia entre tus predicciones y la Y original\n",
    "\n",
    "y_pred = predict(x, theta)\n",
    "\n",
    "# Calcula la diferencia en valor absoluto entre la Y_pred y la Y original\n",
    "diff = [...]\n",
    "\n",
    "print(diff)"
   ]
  },
  {
   "cell_type": "markdown",
   "metadata": {},
   "source": [
    "Para crear múltiples subgráficas, ¿te atreves a usar la función subplots de Matplotlib?\n",
    "\n",
    "https://matplotlib.org/3.1.0/gallery/subplots_axes_and_figures/subplots_demo.html"
   ]
  },
  {
   "cell_type": "code",
   "execution_count": null,
   "metadata": {},
   "outputs": [],
   "source": [
    "# TODO: Representa gráficamente las predicciones y la Y original\n",
    "\n",
    "plt.figure()\n",
    "\n",
    "# Representa un gráfico de puntos con la Y original vs la X, y la Y predicha vs la X, en colores diferentes, con etiquetas para cada color\n",
    "\n",
    "plt.title('Predicciones')\n",
    "plt.xlabel('X')\n",
    "plt.ylabel('Y real')\n",
    "\n",
    "plt.plot([...])\n",
    "\n",
    "plt.grid()\n",
    "plt.show()"
   ]
  },
  {
   "cell_type": "markdown",
   "metadata": {},
   "source": [
    "De esta forma tan sencilla podemos realizar predicciones con un modelo.\n",
    "\n",
    "En siguientes laboratorios veremos cómo realizarlas para modelos que entrenemos nosotros mismos.\n",
    "\n",
    "### Predicciones sobre un dataset con término de error\n",
    "\n",
    "Por otro lado, estas predicciones casan bien con los valores de Y originales, ya que el dataset no tenía ningún término de error o variación.\n",
    "\n",
    "¿Y si vuelves a tu código de generación de un dataset sintético y lo modificas para añadir un término de error?\n",
    "En este caso, ¿cómo se comportarán las predicciones? ¿Casarán con la Y original?\n",
    "\n",
    "Puedes comprobarlo modificando la celda de código original y reejecutando el resto."
   ]
  }
 ],
 "metadata": {
  "environment": {
   "name": "common-cpu.m54",
   "type": "gcloud",
   "uri": "gcr.io/deeplearning-platform-release/base-cpu:m54"
  },
  "kernelspec": {
   "display_name": "Python 3",
   "language": "python",
   "name": "python3"
  },
  "language_info": {
   "codemirror_mode": {
    "name": "ipython",
    "version": 3
   },
   "file_extension": ".py",
   "mimetype": "text/x-python",
   "name": "python",
   "nbconvert_exporter": "python",
   "pygments_lexer": "ipython3",
   "version": "3.7.8"
  }
 },
 "nbformat": 4,
 "nbformat_minor": 4
}
