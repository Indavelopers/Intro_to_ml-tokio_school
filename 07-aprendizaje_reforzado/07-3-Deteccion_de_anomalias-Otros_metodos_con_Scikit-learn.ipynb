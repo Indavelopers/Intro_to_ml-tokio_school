{
 "cells": [
  {
   "cell_type": "markdown",
   "metadata": {},
   "source": [
    "# Detección de anomalías: Otros métodos con Scikit-learn\n",
    "\n",
    "## ¿Qué vamos a hacer?\n",
    "- Resolver un dataset de detección de anomalías con métodos de Scikit-learn\n",
    "\n",
    "En esta ocasión, vamos a utilizar uno de los métodos que incluye Scikit-learn para detección de anomalías.\n",
    "\n",
    "El método que vamos a utilizar es [EllipticEnvelope](https://scikit-learn.org/stable/modules/generated/sklearn.covariance.EllipticEnvelope.html).\n",
    "\n",
    "Para ello, primero descarga el primer ejemplo de [Outlier detection on a real data set](https://scikit-learn.org/stable/auto_examples/applications/plot_outlier_detection_wine.html) y cópialo en la siguiente celda:"
   ]
  },
  {
   "cell_type": "code",
   "execution_count": null,
   "metadata": {},
   "outputs": [],
   "source": [
    "# TODO: Copia el primer ejemplo del tutorial sobre Elliptic Envelope"
   ]
  },
  {
   "cell_type": "markdown",
   "metadata": {},
   "source": [
    "Ahora modifica el ejemplo anterior para que sólo entrene un modelo de covarianza empírica (\"Empirical Covariance\"):"
   ]
  },
  {
   "cell_type": "code",
   "execution_count": null,
   "metadata": {},
   "outputs": [],
   "source": [
    "# TODO: Entrena únicamente un modelo de covarianza empírica"
   ]
  },
  {
   "cell_type": "markdown",
   "metadata": {},
   "source": [
    "Por último, vamos a compararlo con nuestra implementación, siguiendo los mismos pasos que en el ejercicio del dataset sintético:\n",
    "\n",
    "1. Crea un dataset sintético para detección de anomalías con datasets de datos normales y anómalos.\n",
    "1. Normaliza los datos de ambos datasets.\n",
    "1. Divide los datasets en subsets de entrenamiento y test, con datos normales y anómalos distribuidos por igual.\n",
    "1. Reordena los datos aleatoriamente.\n",
    "1. Representa los 2 subsets gráficamente.\n",
    "1. Entrena el modelo de EllipticEnvelope sobre el subset de entrenamiento.\n",
    "1. Calcula la F1-score del modelo sobre el subset de test.\n",
    "1. Representa los datos normales y anómalos diferenciados junto a la función de decisión del modelo en una línea de contorno."
   ]
  },
  {
   "cell_type": "code",
   "execution_count": null,
   "metadata": {},
   "outputs": [],
   "source": [
    "# TODO: Crea un dataset sintético, preprocesa los datos, entrena un modelo y evalúalo, siguiendo dichos pasos"
   ]
  },
  {
   "cell_type": "markdown",
   "metadata": {},
   "source": [
    "De esta forma hemos visto una de las formas disponibles en Scikit-learn para resolver un problema de detección de anomalías."
   ]
  }
 ],
 "metadata": {
  "environment": {
   "name": "common-cpu.m54",
   "type": "gcloud",
   "uri": "gcr.io/deeplearning-platform-release/base-cpu:m54"
  },
  "kernelspec": {
   "display_name": "Python 3",
   "language": "python",
   "name": "python3"
  },
  "language_info": {
   "codemirror_mode": {
    "name": "ipython",
    "version": 3
   },
   "file_extension": ".py",
   "mimetype": "text/x-python",
   "name": "python",
   "nbconvert_exporter": "python",
   "pygments_lexer": "ipython3",
   "version": "3.7.8"
  }
 },
 "nbformat": 4,
 "nbformat_minor": 4
}
