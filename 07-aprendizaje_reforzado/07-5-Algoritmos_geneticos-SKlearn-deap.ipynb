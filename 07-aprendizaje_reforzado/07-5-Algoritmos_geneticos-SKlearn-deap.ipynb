{
 "cells": [
  {
   "cell_type": "markdown",
   "metadata": {},
   "source": [
    "# Algoritmos genéticos: SKlearn-deap\n",
    "\n",
    "## ¿Qué vamos a hacer?\n",
    "- Optimizar los hiperparámetros del entrenamiento en la validación de un modelo por algoritmos genéticos.\n",
    "- Utilizar la librería DEAP a través de SKlearn-deap.\n",
    "\n",
    "Los algoritmos genéticos son muy interesantes para una gran variedad de casos, donde queramos optimizar nuestro sistema o función de una forma evolutiva.\n",
    "\n",
    "Sin embargo, son especialmente difíciles de utilizar de forma efectiva, ya que añaden un gran número de parámetros que no siempre es sencillo identificar con parámetros reales del sistema: fenotipos, genotipos, probabilidades de mutación, apareamiento y supervivencia, etc.\n",
    "\n",
    "Además, no siempre son especialmente eficientes a la hora de encontrar la solución más óptima y pueden caer en mínimos locales.\n",
    "\n",
    "En este ejercicio vamos a plantear un ejemplo muy sencillo de utilización, en sustitución de métodos de validación de Scikit-learn como GridSearchCV y RandomizedSearchCV.\n",
    "\n",
    "Para ello, utiliza la librería [SKlearn-deap](https://github.com/rsteca/sklearn-deap) para entrenar un modelo de clasificación de SVM por validación cruzada (K-fold).\n",
    "\n",
    "Sigue las instrucciones de las siguientes celdas, y básate en el código de ejercicios pasados siempre que puedas:\n",
    "\n",
    "*NOTA*: Puedes basarte en el ejemplo de uso del repositorio de SKlearn-deap."
   ]
  },
  {
   "cell_type": "code",
   "execution_count": null,
   "metadata": {},
   "outputs": [],
   "source": [
    "# TODO: Utiliza esta celda para importar todas las librerías necesarias"
   ]
  },
  {
   "cell_type": "code",
   "execution_count": null,
   "metadata": {},
   "outputs": [],
   "source": [
    "# TODO: Crea un dataset sintético para clasificación con parámetro de error"
   ]
  },
  {
   "cell_type": "code",
   "execution_count": null,
   "metadata": {},
   "outputs": [],
   "source": [
    "# TODO: Preprocesa los datos: normalízalos, divídelos en 2 subsets de entrenamiento y test y reordénalos aleatoriamente"
   ]
  },
  {
   "cell_type": "code",
   "execution_count": null,
   "metadata": {},
   "outputs": [],
   "source": [
    "# TODO: Entrena un modelo de SVM con validación cruzada por algoritmos genéticos para escoger la mejor combinación de\n",
    "# kernel e hiper-parámetros"
   ]
  },
  {
   "cell_type": "code",
   "execution_count": null,
   "metadata": {},
   "outputs": [],
   "source": [
    "# TODO: Evalúa el F1-score del modelo en el subset de test"
   ]
  },
  {
   "cell_type": "markdown",
   "metadata": {},
   "source": [
    "*BONUS*: Como puedes ver en la página frontal del repositorio de SKlearn-deap, también se puede utilizar para maximizar o minimizar funciones personalizadas.\n",
    "\n",
    "*¿Podrías utilizar SKlearn-deap para minimizar tu implementación a mano de la función de coste para regresión logística?*\n",
    "\n",
    "*NOTA*: Intenta usar un dataset sin error con un nº bajo de dimensiones *n*, sin regularización."
   ]
  },
  {
   "cell_type": "code",
   "execution_count": null,
   "metadata": {},
   "outputs": [],
   "source": [
    "# BONUS TODO: Crea un dataset sintético para clasificación con un parámetro de error bajo"
   ]
  },
  {
   "cell_type": "code",
   "execution_count": null,
   "metadata": {},
   "outputs": [],
   "source": [
    "# BONUS TODO: Copia tu función de coste para regresión logística regularizada"
   ]
  },
  {
   "cell_type": "code",
   "execution_count": null,
   "metadata": {},
   "outputs": [],
   "source": [
    "# BONUS TODO: Obtén Theta minimizando tu función de coste con dicho dataset, utilizando SKlearn-deap"
   ]
  }
 ],
 "metadata": {
  "environment": {
   "name": "common-cpu.m54",
   "type": "gcloud",
   "uri": "gcr.io/deeplearning-platform-release/base-cpu:m54"
  },
  "kernelspec": {
   "display_name": "Python 3",
   "language": "python",
   "name": "python3"
  },
  "language_info": {
   "codemirror_mode": {
    "name": "ipython",
    "version": 3
   },
   "file_extension": ".py",
   "mimetype": "text/x-python",
   "name": "python",
   "nbconvert_exporter": "python",
   "pygments_lexer": "ipython3",
   "version": "3.7.8"
  }
 },
 "nbformat": 4,
 "nbformat_minor": 4
}
