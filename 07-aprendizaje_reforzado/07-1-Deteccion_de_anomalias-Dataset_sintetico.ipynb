{
 "cells": [
  {
   "cell_type": "markdown",
   "metadata": {},
   "source": [
    "# Detección de anomalías: Dataset sintético\n",
    "\n",
    "## ¿Qué vamos a hacer?\n",
    "- Crear un dataset sintético para detección de anomalías con casos normales y anómalos.\n",
    "- Modelizar una distribución gaussiana sobre los datos normales.\n",
    "- Determinar el umbral de probabilidad para detectar los datos anómalos por validación.\n",
    "- Evaluar la precisión final del modelo sobre el subconjunto de test.\n",
    "- Representar gráficamente el comportamiento del modelo en cada paso."
   ]
  },
  {
   "cell_type": "code",
   "execution_count": 49,
   "metadata": {},
   "outputs": [],
   "source": [
    "import numpy as np\n",
    "from sklearn.datasets import make_blobs\n",
    "from matplotlib import pyplot as plt\n",
    "from matplotlib.colors import from_levels_and_colors\n",
    "\n",
    "plot_n = 1\n",
    "rng = np.random.RandomState(42)"
   ]
  },
  {
   "cell_type": "markdown",
   "metadata": {},
   "source": [
    "## Crear un dataset sintético para detección de anomalías\n",
    "\n",
    "- Crear un dataset 2D (para visualización) de datos normales, con blobs?\n",
    "- Añadir datos anómalos\n",
    "- Dividir en training, validation y test\n",
    "- preprocesarlos, desordenar por separado\n",
    "- Representar en 2D la ground truth\n",
    "\n",
    "Para resolver este ejercicio, primero necesitamos crear un dataset con datos normales y otro con datos anómalos. En este caso, los datasets serán de 2 dimensiones (2D) con 2 características únicamente, en lugar de un nº de características *n* elevado, para facilitar su visualización en una representación 2D.\n",
    "\n",
    "Inicialmente, vamos a crear 2 datasets independientes, uno que representará los datos normales y otro los datos anómalos. Luego combinaremos dichos datasets en 3 subsets finales, de entrenamiento, validación y test, como habitualmente, con la particularidad de que en este caso los datos anómalos sólo se encontrarán en los subsets de validación y test.\n",
    "\n",
    "Completa la siguiente celda de código para crear los datasets iniciales independientes con datos normales y anómalos:"
   ]
  },
  {
   "cell_type": "code",
   "execution_count": 35,
   "metadata": {},
   "outputs": [
    {
     "name": "stdout",
     "output_type": "stream",
     "text": [
      "Nº de ejemplos: 300, ratio de ejemplos anómalos: 15.0%, nº de datos normales y anómalos: 255/45\n",
      "Nº de características: 2\n"
     ]
    },
    {
     "data": {
      "image/png": "[encoded data removed]",
      "text/plain": [
       "<Figure size 432x288 with 1 Axes>"
      ]
     },
     "metadata": {
      "needs_background": "light"
     },
     "output_type": "display_data"
    }
   ],
   "source": [
    "# TODO: Genera dos datasets sintéticos independientes con datos normales y anómalos\n",
    "\n",
    "m = 300\n",
    "n = 2\n",
    "ratio_anomalos = 0.15    # Porcentaje de datos anómalos vs datos normales, modificable\n",
    "m_anomalos = int(m * ratio_anomalos)\n",
    "m_normales = m - m_anomalos\n",
    "x_lim = (-10, 10)\n",
    "y_lim = (-10, 10)\n",
    "\n",
    "print('Nº de ejemplos: {}, ratio de ejemplos anómalos: {}%, nº de datos normales y anómalos: {}/{}'.format(m, ratio_anomalos * 100, m_normales, m_anomalos))\n",
    "print('Nº de características: {}'.format(n))\n",
    "\n",
    "# Creamos ambos datasets\n",
    "dataset_normales = make_blobs(n_samples=m_normales, n_features=n, centers=[[2.5, 2.5], [-2.5, -1.5]], cluster_std=[0.5, 1.5], random_state=42)\n",
    "dataset_normales = dataset_normales[0]    # Descartamos el resto de información y retenemos sólo las posiciones de los ejemplos\n",
    "dataset_anomalos = np.random.uniform(low=(x_lim[0], y_lim[0]), high=(x_lim[1], y_lim[1]), size=(m_anomalos, 2))\n",
    "\n",
    "# Representamos los datos iniciales\n",
    "plt.figure(plot_n)\n",
    "\n",
    "plt.title('Dataset original: datos normales y anómalos')\n",
    "\n",
    "plt.scatter(dataset_normales[:, 0], dataset_normales[:, 1], s=10, color='b')\n",
    "plt.scatter(dataset_anomalos[:, 0], dataset_anomalos[:, 1], s=10, color='r')\n",
    "\n",
    "plt.xlim(x_lim)\n",
    "plt.ylim(y_lim)\n",
    "plt.legend(('Normales', 'Anómalos'))\n",
    "plt.grid()\n",
    "\n",
    "plt.show()\n",
    "\n",
    "plot_n += 1"
   ]
  },
  {
   "cell_type": "markdown",
   "metadata": {},
   "source": [
    "Antes de continuar, vamos a preprocesar los datos normalizándolos, como hacemos habitualmente. Dada que nuestra *X* se compondrá de ambos datasets, los normalizaremos al a vez.\n",
    "\n",
    "En este caso, no insertamos una primera columna de 1s al dataset, por lo que normalizamos todas las columnas.\n",
    "\n",
    "Completa la siguiente celda de código para normalizar los datos. Para ello, rescata tu función de normalización de ejercicios anteriores:"
   ]
  },
  {
   "cell_type": "code",
   "execution_count": 21,
   "metadata": {},
   "outputs": [
    {
     "name": "stdout",
     "output_type": "stream",
     "text": [
      "Datasets originales:\n",
      "(255, 2) (45, 2)\n",
      "Media y desviación típica de las características:\n",
      "[Ellipsis]\n"
     ]
    },
    {
     "ename": "AttributeError",
     "evalue": "'list' object has no attribute 'shape'",
     "output_type": "error",
     "traceback": [
      "\u001b[0;31m---------------------------------------------------------------------------\u001b[0m",
      "\u001b[0;31mAttributeError\u001b[0m                            Traceback (most recent call last)",
      "\u001b[0;32m<ipython-input-21-0d23fc84b8cf>\u001b[0m in \u001b[0;36m<module>\u001b[0;34m\u001b[0m\n\u001b[1;32m     25\u001b[0m \u001b[0mprint\u001b[0m\u001b[0;34m(\u001b[0m\u001b[0;34m'Media y desviación típica de las características:'\u001b[0m\u001b[0;34m)\u001b[0m\u001b[0;34m\u001b[0m\u001b[0;34m\u001b[0m\u001b[0m\n\u001b[1;32m     26\u001b[0m \u001b[0mprint\u001b[0m\u001b[0;34m(\u001b[0m\u001b[0mmu\u001b[0m\u001b[0;34m)\u001b[0m\u001b[0;34m\u001b[0m\u001b[0;34m\u001b[0m\u001b[0m\n\u001b[0;32m---> 27\u001b[0;31m \u001b[0mprint\u001b[0m\u001b[0;34m(\u001b[0m\u001b[0mmu\u001b[0m\u001b[0;34m.\u001b[0m\u001b[0mshape\u001b[0m\u001b[0;34m)\u001b[0m\u001b[0;34m\u001b[0m\u001b[0;34m\u001b[0m\u001b[0m\n\u001b[0m\u001b[1;32m     28\u001b[0m \u001b[0mprint\u001b[0m\u001b[0;34m(\u001b[0m\u001b[0mstd\u001b[0m\u001b[0;34m)\u001b[0m\u001b[0;34m\u001b[0m\u001b[0;34m\u001b[0m\u001b[0m\n\u001b[1;32m     29\u001b[0m \u001b[0mprint\u001b[0m\u001b[0;34m(\u001b[0m\u001b[0mstd\u001b[0m\u001b[0;34m.\u001b[0m\u001b[0mshape\u001b[0m\u001b[0;34m)\u001b[0m\u001b[0;34m\u001b[0m\u001b[0;34m\u001b[0m\u001b[0m\n",
      "\u001b[0;31mAttributeError\u001b[0m: 'list' object has no attribute 'shape'"
     ]
    }
   ],
   "source": [
    "# TODO: Normaliza los datos de ambos datasets con los mismos parámetros de normalización\n",
    "\n",
    "def normalize(x, mu, std):\n",
    "    \"\"\" Normaliza un dataset con ejemplos X\n",
    "    \n",
    "    Argumentos posicionales:\n",
    "    x -- array 2D de Numpy con los ejemplos, sin término de bias\n",
    "    mu -- vector 1D de Numpy con la media de cada característica/columna\n",
    "    std -- vector 1D de Numpy con la desviación típica de cada característica/columna\n",
    "    \n",
    "    Devuelve:\n",
    "    x_norm -- array 2D de Numpy con los ejemplos, con sus características normalizadas\n",
    "    \"\"\"\n",
    "    return [...]\n",
    "\n",
    "# Halla la media y la desviación típica de las características de los datasets originales\n",
    "# Concatena antes ambos datasets en una X común, asegurándote de utilizar el eje correcto\n",
    "X = [...]\n",
    "mu = [...]\n",
    "std = [...]\n",
    "\n",
    "print('Datasets originales:')\n",
    "print(dataset_normales.shape, dataset_anomalos.shape)\n",
    "\n",
    "print('Media y desviación típica de las características:')\n",
    "print(mu)\n",
    "print(mu.shape)\n",
    "print(std)\n",
    "print(std.shape)\n",
    "\n",
    "print('Datasets normalizados:')\n",
    "dataset_normales_norm = normalize(dataset_normales, mu, std)\n",
    "dataset_anomalos_norm = normalize(dataset_anomalos, mu, std)\n",
    "\n",
    "print(dataset_normales_norm.shape)\n",
    "print(dataset_anomalos_norm.shape)"
   ]
  },
  {
   "cell_type": "markdown",
   "metadata": {},
   "source": [
    "Ahora vamos a subdividir los datasets originales en los subsets de entrenamiento, validación y test.\n",
    "\n",
    "Para ello, dividimos el dataset de datos normales según los ratios habituales, y asignamos la mitad de datos anómalos a los subsets de validación y test. Si tuviéramos un nº de datos anómalos demasiado pequeño, podríamos incorporar una validación cruzada por K-fold.\n",
    "\n",
    "Completa la siguiente celda de código para crear dichos subsets:"
   ]
  },
  {
   "cell_type": "code",
   "execution_count": null,
   "metadata": {},
   "outputs": [],
   "source": [
    "# TODO: Divide los datasets en los subsets de entrenamiento, validación y test con los datos normales y anómalos divididos entre los 2 últimos\n",
    "\n",
    "ratios = [66,33,33]\n",
    "print('Ratios:\\n', ratios, ratios[0] + ratios[1] + ratios[2])\n",
    "\n",
    "r = [0,0]\n",
    "# Consejo: la función round() y el atributo x.shape pueden serte útiles\n",
    "r[0] = [...]\n",
    "r[1] = [...]\n",
    "print('Índices de corte:\\n', r)\n",
    "\n",
    "# Divide el dataset de datos normales en los 3 subsets siguiendo los ratios indicados\n",
    "# Consejo: la función np.array_split() puede serte útil\n",
    "X_train, X_cv, X_test = [...]\n",
    "\n",
    "# Asigna la etiqueta de Y = 0 a todos los datos provenientes del dataset de datos normales, ya que denotaremos los datos anómalos como Y = 1\n",
    "# Para ello, crea arrays 1D con la longitud del nº de ejemplos de cada subset con el valor de 0. (float) en cada elemento\n",
    "Y_train = [...]\n",
    "Y_cv = [...]\n",
    "Y_test = [...]\n",
    "\n",
    "# Ahora concatena la mitad de los datos anómalos al subset de validación y la otra mitad al subset de test\n",
    "# Consejo: de nuevo, la función np.array_split() puede serte útil\n",
    "dataset_anomalos_cv, dataset_anomalos_test = [...]\n",
    "\n",
    "X_cv = [...]\n",
    "X_test = [...]\n",
    "# El resultado final para X_cv y X_test serán vectores 2D de (m_normales * ratio[CV o test] + m_anomalos / 2, n)\n",
    "\n",
    "# Por último, al igual que hemos hecho antes, concatena a Y_cv e Y_test sendos arrays 1D con la longitud del nº de ejemplos anómalos en cada subset (la mitad de m_anomalos)\n",
    "# Cada array, en esta ocasión, tiene valores de 1. (float) en cada elemento\n",
    "Y_cv = [...]\n",
    "Y_test = [...]\n",
    "# El resultado final para Y_cv y Y_test serán vectores 1D de (m_normales * ratio[CV o test], 1) de 0s y (m_anomalos / 2, 1) de 1s.\n",
    "\n",
    "# Comprobamos los subsets creados\n",
    "print('Tamaños de los subsets de entrenamiento, validación y test:')\n",
    "print(X_train.shape)\n",
    "print(Y_train.shape)\n",
    "print(X_cv.shape)\n",
    "print(Y_cv.shape)\n",
    "print(X_test.shape)\n",
    "print(Y_test.shape)"
   ]
  },
  {
   "cell_type": "markdown",
   "metadata": {},
   "source": [
    "Por último, vamos a acabar de preprocesar los datasets, reordenándolos aleatoriamente.\n",
    "\n",
    "Completa la siguiente celda de código para reordenar aleatoriamente los subsets:"
   ]
  },
  {
   "cell_type": "code",
   "execution_count": null,
   "metadata": {},
   "outputs": [],
   "source": [
    "# TODO: Reordena aleatoriamente los subsets de entrenamiento, validación y test individualmente\n",
    "\n",
    "print('Primeras 10 filas y 2 columnas de X y vector Y:')\n",
    "print('Subset de entrenamiento:')\n",
    "print()\n",
    "print()\n",
    "print('Subset de validación:')\n",
    "print()\n",
    "print()\n",
    "print('Subset de test:')\n",
    "print()\n",
    "print()\n",
    "\n",
    "print('Reordenamos X e Y:')\n",
    "# Si lo prefieres, puedes usar la función de conveniencia de sklearn.utils.shuffle\n",
    "# Usa un estado aleatorio inicial de 42, para mantener la reproducibilidad\n",
    "X_train, Y_train = [...]\n",
    "X_cv, Y_cv = [...]\n",
    "X_test, Y_test = [...]\n",
    "\n",
    "print('Primeras 10 filas y 2 columnas de X y vector Y:')\n",
    "print('Subset de entrenamiento:')\n",
    "print()\n",
    "print()\n",
    "print('Subset de validación:')\n",
    "print()\n",
    "print()\n",
    "print('Subset de test:')\n",
    "print()\n",
    "print()\n",
    "\n",
    "print('Tamaños de los subsets de entrenamiento, validación y test:')\n",
    "print(X_train.shape)\n",
    "print(Y_train.shape)\n",
    "print(X_cv.shape)\n",
    "print(Y_cv.shape)\n",
    "print(X_test.shape)\n",
    "print(Y_test.shape)"
   ]
  },
  {
   "cell_type": "markdown",
   "metadata": {},
   "source": [
    "Por último, representamos nuestros 3 subsets en una gráfica 2D.\n",
    "\n",
    "Completa la siguiente celda de código para representar los subsets:"
   ]
  },
  {
   "cell_type": "code",
   "execution_count": 59,
   "metadata": {},
   "outputs": [
    {
     "name": "stdout",
     "output_type": "stream",
     "text": [
      "(255, 2)\n",
      "(200, 2)\n",
      "(200,)\n",
      "(30, 2)\n",
      "(30,)\n",
      "(25, 2)\n",
      "(25,)\n"
     ]
    }
   ],
   "source": [
    "X_train = dataset_normales[:200, :]\n",
    "Y_train = np.ones(X_train.shape[0])\n",
    "X_cv = dataset_normales[200:230, :]\n",
    "Y_cv = np.zeros(X_cv.shape[0])\n",
    "X_test = dataset_normales[230:, :]\n",
    "Y_test = np.zeros(X_test.shape[0])\n",
    "\n",
    "print(dataset_normales.shape)\n",
    "print(X_train.shape)\n",
    "print(Y_train.shape)\n",
    "print(X_cv.shape)\n",
    "print(Y_cv.shape)\n",
    "print(X_test.shape)\n",
    "print(Y_test.shape)"
   ]
  },
  {
   "cell_type": "code",
   "execution_count": 69,
   "metadata": {},
   "outputs": [
    {
     "data": {
      "image/png": "[encoded data removed]",
      "text/plain": [
       "<Figure size 432x288 with 1 Axes>"
      ]
     },
     "metadata": {
      "needs_background": "light"
     },
     "output_type": "display_data"
    }
   ],
   "source": [
    "# Representamos los datos iniciales\n",
    "plt.figure(plot_n)\n",
    "\n",
    "plt.title('Subsets con datos normales y anómalos')\n",
    "\n",
    "cmap, norm = from_levels_and_colors([0., 0.5, 1.1], ['blue', 'red'])\n",
    "\n",
    "plt.scatter(X_train[:, 0], X_train[:, 1], s=25, c=Y_train, marker='o', cmap=cmap, norm=norm)\n",
    "plt.scatter(X_cv[:, 0], X_cv[:, 1], s=25, c=Y_cv, marker='s', cmap=cmap, norm=norm)\n",
    "plt.scatter(X_test[:, 0], X_test[:, 1], s=25, c=Y_test, marker='*', cmap=cmap, norm=norm)\n",
    "\n",
    "plt.xlim(x_lim)\n",
    "plt.ylim(y_lim)\n",
    "plt.legend(('Entrenamiento', 'Validación', 'Test'))\n",
    "plt.grid()\n",
    "\n",
    "plt.show()\n",
    "\n",
    "plot_n += 1"
   ]
  },
  {
   "cell_type": "markdown",
   "metadata": {},
   "source": [
    "## Modelizar una distribución gaussiana\n",
    "\n",
    "- Modelizar la distribución gaussiana, obtener $\\mu$ y $\\Sigma$\n",
    "- Representar gráficamente los niveles de probabilidad con cortes 2D sobre subset de training"
   ]
  },
  {
   "cell_type": "code",
   "execution_count": null,
   "metadata": {},
   "outputs": [],
   "source": [
    "# TODO"
   ]
  },
  {
   "cell_type": "markdown",
   "metadata": {},
   "source": [
    "## Determinar el umbral de probabilidad para detectar casos anómalos\n",
    "\n",
    "- Representar gráficamente los datos normales y anómalos junto a los cortes de probabilidad sobre el subset de validación\n",
    "- Hayar la probabilidad de cada caso anómalo y representarla gráficamente\n",
    "- Evaluar un espacio lineal de valores de E como la probabilidad con mejor métrica de clasificación por validación, sobre el subset de validación"
   ]
  },
  {
   "cell_type": "code",
   "execution_count": null,
   "metadata": {},
   "outputs": [],
   "source": [
    "# TODO"
   ]
  },
  {
   "cell_type": "markdown",
   "metadata": {},
   "source": [
    "## Evaluar la precisión final del modelo\n",
    "\n",
    "- Representar gráficamente los datos normales y anómalos sobre el subset de test, junto a los cortes de probabilidad\n",
    "- Evaluar el modelo sobre el subset de test\n",
    "- Representar de nuevo resaltando los ejemplos sobre los que se equivoca\n",
    "- Representar gráficamente de nuevo todos los datos, sobre los 3 subsets, junto a los cortes de probabilidad"
   ]
  },
  {
   "cell_type": "code",
   "execution_count": null,
   "metadata": {},
   "outputs": [],
   "source": [
    "# TODO"
   ]
  }
 ],
 "metadata": {
  "environment": {
   "name": "common-cpu.m54",
   "type": "gcloud",
   "uri": "gcr.io/deeplearning-platform-release/base-cpu:m54"
  },
  "kernelspec": {
   "display_name": "Python 3",
   "language": "python",
   "name": "python3"
  },
  "language_info": {
   "codemirror_mode": {
    "name": "ipython",
    "version": 3
   },
   "file_extension": ".py",
   "mimetype": "text/x-python",
   "name": "python",
   "nbconvert_exporter": "python",
   "pygments_lexer": "ipython3",
   "version": "3.7.8"
  }
 },
 "nbformat": 4,
 "nbformat_minor": 4
}
