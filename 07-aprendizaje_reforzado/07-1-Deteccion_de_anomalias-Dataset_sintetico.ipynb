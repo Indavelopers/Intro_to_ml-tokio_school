{
 "cells": [
  {
   "cell_type": "markdown",
   "metadata": {},
   "source": [
    "# Detección de anomalías: Dataset sintético\n",
    "\n",
    "## ¿Qué vamos a hacer?\n",
    "- Crear un dataset sintético para detección de anomalías con casos normales y anómalos.\n",
    "- Modelizar una distribución gaussiana sobre los datos normales.\n",
    "- Determinar el umbral de probabilidad para detectar los datos anómalos por validación.\n",
    "- Evaluar la precisión final del modelo sobre el subconjunto de test.\n",
    "- Representar gráficamente el comportamiento del modelo en cada paso."
   ]
  },
  {
   "cell_type": "code",
   "execution_count": 1,
   "metadata": {},
   "outputs": [],
   "source": [
    "# TODO: Usa esta celda para importar todas las librerías necesarias\n",
    "\n",
    "import numpy as np\n",
    "from sklearn.datasets import make_blobs\n",
    "from scipy.stats import multivariate_normal\n",
    "from sklearn.utils import shuffle\n",
    "from sklearn.model_selection import train_test_split\n",
    "from sklearn.metrics import f1_score\n",
    "from matplotlib import pyplot as plt\n",
    "from matplotlib.colors import from_levels_and_colors\n",
    "from matplotlib import cm\n",
    "from mpl_toolkits.mplot3d import Axes3D\n",
    "\n",
    "plot_n = 1\n",
    "rng = np.random.RandomState(42)"
   ]
  },
  {
   "cell_type": "markdown",
   "metadata": {},
   "source": [
    "## Crear un dataset sintético para detección de anomalías\n",
    "\n",
    "Para resolver este ejercicio, primero necesitamos crear un dataset con datos normales y otro con datos anómalos. En este caso, los datasets serán de 2 dimensiones (2D) con 2 características únicamente, en lugar de un nº de características *n* elevado, para facilitar su visualización en una representación 2D.\n",
    "\n",
    "Inicialmente, vamos a crear 2 datasets independientes, uno que representará los datos normales y otro los datos anómalos. Luego combinaremos dichos datasets en 3 subsets finales, de entrenamiento, validación y test, como habitualmente, con la particularidad de que en este caso los datos anómalos sólo se encontrarán en los subsets de validación y test.\n",
    "\n",
    "Completa la siguiente celda de código para crear los datasets iniciales independientes con datos normales y anómalos:"
   ]
  },
  {
   "cell_type": "code",
   "execution_count": 2,
   "metadata": {},
   "outputs": [
    {
     "name": "stdout",
     "output_type": "stream",
     "text": [
      "Nº de ejemplos: 300, ratio de ejemplos anómalos: 15.0%, nº de datos normales y anómalos: 255/45\n",
      "Nº de características: 2\n"
     ]
    },
    {
     "data": {
      "image/png": "[encoded data removed]",
      "text/plain": [
       "<Figure size 432x288 with 1 Axes>"
      ]
     },
     "metadata": {
      "needs_background": "light"
     },
     "output_type": "display_data"
    }
   ],
   "source": [
    "# TODO: Genera dos datasets sintéticos independientes con datos normales y anómalos\n",
    "\n",
    "m = 300\n",
    "n = 2\n",
    "ratio_anomalos = 0.15    # Porcentaje de datos anómalos vs datos normales, modificable\n",
    "m_anomalos = int(m * ratio_anomalos)\n",
    "m_normales = m - m_anomalos\n",
    "x_lim = (-5, 5)\n",
    "y_lim = (-5, 5)\n",
    "\n",
    "print('Nº de ejemplos: {}, ratio de ejemplos anómalos: {}%, nº de datos normales y anómalos: {}/{}'.format(m, ratio_anomalos * 100, m_normales, m_anomalos))\n",
    "print('Nº de características: {}'.format(n))\n",
    "\n",
    "# Creamos ambos datasets\n",
    "dataset_normales = make_blobs(n_samples=m_normales, centers=np.array([[1.5, 1.5]]), cluster_std=1.0, random_state=42)\n",
    "dataset_normales = dataset_normales[0]    # Descartamos el resto de información y retenemos sólo las posiciones de los ejemplos\n",
    "dataset_anomalos = np.random.uniform(low=(x_lim[0], y_lim[0]), high=(x_lim[1], y_lim[1]), size=(m_anomalos, 2))\n",
    "\n",
    "# Representamos los datos iniciales\n",
    "plt.figure(plot_n)\n",
    "\n",
    "plt.title('Dataset original: datos normales y anómalos')\n",
    "\n",
    "plt.scatter(dataset_normales[:, 0], dataset_normales[:, 1], s=10, color='b')\n",
    "plt.scatter(dataset_anomalos[:, 0], dataset_anomalos[:, 1], s=10, color='r')\n",
    "\n",
    "plt.xlim(x_lim)\n",
    "plt.ylim(y_lim)\n",
    "plt.legend(('Normales', 'Anómalos'))\n",
    "plt.grid()\n",
    "\n",
    "plt.show()\n",
    "\n",
    "plot_n += 1"
   ]
  },
  {
   "cell_type": "markdown",
   "metadata": {},
   "source": [
    "Antes de continuar, vamos a preprocesar los datos normalizándolos, como hacemos habitualmente. Dada que nuestra *X* se compondrá de ambos datasets, los normalizaremos al a vez.\n",
    "\n",
    "En este caso, no insertamos una primera columna de 1s al dataset, por lo que normalizamos todas las columnas.\n",
    "\n",
    "Completa la siguiente celda de código para normalizar los datos. Para ello, rescata tu función de normalización de ejercicios anteriores:"
   ]
  },
  {
   "cell_type": "code",
   "execution_count": 3,
   "metadata": {},
   "outputs": [
    {
     "name": "stdout",
     "output_type": "stream",
     "text": [
      "Datasets originales:\n",
      "(255, 2) (45, 2)\n",
      "Media y desviación típica de las características:\n",
      "[Ellipsis]\n"
     ]
    },
    {
     "ename": "AttributeError",
     "evalue": "'list' object has no attribute 'shape'",
     "output_type": "error",
     "traceback": [
      "\u001b[0;31m---------------------------------------------------------------------------\u001b[0m",
      "\u001b[0;31mAttributeError\u001b[0m                            Traceback (most recent call last)",
      "\u001b[0;32m<ipython-input-3-0d23fc84b8cf>\u001b[0m in \u001b[0;36m<module>\u001b[0;34m\u001b[0m\n\u001b[1;32m     25\u001b[0m \u001b[0mprint\u001b[0m\u001b[0;34m(\u001b[0m\u001b[0;34m'Media y desviación típica de las características:'\u001b[0m\u001b[0;34m)\u001b[0m\u001b[0;34m\u001b[0m\u001b[0;34m\u001b[0m\u001b[0m\n\u001b[1;32m     26\u001b[0m \u001b[0mprint\u001b[0m\u001b[0;34m(\u001b[0m\u001b[0mmu\u001b[0m\u001b[0;34m)\u001b[0m\u001b[0;34m\u001b[0m\u001b[0;34m\u001b[0m\u001b[0m\n\u001b[0;32m---> 27\u001b[0;31m \u001b[0mprint\u001b[0m\u001b[0;34m(\u001b[0m\u001b[0mmu\u001b[0m\u001b[0;34m.\u001b[0m\u001b[0mshape\u001b[0m\u001b[0;34m)\u001b[0m\u001b[0;34m\u001b[0m\u001b[0;34m\u001b[0m\u001b[0m\n\u001b[0m\u001b[1;32m     28\u001b[0m \u001b[0mprint\u001b[0m\u001b[0;34m(\u001b[0m\u001b[0mstd\u001b[0m\u001b[0;34m)\u001b[0m\u001b[0;34m\u001b[0m\u001b[0;34m\u001b[0m\u001b[0m\n\u001b[1;32m     29\u001b[0m \u001b[0mprint\u001b[0m\u001b[0;34m(\u001b[0m\u001b[0mstd\u001b[0m\u001b[0;34m.\u001b[0m\u001b[0mshape\u001b[0m\u001b[0;34m)\u001b[0m\u001b[0;34m\u001b[0m\u001b[0;34m\u001b[0m\u001b[0m\n",
      "\u001b[0;31mAttributeError\u001b[0m: 'list' object has no attribute 'shape'"
     ]
    }
   ],
   "source": [
    "# TODO: Normaliza los datos de ambos datasets con los mismos parámetros de normalización\n",
    "\n",
    "def normalize(x, mu, std):\n",
    "    \"\"\" Normaliza un dataset con ejemplos X\n",
    "    \n",
    "    Argumentos posicionales:\n",
    "    x -- array 2D de Numpy con los ejemplos, sin término de bias\n",
    "    mu -- vector 1D de Numpy con la media de cada característica/columna\n",
    "    std -- vector 1D de Numpy con la desviación típica de cada característica/columna\n",
    "    \n",
    "    Devuelve:\n",
    "    x_norm -- array 2D de Numpy con los ejemplos, con sus características normalizadas\n",
    "    \"\"\"\n",
    "    return [...]\n",
    "\n",
    "# Halla la media y la desviación típica de las características de los datasets originales\n",
    "# Concatena antes ambos datasets en una X común, asegurándote de utilizar el eje correcto\n",
    "X = [...]\n",
    "mu_normalizar = [...]\n",
    "std = [...]\n",
    "\n",
    "print('Datasets originales:')\n",
    "print(dataset_normales.shape, dataset_anomalos.shape)\n",
    "\n",
    "print('Media y desviación típica de las características:')\n",
    "print(mu_normalizar)\n",
    "print(mu_normalizar.shape)\n",
    "print(std)\n",
    "print(std.shape)\n",
    "\n",
    "print('Datasets normalizados:')\n",
    "dataset_normales_norm = normalize(dataset_normales, mu_normalizar, std)\n",
    "dataset_anomalos_norm = normalize(dataset_anomalos, mu_normalizar, std)\n",
    "\n",
    "print(dataset_normales_norm.shape)\n",
    "print(dataset_anomalos_norm.shape)"
   ]
  },
  {
   "cell_type": "markdown",
   "metadata": {},
   "source": [
    "Ahora vamos a subdividir los datasets originales en los subsets de entrenamiento, validación y test.\n",
    "\n",
    "Para ello, dividimos el dataset de datos normales según los ratios habituales, y asignamos la mitad de datos anómalos a los subsets de validación y test. Si tuviéramos un nº de datos anómalos demasiado pequeño, podríamos incorporar una validación cruzada por K-fold.\n",
    "\n",
    "Completa la siguiente celda de código para crear dichos subsets:"
   ]
  },
  {
   "cell_type": "code",
   "execution_count": null,
   "metadata": {},
   "outputs": [],
   "source": [
    "# TODO: Divide los datasets en los subsets de entrenamiento, validación y test con los datos normales y anómalos divididos entre los 2 últimos\n",
    "\n",
    "ratios = [66,33,33]\n",
    "print('Ratios:\\n', ratios, ratios[0] + ratios[1] + ratios[2])\n",
    "\n",
    "r = [0,0]\n",
    "# Consejo: la función round() y el atributo x.shape pueden serte útiles\n",
    "r[0] = [...]\n",
    "r[1] = [...]\n",
    "print('Índices de corte:\\n', r)\n",
    "\n",
    "# Divide el dataset de datos normales en los 3 subsets siguiendo los ratios indicados\n",
    "# Consejo: la función np.array_split() puede serte útil\n",
    "X_train, X_cv, X_test = [...]\n",
    "\n",
    "# Asigna la etiqueta de Y = 0 a todos los datos provenientes del dataset de datos normales\n",
    "# Denotaremos los datos anómalos como Y = 1\n",
    "# Crea arrays 1D de la longitud del nº de ejemplos de cada subset con el valor de 0. (float) en cada elemento\n",
    "Y_train = [...]\n",
    "Y_cv = [...]\n",
    "Y_test = [...]\n",
    "\n",
    "# Ahora concatena la mitad de los datos anómalos al subset de validación y la otra mitad al subset de test\n",
    "# Consejo: de nuevo, la función np.array_split() puede serte útil\n",
    "dataset_anomalos_cv, dataset_anomalos_test = [...]\n",
    "\n",
    "X_cv = [...]\n",
    "X_test = [...]\n",
    "# El resultado final para X_cv y X_test serán vectores 2D de (m_normales * ratio[CV o test] + m_anomalos / 2, n)\n",
    "\n",
    "# Por último, al igual que hemos hecho antes, concatena a Y_cv e Y_test sendos arrays 1D con la longitud del nº de ejemplos anómalos en cada subset (la mitad de m_anomalos)\n",
    "# Cada array, en esta ocasión, tiene valores de 1. (float) en cada elemento\n",
    "Y_cv = [...]\n",
    "Y_test = [...]\n",
    "# El resultado final para Y_cv y Y_test serán vectores 1D de (m_normales * ratio[CV o test], 1) de 0s y (m_anomalos / 2, 1) de 1s.\n",
    "\n",
    "# Comprobamos los subsets creados\n",
    "print('Tamaños de los subsets de entrenamiento, validación y test:')\n",
    "print(X_train.shape)\n",
    "print(Y_train.shape)\n",
    "print(X_cv.shape)\n",
    "print(Y_cv.shape)\n",
    "print(X_test.shape)\n",
    "print(Y_test.shape)"
   ]
  },
  {
   "cell_type": "markdown",
   "metadata": {},
   "source": [
    "Por último, vamos a acabar de preprocesar los datasets, reordenándolos aleatoriamente.\n",
    "\n",
    "Completa la siguiente celda de código para reordenar aleatoriamente los subsets:"
   ]
  },
  {
   "cell_type": "code",
   "execution_count": null,
   "metadata": {},
   "outputs": [],
   "source": [
    "# TODO: Reordena aleatoriamente los subsets de entrenamiento, validación y test individualmente\n",
    "\n",
    "print('Primeras 10 filas y 2 columnas de X y vector Y:')\n",
    "print('Subset de entrenamiento:')\n",
    "print(X_train[:10,:2])\n",
    "print(Y_train[:10,:2])\n",
    "print('Subset de validación:')\n",
    "print(X_cv[:10,:2])\n",
    "print(Y_cv[:10,:2])\n",
    "print('Subset de test:')\n",
    "print(X_test[:10,:2])\n",
    "print(Y_test[:10,:2])\n",
    "\n",
    "print('Reordenamos X e Y:')\n",
    "# Si lo prefieres, puedes usar la función de conveniencia de sklearn.utils.shuffle\n",
    "# Usa un estado aleatorio inicial de 42, para mantener la reproducibilidad\n",
    "X_train, Y_train = [...]\n",
    "X_cv, Y_cv = [...]\n",
    "X_test, Y_test = [...]\n",
    "\n",
    "print('Primeras 10 filas y 2 columnas de X y vector Y:')\n",
    "print('Subset de entrenamiento:')\n",
    "print(X_train[:10,:2])\n",
    "print(Y_train[:10,:2])\n",
    "print('Subset de validación:')\n",
    "print(X_cv[:10,:2])\n",
    "print(Y_cv[:10,:2])\n",
    "print('Subset de test:')\n",
    "print(X_test[:10,:2])\n",
    "print(Y_test[:10,:2])\n",
    "\n",
    "print('Tamaños de los subsets de entrenamiento, validación y test:')\n",
    "print(X_train.shape)\n",
    "print(Y_train.shape)\n",
    "print(X_cv.shape)\n",
    "print(Y_cv.shape)\n",
    "print(X_test.shape)\n",
    "print(Y_test.shape)"
   ]
  },
  {
   "cell_type": "markdown",
   "metadata": {},
   "source": [
    "Por último, representamos nuestros 3 subsets en una gráfica 2D.\n",
    "\n",
    "Completa la siguiente celda de código para representar los subsets:"
   ]
  },
  {
   "cell_type": "code",
   "execution_count": null,
   "metadata": {},
   "outputs": [],
   "source": [
    "# TODO: Representa los 3 subsets en una gráfica 2D\n",
    "\n",
    "# Puedes ajustar los parámetros de matplotlib, como el rango de las dimensiones y tamaño de los puntos\n",
    "plt.figure(plot_n)\n",
    "\n",
    "plt.title('Subsets con datos normales y anómalos')\n",
    "\n",
    "cmap, norm = from_levels_and_colors([0., 0.5, 1.1], ['blue', 'red'])\n",
    "\n",
    "plt.scatter(X_train[:, 0], X_train[:, 1], s=25, c=Y_train, marker='o', cmap=cmap, norm=norm)\n",
    "plt.scatter(X_cv[:, 0], X_cv[:, 1], s=25, c=Y_cv, marker='s', cmap=cmap, norm=norm)\n",
    "plt.scatter(X_test[:, 0], X_test[:, 1], s=25, c=Y_test, marker='*', cmap=cmap, norm=norm)\n",
    "\n",
    "plt.xlim(x_lim)\n",
    "plt.ylim(y_lim)\n",
    "plt.legend(('Entrenamiento', 'Validación', 'Test'))\n",
    "plt.grid()\n",
    "\n",
    "plt.show()\n",
    "\n",
    "plot_n += 1"
   ]
  },
  {
   "cell_type": "markdown",
   "metadata": {},
   "source": [
    "## Modelizar una distribución gaussiana\n",
    "\n",
    "Vamos a \"entrenar el modelo\", que en este caso significará modelizar la presumible distribución gaussiana que siguen los datos normales.\n",
    "\n",
    "Modelizamos sólo los datos normales porque queremos encontrar qué distribución siguen, qué distribución de datos es la normal o aceptable y qué datos no siguen dicha distribución y se deberían considerar anómalos.\n",
    "\n",
    "Una distibución gaussiana multivariable viene definida por 2 parámetros: la media $\\mu$ y la matriz de covarianza $\\Sigma$. $\\mu$ es un vector de tamaño (*n*) y $\\Sigma$ un vector/matriz cuadarada (*n*, *n*).\n",
    "\n",
    "Recuerda del módulo y ejercicio sobre SVM con filtro gaussiano que la distribución gaussiana (o normal) multivariable puede tener una forma redondeada u ovalada, que la $\\mu$ representa el punto central de la distribución en el espacio y la $\\Sigma$ la forma de la misma.\n",
    "\n",
    "*NOTA*: Aunque la distribución normal o gaussiana es una de las más comunes en la naturaleza, sino la que más, en un proyecto real antes deberíamos comprobar si nuestros datos normales, según el conjunto de características tomadas de ellos, siguen una distribución normal o tenemos que modelarlos con otro tipo de distribución, siguiendo los mismos pasos.\n",
    "\n",
    "$\\mu$ y $\\Sigma$ se podrían calcular como:\n",
    "$$\n",
    "\\mu = \\frac{1}{m} \\sum\\limits_{i=0}^{m} x^i; \\\\\n",
    "\\Sigma = \\frac{1}{m} \\sum\\limits_{i=0}^{m} (x^i - \\mu)(x^i - \\mu)^T;\n",
    "$$\n",
    "\n",
    "Sigue las siguientes instrucciones para modelizar la distribución gaussiana y obtener sus parámetros $\\mu$ y $\\Sigma$ y así luego poder calcular la probabilidad de que un punto sea anómalo:"
   ]
  },
  {
   "cell_type": "code",
   "execution_count": null,
   "metadata": {},
   "outputs": [],
   "source": [
    "# TODO: Modeliza la distribución gaussiana y obtén mu y Sigma\n",
    "\n",
    "# Calcula la media y Sigma de X_train\n",
    "# Para ello, puedes utilizar las funciones de Numpy de media y matriz de covarianza con el eje adecuado\n",
    "mu = [...]\n",
    "sigma = [...]\n",
    "\n",
    "# Computa la distribución normal multivariable con dichos parámetros\n",
    "dist_normal = multivariate_normal(mean=mu, cov=sigma)\n",
    "\n",
    "print('Dimensiones de la media y matriz de covarianza del subset de entrenamiento:')\n",
    "print(mu.shape, sigma.shape)\n",
    "print('Media:')\n",
    "print(mu)\n",
    "print('Matriz de covarianza:')\n",
    "print(sigma)"
   ]
  },
  {
   "cell_type": "markdown",
   "metadata": {},
   "source": [
    "Vamos a representar gráficamente la función de densidad de la distribución de los datos normales con cortes de probabilidad junto al dataset de datos normales.\n",
    "\n",
    "Función de densidad de probabilidad:\n",
    "\n",
    "$pdf(x) = \\frac{1}{\\Sigma \\sqrt{2 \\pi}} e^{- \\frac{1}{2}(\\frac{x - \\mu}{\\Sigma})^2}$\n",
    "\n",
    "Sigue las instrucciones de la siguiente celda para ello:\n",
    "\n",
    "*NOTA*: Puedes basarte en la función [contourf](https://matplotlib.org/stable/gallery/images_contours_and_fields/contourf_demo.html#sphx-glr-gallery-images-contours-and-fields-contourf-demo-py) de matplotlib."
   ]
  },
  {
   "cell_type": "code",
   "execution_count": null,
   "metadata": {},
   "outputs": [],
   "source": [
    "# TODO: Representa la función de densidad y los datos normales\n",
    "\n",
    "fig1, ax2 = plt.subplots([...])\n",
    "\n",
    "# Añade una barra de color con la probabilidad de la distribución\n",
    "[...]\n",
    "\n",
    "# Añade un título y etiquetas a cada dimensión\n",
    "[...]\n",
    "\n",
    "# Representa también los datos del subset de entrenamiento X_train como puntos en la misma gráfica\n",
    "[...]\n",
    "\n",
    "plt.show()"
   ]
  },
  {
   "cell_type": "markdown",
   "metadata": {},
   "source": [
    "## Determinar el umbral de probabilidad para detectar casos anómalos\n",
    "\n",
    "Ahora vamos a determinar el umbral de probabilidad a partir del cual determinaremos si un nuevo caso es normal o anómalo. Si un ejemplo es demasiado diferente a los datos normales, si está alejado de ellos, si la probabilidad de que siga la misma distribución que los datos normales, es inferior a dicho umbral, podemos declararlo como anómalo.\n",
    "\n",
    "Para encontrar dicho umbral, vamos a utilizar el subset de validación, con datos normales y anómalos, y al igual que la validación para la regularización en aprendizaje supervisado, vamos a estimar múltiples valores del umbral $\\epsilon$, quedándonos con aquel que mejor clasifique datos normales y anómalos."
   ]
  },
  {
   "cell_type": "markdown",
   "metadata": {},
   "source": [
    "Para comenzar, vamos a representar gráficamente la distribución, el subset de validación y varios posibles valores de $\\epsilon$.\n",
    "\n",
    "Para ello, sigue las instrucciones para completar la siguiente celda:\n",
    "\n",
    "*NOTA*: Para las líneas de contorno, usa la función [contour](https://matplotlib.org/stable/api/_as_gen/matplotlib.axes.Axes.contour.html#matplotlib.axes.Axes.contour), también utilizada en el ejemplo anterior."
   ]
  },
  {
   "cell_type": "code",
   "execution_count": 5,
   "metadata": {},
   "outputs": [
    {
     "data": {
      "text/plain": [
       "array([0.   , 0.125, 0.25 , 0.375, 0.5  ])"
      ]
     },
     "execution_count": 5,
     "metadata": {},
     "output_type": "execute_result"
    }
   ],
   "source": [
    "# TODO: Representa la distribución, el subset de validación y varios posibles valores de epsilon\n",
    "\n",
    "# Genera algunos valores para epsilon\n",
    "epsilon_evaluado = np.linspace(0., 0.5, num=5)\n",
    "\n",
    "# Recupera el código de la celda anterior y añádele una línea de contorno en cada valor de epsilon\n",
    "[...]"
   ]
  },
  {
   "cell_type": "markdown",
   "metadata": {},
   "source": [
    "Para tener mayor visibilidad sobre nuestro dataset y comprobar el valor de $\\epsilon$ finalmente, vamos a computar las probabilidades de que cada dato anómalo del subset de validación siga la distribución de los datos normales.\n",
    "\n",
    "Para ello, sigue las instrucciones de la siguiente celda:"
   ]
  },
  {
   "cell_type": "code",
   "execution_count": null,
   "metadata": {},
   "outputs": [],
   "source": [
    "# TODO: Calcula las probabilidades de los datos anómalos de validación según la distribución de entrenamiento\n",
    "\n",
    "# Filtra los datos del subset de validación que sean anómalos\n",
    "# Recuerda, los datos anómalos tienen una Y_cv = 1.\n",
    "X_cv_anomalos = [...]\n",
    "\n",
    "# Calcula sus probabilidades de seguir la distribución normal\n",
    "p_cv_anomalos = dist_normal.pdf(X_cv_anomalos)\n",
    "\n",
    "print('Probabilidades de seguir la distribución normal de los 10 primeros datos de validación:')\n",
    "print(p_cv_anomalos[:10])"
   ]
  },
  {
   "cell_type": "markdown",
   "metadata": {},
   "source": [
    "Por último, vamos a evaluar un espacio lineal de posibles valores de $\\epsilon$ y hallaremos el más óptimo para declarar un dato como anómalo:"
   ]
  },
  {
   "cell_type": "code",
   "execution_count": null,
   "metadata": {},
   "outputs": [],
   "source": [
    "# TODO: Evalúa múltiples valores de epsilon y halla el más óptimo para clasificar datos como normales o anómalos\n",
    "\n",
    "# Genera un espacio lineal de valores de epsilon con más precisión\n",
    "epsilon_evaluado = np.linspace(0., 1., num=1e2)    # Puedes modificar la precisión para acelerar la computación\n",
    "\n",
    "# Valores a hallar su óptimo\n",
    "epsilon = 1e6    # Valor de epsilon\n",
    "f1_cv = 0.    # F1_score de la clasificación\n",
    "for e in epsilon_evaluado:\n",
    "    # Asigna Y = 1. a valores cuya probabilidad sea inferior a epsilon y 0. al resto\n",
    "    Y_cv_pred = np.where([...])\n",
    "    \n",
    "    # Halla el F1-score para dicha clasificación con Y_cv como valor conocido\n",
    "    score = f1_score([...])\n",
    "    \n",
    "    if score > f1_cv:\n",
    "        f1_cv = score\n",
    "        epsilon = e\n",
    "\n",
    "print('Epsilon óptima en subset de validación:', epsilon)\n",
    "print('Con F1-score:', f1_cv)"
   ]
  },
  {
   "cell_type": "markdown",
   "metadata": {},
   "source": [
    "## Evaluar la precisión final del modelo\n",
    "\n",
    "Para finalizar nuestro entrenamiento, vamos a comprobar la precisión final del modelo sobre el subset de test, como hacemos habitualmente.\n",
    "\n",
    "Para ello, haremos una comprobación matemática y visual de dichos datos.\n",
    "\n",
    "Sigue las instrucciones para completar la siguiente celda y representar gráficamente los datos normales y anómalos del subset de test junto a la distribución de datos normales del subset de entrenamiento:"
   ]
  },
  {
   "cell_type": "code",
   "execution_count": null,
   "metadata": {},
   "outputs": [],
   "source": [
    "# TODO: Representa el subset de test junto a la distribución de datos del subset de entrenamiento\n",
    "# Incluye la línea de contorno para la epsilon escogida\n",
    "\n",
    "[...]\n",
    "\n",
    "plt.show()"
   ]
  },
  {
   "cell_type": "markdown",
   "metadata": {},
   "source": [
    "Ahora calcula las métricas de evaluación de clasificación para evaluar la clasificación entre datos normales y anómalos que hace el modelo sobre el subset de test:"
   ]
  },
  {
   "cell_type": "code",
   "execution_count": null,
   "metadata": {},
   "outputs": [],
   "source": [
    "# TODO: Calcula las métricas de evaluación de clasificación del modelo para el subset de test\n",
    "\n",
    "# Asigna Y = 1. a valores cuya probabilidad sea inferior a epsilon y 0. al resto\n",
    "Y_test_pred = np.where([...])\n",
    "\n",
    "# Haya el F1-score para la clasificación con Y_test como valor conocido\n",
    "f1_test = f1_score([...])\n",
    "\n",
    "print('F1-score para el subset de test:', f1_test)"
   ]
  },
  {
   "cell_type": "markdown",
   "metadata": {},
   "source": [
    "Analiza gráficamente qué datos del subset de test clasifica correcta e incorrectamente el modelo:"
   ]
  },
  {
   "cell_type": "code",
   "execution_count": null,
   "metadata": {},
   "outputs": [],
   "source": [
    "# TODO: Representa errores y aciertos en el subset de test junto a la distribución y el corte de epsilon\n",
    "\n",
    "# Asigna z = 1. para acierto y z = 0. para fallo\n",
    "# Acierto: Y_test == Y_test_pred\n",
    "z = [...]\n",
    "\n",
    "# Representa la gráfica\n",
    "# Utiliza colores diferentes para los datos que ha acertado y los que ha fallado\n",
    "[...]\n",
    "\n",
    "plt.show()"
   ]
  },
  {
   "cell_type": "markdown",
   "metadata": {},
   "source": [
    "*¿Crees que el modelo hace un buen trabajo al detectar las anomalías?*\n",
    "\n",
    "*¿Hay algún dato que tú clasificarías de forma diferente?*"
   ]
  },
  {
   "cell_type": "markdown",
   "metadata": {},
   "source": [
    "Por último, representa gráficamente todos los datos, de los 3 subsets, de forma conjunta, junto a la distribución y el corte $\\epsilon$, para analizar la distribución de datos normales y anómalos y el funcionamiento del modelo:"
   ]
  },
  {
   "cell_type": "code",
   "execution_count": null,
   "metadata": {},
   "outputs": [],
   "source": [
    "# TODO: Representa los datos normales y anómalos junto a la distribución y el corte de epsilon\n",
    "# Representa los 3 subsets: entrenamiento, validación y test\n",
    "# Si lo prefieres, puedes distinguirlos con marcadores de formas diferentes\n",
    "# Puedes utilizar colores diferentes para datos normales y anómalos conocidos originalmente\n",
    "[...]\n",
    "\n",
    "plt.show()"
   ]
  }
 ],
 "metadata": {
  "environment": {
   "name": "common-cpu.m54",
   "type": "gcloud",
   "uri": "gcr.io/deeplearning-platform-release/base-cpu:m54"
  },
  "kernelspec": {
   "display_name": "Python 3",
   "language": "python",
   "name": "python3"
  },
  "language_info": {
   "codemirror_mode": {
    "name": "ipython",
    "version": 3
   },
   "file_extension": ".py",
   "mimetype": "text/x-python",
   "name": "python",
   "nbconvert_exporter": "python",
   "pygments_lexer": "ipython3",
   "version": "3.7.8"
  }
 },
 "nbformat": 4,
 "nbformat_minor": 4
}
