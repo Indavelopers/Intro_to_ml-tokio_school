{
 "cells": [
  {
   "cell_type": "markdown",
   "metadata": {},
   "source": [
    "# Sistemas de recomendación\n",
    "\n",
    "¿Qué vamos a hacer?\n",
    "- Explorar el planteamiento de los filtros colaborativos\n",
    "- Crear un dataset para resolver por sistemas de recomendación\n",
    "- Implementar una función de coste y descenso de gradiente\n",
    "- Entrenar un modelo de recomendación por filtros colaborativos\n",
    "- Realizar predicciones de recomendaciones\n",
    "- Reentrenar el modelo incorporando nuevas valoraciones\n",
    "- Recomendar ejemplos similares"
   ]
  },
  {
   "cell_type": "code",
   "execution_count": 1,
   "metadata": {},
   "outputs": [],
   "source": [
    "# TODO: Usa esta celda para importar todas las librerías necesarias\n",
    "\n",
    "import time\n",
    "import numpy as np\n",
    "import matplotlib.pyplot as plt\n",
    "from sklearn.utils import shuffle\n",
    "\n",
    "np.random.seed(42)"
   ]
  },
  {
   "cell_type": "markdown",
   "metadata": {},
   "source": [
    "# Crear el dataset sintético\n",
    "\n",
    "Vamos a crear un dataset sintético de nuevo, pero ésta vez enfocado a los sistemas de recomendación, con algunas diferencias frente a la regresión lineal:\n",
    "\n",
    "- Las variables predictoras o independientes *X* (de tamaño (m, n + 1)) que representan las características de cada ejemplo,  **no son conocidas** de antemano.\n",
    "- El vector $\\Theta$ (*Theta*) es 2D (de tamaño ($n_u$, n + 1)), puesto que ahora representa los pesos o coeficientes de las características para cada usuario. De nuevo, no es conocido de antemano.\n",
    "- El vector *Y* es 2D (de tamaño (m, $n_u$)), puesto que ahora representa la valoración para cada ejemplo de cada usuario.\n",
    "- El vector *Y* contendrá tanto las valoraciones \"reales\" que ha emitido cada usuario para cada película que ha valorado, como, al final del entrenamiento, una predicción de sus valoraciones para recomendarle una película u otra.\n",
    "- *R* será una matriz \"máscara\" sobre *Y*, utilizada para indicar qué valoraciones de *Y* son las reales, emitidas por un usuario y por tanto sólo aquellas a tener en cuenta para entrenar el modelo, y cuáles son sólo predicciones.\n",
    "\n",
    "Un ejemplo habitual son las recomendaciones de películas en un portal de streaming de video.\n",
    "En este caso, un dataset tendría estas características, p. ej.:\n",
    "- *m*: Nº de películas.\n",
    "- *n*: Nº de características de cada película y de coeficientes de cada usuario.\n",
    "- $n_u$: Nº de usuarios del portal.\n",
    "- $n_rr$ y $n_r$: Porcentaje de valoraciones de cada película por cada usuario, y nº de valoraciones total, conocidos de antemano.\n",
    "- *X*: Matriz 2D de características de cada película, tamaño (nº de películas, nº de características).\n",
    "- $\\Theta$: Matriz 2D de coeficientes de cada usuario para cada película, tamaño (nº de usuarios, nº de características).\n",
    "- *Y*: Matrix 2D de valoraciones de cada usuario para cada película, tamaño (nº de usuarios, nº de películas).\n",
    "\n",
    "Para tener a mano, os dejamos esta tabla rápida para consultar el tamaño de cada matriz:\n",
    "- *X*(m, n + 1)\n",
    "- $\\Theta$($n_u$, n + 1)\n",
    "- *Y*(m, $n_u$)\n",
    "\n",
    "Para no complicar más la implementación, en este caso no preprocesaremos los datos, ya que deberíamos preprocesar *X* e *Y*, que además deberíamos pasar de una escala p. ej. 0-5 estrellas a [0, 1].\n",
    "\n",
    "En la siguiente celda, sigue las instrucciones para generar un dataset con las características necesarias para poder resolverlo por un filtro colaborativo de sistemas de recomendación:"
   ]
  },
  {
   "cell_type": "code",
   "execution_count": 32,
   "metadata": {},
   "outputs": [
    {
     "name": "stdout",
     "output_type": "stream",
     "text": [
      "Tamaño de X(m, n+1), Theta(n_u, n+1) e Y(m, n_u) verdaderos:\n",
      "(10, 5) (3, 5) (10, 3)\n",
      "Tamaño de y y R conocidas:\n",
      "(10, 3) (10, 3)\n",
      "Nº de elementos de R, o valoraciones conocidas: 15\n"
     ]
    }
   ],
   "source": [
    "# TODO: Crea un dataset con las características necesarias para un sistema de recomendación\n",
    "# Recuerda que puedes volver a esta celda y modificar el tamaño del dataset en cualquier momento\n",
    "\n",
    "m = 10    # Nº de ejemplos\n",
    "n = 4    # Nº de características de cada ejemplo/usuario\n",
    "n_u = 3    # Nº de usuarios\n",
    "n_rr = 0.5    # Porcentaje de valoraciones conocidas de antemano\n",
    "\n",
    "X_verd = np.random.rand(m, n)\n",
    "X_verd = np.insert(X_verd, 0, np.ones(m), axis=1)\n",
    "\n",
    "Theta_verd = np.random.rand(n_u, n + 1)\n",
    "\n",
    "Y_verd = np.matmul(X_verd, Theta_verd.T)\n",
    "\n",
    "r = np.zeros((m, n_u))\n",
    "count_r = round(n_rr * r.size)\n",
    "while count_r:\n",
    "    i = np.random.randint(m)\n",
    "    j = np.random.randint(n_u)\n",
    "    \n",
    "    if not r[i,j]:\n",
    "        r[i,j] = 1.\n",
    "    \n",
    "        count_r -= 1\n",
    "\n",
    "n_r = np.count_nonzero(r)\n",
    "\n",
    "y = np.multiply(Y_verd, r)\n",
    "\n",
    "print('Tamaño de X(m, n+1), Theta(n_u, n+1) e Y(m, n_u) verdaderos:')\n",
    "print(X_verd.shape, Theta_verd.shape, Y_verd.shape)\n",
    "print('Tamaño de y y R conocidas:')\n",
    "print(y.shape, r.shape)\n",
    "print('Nº de elementos de R, o valoraciones conocidas:', n_r)"
   ]
  },
  {
   "cell_type": "markdown",
   "metadata": {},
   "source": [
    "# Función de coste y descenso de gradiente\n",
    "\n",
    "Vamos a implementar la función de coste regularizada y el descenso de gradiente regularizado para optimizarla y entrenar el modelo de ML.\n",
    "\n",
    "Conceptualmente, en cuanto al entrenamiento del modelo por descenso de gradiente, vamos a seguir unos pasos diferentes a los de la regresión lineal.\n",
    "\n",
    "Mientras que en la regresión lineal eran conocidas *Y* y *X*, y podíamos resolver iterativamente para $\\Theta$, en esta ocasión *X* tampoco es conocida de antemano, ya que habitualmente es imposible en la práctica conocer o tener anotadas de antemano todas las características de todos los ejemplos o películas.\n",
    "\n",
    "Además, mientras que sí tenemos algunas valoraciones por cada usuario de algunas películas, habitualmente tenemos un porcentaje bajo de todas las valoraciones de cada usuario para cada ejemplo, por lo que *Y* es otra matriz variable no completamente conocida de antemano, sino que la mayoría de sus campos estarán vacíos inicialmente.\n",
    "\n",
    "Nuestro objetivo, en este caso, no será tanto resolver $\\Theta$ como resolver *Y* para obtener todas las valoraciones predichas de cada usuario para cada ejemplo.\n",
    "\n",
    "Por tanto, el algoritmo de entrenamiento será:\n",
    "1. Recopilamos los ejemplos y las valoraciones en las matrices *X*, $\\Theta$ e *Y*.\n",
    "1. Marcamos las valoraciones conocidas en la matriz dispersa *R*.\n",
    "1. Dadas *X* e *Y*, podemos predecir $\\Theta$.\n",
    "1. Dadas $\\Theta$ e *Y*, podemos predecir *X*.\n",
    "1. Estimamos de forma iterativa *X* y $\\Theta$ en cada iteración hasta que el entrenamiento converja en un coste mínimo.\n",
    "1. Cuando dispongamos de más valoraciones, reentrenamos el modelo añadiéndolas a *Y* y marcándolas en *R*.\n",
    "\n",
    "En la siguiente celda, sigue las instrucciones para implementar la función de coste y gradient descent regularizados para un filtro colaborativo, siguiendo las siguientes fórmulas:\n",
    "\n",
    "$$\n",
    "\\min\\limits_{\\theta^0, ..., \\theta^{n_u} \\\\ x^0, ..., x^{n_m}}J(x^0, ..., x^{n_m}, \\theta^0, ..., \\theta^{n_u}) = \\min\\limits_{\\theta^0, ..., \\theta^{n_u} \\\\ x^0, ..., x^{n_m}} (\\frac{1}{2} \\sum\\limits_{(i,j): r(i,j)=1} (\\theta^{jT} x^i - y^{i,j})^2 \\\\ + \\frac{\\lambda}{2} \\sum\\limits_{i=0}^{n_m} \\sum\\limits_{k=0}^n (x^i_k)^2 + \\frac{\\lambda}{2} \\sum\\limits_{j=0}^{n_u} \\sum\\limits_{k=0}^n (\\theta^j_k)^2) \\\\\n",
    "x^i_k := x^i_k - \\alpha (\\sum\\limits_{j: r(i,j) = 1} (\\theta^{j T} x^i - y^{i,j})\\theta^j_k + \\lambda x^i_k); \\\\\n",
    "\\theta^j_k := \\theta^j_k - \\alpha (\\sum\\limits_{i: r(i,j) = 1} (\\theta^{j T} x^i - y^{i,j}) x^i_k + \\lambda \\theta^j_k); j = 0 \\rightarrow \\lambda = 0\n",
    "$$"
   ]
  },
  {
   "cell_type": "code",
   "execution_count": 29,
   "metadata": {},
   "outputs": [],
   "source": [
    "# TODO: Implementa la función de coste y entrenamiento por descenso de gradiente para filtros colaborativos\n",
    "\n",
    "def cost_function_collaborative_filtering_regularized(x, theta, y, r, lambda_=0.):\n",
    "    j = np.sum(np.multiply(np.matmul(x, theta.T) - y, r)**2)\n",
    "    \n",
    "    x_reg = np.sum(x**2)\n",
    "    theta_reg = np.sum(theta[:, 1:]**2)\n",
    "    \n",
    "    return 1/2 * (j + lambda_ * (x_reg + theta_reg))\n",
    "\n",
    "\n",
    "def gradient_descent_collaborative_filtering_regularized(x, theta, y, r, lambda_=0., alpha=1e-3, n_iter=1e3, e=1e-3):\n",
    "    n_iter = int(n_iter)\n",
    "    \n",
    "    j_hist = []\n",
    "    j_hist.append(cost_function_collaborative_filtering_regularized(x, theta, y, r, lambda_))\n",
    "    \n",
    "    for l in range(n_iter):\n",
    "        theta_grad = np.zeros(theta.shape)\n",
    "        x_grad = np.zeros(x.shape)\n",
    "                \n",
    "        for j in range(n_u):\n",
    "            theta_grad[j,:] = np.sum(np.matmul(np.multiply((np.matmul(x, theta[j,:].T) - y[:,j]), r[:,j]).T, x), axis=0)\n",
    "            \n",
    "            if j > 0:\n",
    "                theta_grad[j,:] += lambda_ * theta[j,:]\n",
    "            \n",
    "        for i in range(m):\n",
    "            x_grad[i,:] = np.sum(np.matmul(np.multiply((np.matmul(x[i,:], theta.T) - y[i,:]), r[i,:]), theta), axis=0) \\\n",
    "                + lambda_ * x[i,:]\n",
    "        \n",
    "        x -= alpha * x_grad\n",
    "        theta -= alpha * theta_grad\n",
    "        \n",
    "        #print('\\nValores de X y Theta actualizados:')\n",
    "        #print(x)\n",
    "        #print(theta)\n",
    "        \n",
    "        j_cost = cost_function_collaborative_filtering_regularized(x, theta, y, r, lambda_)\n",
    "        j_hist.append(j_cost)\n",
    "        \n",
    "        if l > 0 and abs(j_cost - j_hist[-2]) <= e:\n",
    "            print('Converge en iteración nº', l)\n",
    "            \n",
    "            break\n",
    "    else:\n",
    "        print('Nº máx. de iteraciones {} alcanzado'.format(n_iter))\n",
    "        \n",
    "    return j_hist, x, theta"
   ]
  },
  {
   "cell_type": "markdown",
   "metadata": {},
   "source": [
    "# Entrenamiento del modelo\n",
    "\n",
    "Una vez implementadas las funciones correspondientes, vamos a entrenar el modelo.\n",
    "\n",
    "Para ello, completa la siguiente celda de código con pasos equivalentes a otros modelos de ejercicios previos."
   ]
  },
  {
   "cell_type": "code",
   "execution_count": 30,
   "metadata": {},
   "outputs": [
    {
     "name": "stdout",
     "output_type": "stream",
     "text": [
      "Hiperparámetros usados:\n",
      "Alpha: 0.01 Lambda: 0.0 Error: 0.001 Nº iter 10000.0\n",
      "Converge en iteración nº 28\n",
      "Duración del entrenamiento: 0.037807464599609375\n",
      "\n",
      "Últimos 10 valores de la función de coste:\n",
      "[0.07016343723411236, 0.06608165530140697, 0.06283730177998616, 0.060219277108107865, 0.05807462675057567, 0.05629205628656818, 0.05479011907397357, 0.053508778595484204, 0.05240339287901141, 0.05144042912363811]\n",
      "\n",
      "Error mínimo:\n",
      "0.05144042912363811\n"
     ]
    }
   ],
   "source": [
    "# TODO: Entrena un modelo de sistema de recomendación por filtros colaborativos\n",
    "\n",
    "x_init = np.random.rand(*X_verd.shape)\n",
    "theta_init = np.random.rand(*Theta_verd.shape)\n",
    "\n",
    "alpha = 1e-2\n",
    "lambda_ = 0.\n",
    "e = 1e-3\n",
    "n_iter = 1e4\n",
    "print('Hiperparámetros usados:')\n",
    "print('Alpha:', alpha, 'Lambda:', lambda_, 'Error:', e, 'Nº iter', n_iter)\n",
    "\n",
    "t0 = time.time()\n",
    "j_hist, x, theta = gradient_descent_collaborative_filtering_regularized(x_init, theta_init, y, r, lambda_, alpha, n_iter, e)\n",
    "print('Duración del entrenamiento:', time.time() - t0)\n",
    "\n",
    "print('\\nÚltimos 10 valores de la función de coste:')\n",
    "print(j_hist[-10:])\n",
    "print('\\nError mínimo:')\n",
    "print(min(j_hist))"
   ]
  },
  {
   "cell_type": "markdown",
   "metadata": {},
   "source": [
    "Como hemos hecho en ocasiones previas, representa gráficamente la evolución de la función de coste para comprobar que el entrenamiento del modelo ha sido correcto:"
   ]
  },
  {
   "cell_type": "code",
   "execution_count": 31,
   "metadata": {},
   "outputs": [
    {
     "data": {
      "image/png": "[encoded data removed]",
      "text/plain": [
       "<Figure size 432x288 with 1 Axes>"
      ]
     },
     "metadata": {
      "needs_background": "light"
     },
     "output_type": "display_data"
    }
   ],
   "source": [
    "# TODO: Representa gráficamente la función de coste del entrenamiento del modelo vs el nº de iteraciones\n",
    "plt.figure()\n",
    "\n",
    "plt.plot(j_hist)\n",
    "\n",
    "plt.title('Evolución de la función de coste')\n",
    "plt.ylabel('Coste')\n",
    "plt.xlabel('Iteraciones')\n",
    "plt.grid()\n",
    "\n",
    "plt.show()"
   ]
  },
  {
   "cell_type": "markdown",
   "metadata": {},
   "source": [
    "# Realización de predicciones de recomendaciones\n",
    "\n",
    "Una vez entrenado el modelo, podemos resolver la matriz de recomendaciones *Y*, que contiene como comentábamos tanto las valoraciones emitidas por los usuarios como una predicción de la valoración de cada usuario para cada ejemplo.\n",
    "\n",
    "Recuerda que utilizábamos la matriz *R* para marcar con un \"1\" las valoraciones reales y con un \"0\" aquellas que se han predicho y no eran conocidas de antemano.\n",
    "\n",
    "Para realizar una predicción y recomendar ejemplos a los usuarios (p. ej. películas), sigue las instrucciones para completar la siguiente celda de código:"
   ]
  },
  {
   "cell_type": "code",
   "execution_count": 51,
   "metadata": {},
   "outputs": [
    {
     "name": "stdout",
     "output_type": "stream",
     "text": [
      "Valoraciones de Y:\n",
      "[[0.         1.22421551 1.48896241]\n",
      " [1.98267391 1.08731658 0.        ]\n",
      " [1.45124962 0.99292357 0.        ]\n",
      " [0.         0.         0.        ]\n",
      " [1.08939999 0.97593332 1.12387915]\n",
      " [0.         0.         1.46845616]\n",
      " [1.88292244 0.         1.95052465]\n",
      " [0.         1.31784062 1.43945296]\n",
      " [0.         0.         0.        ]\n",
      " [2.00632392 0.         0.        ]]\n",
      "\n",
      "Predicciones de valoraciones:\n",
      "[[1.75105062 1.9347148  1.67332584]\n",
      " [1.35349798 1.30383134 1.24993609]\n",
      " [1.58722164 1.89675962 1.53091253]\n",
      " [1.31325682 1.1113693  1.05003628]\n",
      " [1.68553026 2.1239005  1.6609967 ]\n",
      " [1.36599057 1.08280368 1.32859415]\n",
      " [1.43362307 2.03391901 1.29056604]\n",
      " [1.0134053  1.10384852 0.91446066]\n",
      " [1.27810789 1.68755683 1.28045073]\n",
      " [1.24428612 1.41880827 1.13610998]]\n",
      "\n",
      "Residuos del modelo:\n",
      "[[0.         0.71049928 0.18436343]\n",
      " [0.62917593 0.21651476 0.        ]\n",
      " [0.13597203 0.90383604 0.        ]\n",
      " [0.         0.         0.        ]\n",
      " [0.59613027 1.14796718 0.53711754]\n",
      " [0.         0.         0.139862  ]\n",
      " [0.44929938 0.         0.65995861]\n",
      " [0.         0.2139921  0.5249923 ]\n",
      " [0.         0.         0.        ]\n",
      " [0.7620378  0.         0.        ]]\n",
      "\n",
      "Valoraciones reales y predichas para el usuario nº 2:\n",
      "[1.9347148  1.30383134 1.89675962 1.1113693  2.1239005  1.08280368\n",
      " 2.03391901 1.10384852 1.68755683 1.41880827]\n",
      "\n",
      "Valoraciones predichas para el usuario nº 2:\n",
      "[0.         0.         0.         1.1113693  0.         1.08280368\n",
      " 2.03391901 0.         1.68755683 1.41880827]\n",
      "\n",
      "Índices de los ejemplos a recomendar para el usuario 2, en función de las valoraciones predichas:\n",
      "[6 8 9 3 5 7 4 2 1 0]\n"
     ]
    }
   ],
   "source": [
    "# TODO: Realiza predicciones de ejemplos para los usuarios\n",
    "\n",
    "# Muestra las valoraciones de la matriz Y\n",
    "print('Valoraciones de Y:')\n",
    "print(y[:10,:10] * r[:10, :10])    # Limita el nº de filas y columnas de Y si es necesario\n",
    "# En el resultado, un valor de \"0.\" indica un \"0.\" en esa posición en R, o que esa valoración inicial no es conocida\n",
    "\n",
    "# Calcula las predicciones obtenidas por el modelo a partir de X y Theta\n",
    "y_pred = np.matmul(x, theta.T)\n",
    "\n",
    "print('\\nPredicciones de valoraciones:')\n",
    "print(y_pred[:10,:10])\n",
    "\n",
    "# Calcula los residuos de las predicciones\n",
    "# Recuerda que los residuos son la diferencia en valores absolutos entre el valor real conocido y la predicción del modelo\n",
    "# Recuerda calcularlos sólo cuando la valoración inicial es conocida, multiplicando los residuos por R\n",
    "y_residuo = abs((y - y_pred) * r)\n",
    "\n",
    "print('\\nResiduos del modelo:')\n",
    "print(y_residuo[:10,:10])\n",
    "\n",
    "# Muestra las predicciones y valoraciones iniciales de un usuario dado\n",
    "jj = 1    # Escoge el nº de usuario o índice entre 0 y n_u que quieras\n",
    "\n",
    "print('\\nValoraciones reales y predichas para el usuario nº {}:'.format(jj + 1))\n",
    "print(y_pred[:,jj])\n",
    "\n",
    "# Ordena los índices de los ejemplos que recomendaríamos a cada usuario en función de sus valoraciones\n",
    "# Recuerda eliminar de la lista las valoraciones emitidas inicialmente por el usuario\n",
    "# Para eliminarlas, puedes multiplicar las predicciones por (r[:,jj] == 0.)\n",
    "# Para extraer los índices ordenados de un array puedes utilizar np.argsort()\n",
    "# Para reordenar los índices de mayor a menor puedes utilizar np.flip()\n",
    "print('\\nValoraciones predichas para el usuario nº {}:'.format(jj + 1))\n",
    "print(y_pred[:,jj] * (r[:,jj] == 0.))\n",
    "\n",
    "y_pred_ord = np.flip(np.argsort(y_pred[:,jj] * (r[:,jj] == 0.)))\n",
    "\n",
    "print('\\nÍndices de los ejemplos a recomendar para el usuario {}, en función de las valoraciones predichas:'.format(jj + 1))\n",
    "print(y_pred_ord)"
   ]
  },
  {
   "cell_type": "markdown",
   "metadata": {},
   "source": [
    "# Reentrenar incorporando nuevas valoraciones\n",
    "\n",
    "Para reentrenar el modelo incorporando nuevas valoraciones de los usuarios, sólo hay que modificar la *Y* inicial con las nuevas valoraciones y marcar con un \"1\" la posición en la matriz *R*.\n",
    "\n",
    "Sigue las instrucciones de la siguiente celda para incorporar 2 nuevas valoraciones:"
   ]
  },
  {
   "cell_type": "code",
   "execution_count": null,
   "metadata": {},
   "outputs": [],
   "source": [
    "# TODO: Incorpora 2 nuevas valoraciones de usuarios a un ejemplo a tu elección\n",
    "\n",
    "# Escoge un índice de usuario y de ejemplo\n",
    "i_1 = 2\n",
    "j_1 = 2\n",
    "i_2 = 3\n",
    "j_3 = 3\n",
    "\n",
    "# Escoge una valoración. Habitualmente toman valores entre [0, 2)\n",
    "y[i_1,j_1] = 1.    \n",
    "y[i_2,j_2] = 1.\n",
    "\n",
    "# Marca las nuevas valoraciones en R\n",
    "r[i_1,j_1] = 1.\n",
    "r[i_2,j_2] = 1."
   ]
  },
  {
   "cell_type": "markdown",
   "metadata": {},
   "source": [
    "Ahora reentrena el modelo reejecutando la celda de entrenamiento del modelo y las celdas siguientes hasta la celda anterior.\n",
    "\n",
    "Comprueba cómo ahora dichas posiciones muestran la nueva valoración y no una predicción del modelo."
   ]
  },
  {
   "cell_type": "markdown",
   "metadata": {},
   "source": [
    "# Encontrar ejemplos y usuarios similares\n",
    "\n",
    "Para encontrar la similitud entre 2 elementos, podemos computar la distancia euclídea entre ambos.\n",
    "\n",
    "La distancia euclídea en este espacio n-dimensional representará la diferencia acumulada entre los coeficientes de dichos elementos, al igual que una distancia en un plano 2D o 3D es la diferencia acumulada entre las coordenadas de dichos puntos.\n",
    "\n",
    "Encuentra ejemplos y usuarios similares siguiendo las instrucciones de la siguiente celda:"
   ]
  },
  {
   "cell_type": "code",
   "execution_count": null,
   "metadata": {},
   "outputs": [],
   "source": [
    "# TODO: Encuentra ejemplos y usuarios similares entre sí\n",
    "\n",
    "# Calcula la similaridad entre los 4 primeros ejemplos\n",
    "dist_ej = distance.cdist(x[:4,:], x[:4,:], 'euclidean')\n",
    "\n",
    "print('Similariad entre los 4 primeros ejemplos:')\n",
    "print(dist_ej)\n",
    "\n",
    "# Calcula la similaridad entre los 4 primeros usuarios\n",
    "dist_us = distance.cdist(theta[:4,:], theta[:4,:], 'euclidean')\n",
    "\n",
    "print('Similariad entre los 4 primeros usuarios:')\n",
    "print(dist_us)\n",
    "\n",
    "# Calcula el ejemplo más similar al primero\n",
    "i_ej_similar = [...]\n",
    "ej_similar = [...]\n",
    "\n",
    "print('Coeficientes del ejemplo nº {} para los 5 primeros usuarios:'.format(0 + 1))\n",
    "print(x[0,:5])\n",
    "print('El ejemplo más similar al nº {} es el ejemplo nº {}'.format(0 + 1, i_ej_similar))\n",
    "print('Coeficientes del ejemplo nº {} para los 5 primeros usuarios:'.format(i_ej_similar))\n",
    "print(ej_similar[:5])\n",
    "\n",
    "# Calcula el usuario más similar al primero\n",
    "i_us_similar = [...]\n",
    "us_similar = [...]\n",
    "\n",
    "print('Coeficientes del usuario nº {} para los 5 primeros ejemplos:'.format(0 + 1))\n",
    "print(theta[0,:5])\n",
    "print('El usuario más similar al nº {} es el usuario nº {}'.format(0 + 1, i_us_similar))\n",
    "print('Coeficientes del usuario nº {} para los 5 primeros ejemplos:'.format(i_us_similar))\n",
    "print(us_similar[:5])"
   ]
  },
  {
   "cell_type": "markdown",
   "metadata": {},
   "source": [
    "## Bonus: Comprobar qué sucede si no tenemos un nº mínimo de valoraciones\n",
    "\n",
    "*¿Qué sucede si no tenemos un nº mínimo de valoraciones? ¿Y si hay algún ejemplo que no cuenta con ninguna valoración de ningún usuario, o un usuario que no ha valorado ningún ejemplo?*\n",
    "\n",
    "*¿Crees que, en ese caso, podríamos entrenar el modelo y obtener resultados para dichos ejemplos y usuarios?*\n",
    "\n",
    "Para comprobarlo, puedes p. ej. disminuir el porcentaje de valoraciones iniciales hasta un valor bajo, p. ej. un 25%, y comprobar qué sucede con la evolución de la función de coste del entrenamiento."
   ]
  }
 ],
 "metadata": {
  "environment": {
   "name": "common-cpu.m54",
   "type": "gcloud",
   "uri": "gcr.io/deeplearning-platform-release/base-cpu:m54"
  },
  "kernelspec": {
   "display_name": "Python 3",
   "language": "python",
   "name": "python3"
  },
  "language_info": {
   "codemirror_mode": {
    "name": "ipython",
    "version": 3
   },
   "file_extension": ".py",
   "mimetype": "text/x-python",
   "name": "python",
   "nbconvert_exporter": "python",
   "pygments_lexer": "ipython3",
   "version": "3.7.8"
  }
 },
 "nbformat": 4,
 "nbformat_minor": 4
}
